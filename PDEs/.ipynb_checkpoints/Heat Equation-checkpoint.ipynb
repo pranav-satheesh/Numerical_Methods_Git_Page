{
 "cells": [
  {
   "cell_type": "code",
   "execution_count": 1,
   "metadata": {},
   "outputs": [],
   "source": [
    "import numpy as np\n",
    "import matplotlib.pyplot as plt\n",
    "from scipy import sparse\n",
    "from scipy.sparse import diags"
   ]
  },
  {
   "cell_type": "code",
   "execution_count": 3,
   "metadata": {},
   "outputs": [],
   "source": [
    "def ForwardEuler(M,alpha, T =30, L = 1, k = 1): \n",
    "    \n",
    "   \n",
    "    #M = GRID POINTS on space interval\n",
    "    N = (M**2) #GRID POINTS on time interval\n",
    "\n",
    "    \n",
    "    x0 = 0\n",
    "    xL = L\n",
    "\n",
    "    dx = (xL - x0)/(M-1)\n",
    "\n",
    "    \n",
    "    t0 = 0\n",
    "    tF = T \n",
    "\n",
    "    \n",
    "    dt = (tF - t0)/(N-1)\n",
    "\n",
    "    #alpha = dt*k/dx**2\n",
    "    \n",
    "    #grids\n",
    "    xspan = np.linspace(x0, xL, M)\n",
    "    tspan = np.linspace(t0, tF, N)\n",
    "\n",
    "    \n",
    "    U = np.zeros((M, N))\n",
    "\n",
    "    # ----- Initial condition -----\n",
    "    U[:,0] = 4*xspan*(1-xspan)\n",
    "\n",
    "    # ----- Boundary conditions -----\n",
    "\n",
    "    U[0,:] = 0;\n",
    "    U[-1,:] = 0;\n",
    "    \n",
    "    #FTCS-\n",
    "    for k in range(0, N-1):\n",
    "        for i in range(1, M-1):\n",
    "            U[i, k+1] = alpha*U[i-1, k] + (1-2*alpha)*U[i,k] + alpha*U[i+1,k] \n",
    "    \n",
    "    return (U, tspan, xspan)\n",
    "\n"
   ]
  },
  {
   "cell_type": "code",
   "execution_count": 387,
   "metadata": {},
   "outputs": [],
   "source": [
    "def BackwardEuler(M,alpha, T =30, L = 1, k = 1): \n",
    "    \n",
    "    \n",
    "    # M = GRID POINTS on space interval\n",
    "    N = (M**2) #GRID POINTS on time interval\n",
    "\n",
    "    # ---- Length of the wire in x direction ---- \n",
    "    x0, xL = 0, L \n",
    "\n",
    "    # ----- Spatial discretization step -----\n",
    "    dx = (xL - x0)/(M-1)\n",
    "\n",
    "    # ---- Final time ---- \n",
    "    t0, tF = 0, T \n",
    "\n",
    "    # ----- Time step -----\n",
    "    dt = (tF - t0)/(N-1)\n",
    "\n",
    "    # k = 1.0 Diffusion coefficient\n",
    "    \n",
    "    #alpha = dt*k/dx**2\n",
    "    \n",
    "\n",
    "    xspan = np.linspace(x0, xL, M)\n",
    "    tspan = np.linspace(t0, tF, N)\n",
    "\n",
    "    main_diag = (1 + 2*alpha)*np.ones((1,M-2))\n",
    "    off_diag = -alpha*np.ones((1, M-3))\n",
    "    \n",
    "    \n",
    "    a = main_diag.shape[1]\n",
    "    diagonals = [main_diag, off_diag, off_diag]\n",
    "\n",
    "    #Sparse Matrix diagonals\n",
    "    A = sparse.diags(diagonals, [0,-1,1], shape=(a,a)).toarray()\n",
    "  \n",
    "\n",
    "    # --- Initializes matrix U -----\n",
    "    U = np.zeros((M, N))\n",
    "\n",
    "    # ----- Initial condition -----\n",
    "    U[:,0] = 4*xspan*(1-xspan)\n",
    "\n",
    "    # ----- Boundary conditions -----\n",
    "    U[0,:] = 0;\n",
    "    U[-1,:] = 0;\n",
    "\n",
    "\n",
    "\n",
    "    for i in range(1, N):\n",
    "        c = np.zeros((M-4,1)).ravel()\n",
    "        \n",
    "        b1 = np.asarray([alpha*U[0,i],alpha*U[-1,i]])\n",
    "        \n",
    "        b1 = np.insert(b1, 1, c)\n",
    "        \n",
    "        b2 = np.array(U[1:M-1, i-1])\n",
    "        \n",
    "        b = b1 + b2  # Right hand side\n",
    "        \n",
    "        U[1:M-1, i] = np.linalg.solve(A,b)  # Solve x=A\\b\n",
    "   \n",
    "    return (U, tspan, xspan)\n",
    "\n"
   ]
  },
  {
   "cell_type": "code",
   "execution_count": 393,
   "metadata": {},
   "outputs": [],
   "source": [
    "def CrankNicolson(M, alpha, T = 0.5, L = 1, k = 1):\n",
    "    #Parameters needed to solve the equation within the explicit method\n",
    "    # M = GRID POINTS on space interval\n",
    "    N = (M**2) #GRID POINTS on time interval\n",
    "\n",
    "    # ---- Length of the wire in x direction ---- \n",
    "    x0, xL = 0, L\n",
    "\n",
    "    # ----- Spatial discretization step -----\n",
    "    dx = (xL - x0)/(M-1)\n",
    "\n",
    "    # ---- Final time ---- \n",
    "    t0, tF = 0, T \n",
    "\n",
    "    # ----- Time step -----\n",
    "    dt = (tF - t0)/(N-1)\n",
    "\n",
    "    #alpha = dt*k/(2.0*dx**2)\n",
    "    a0 = 1 + 2*alpha\n",
    "    c0 = 1 - 2*alpha\n",
    "\n",
    "    xspan = np.linspace(x0, xL, M)\n",
    "    tspan = np.linspace(t0, tF, N)\n",
    "\n",
    "    maindiag_a0 = a0*np.ones((1,M-2))\n",
    "    offdiag_a0 = (-alpha)*np.ones((1, M-3))\n",
    "\n",
    "    maindiag_c0 = c0*np.ones((1,M-2))\n",
    "    offdiag_c0 = alpha*np.ones((1, M-3))\n",
    "\n",
    "    #Left-hand side tri-diagonal matrix\n",
    "    a = maindiag_a0.shape[1]\n",
    "    diagonalsA = [maindiag_a0, offdiag_a0, offdiag_a0]\n",
    "    A = sparse.diags(diagonalsA, [0,-1,1], shape=(a,a)).toarray()\n",
    "    \n",
    "   \n",
    "\n",
    "    #Right-hand side tri-diagonal matrix\n",
    "    c = maindiag_c0.shape[1]\n",
    "    diagonalsC = [maindiag_c0, offdiag_c0, offdiag_c0]\n",
    "    \n",
    "    Arhs = sparse.diags(diagonalsC, [0,-1,1], shape=(c,c)).toarray()\n",
    "    \n",
    "\n",
    "    # ----- Initializes matrix U -----\n",
    "    U = np.zeros((M, N))\n",
    "    \n",
    "    \n",
    "    # ----- Initial condition -----\n",
    "    U[:,0] = 4*xspan*(1-xspan)\n",
    "\n",
    "    # ----- Boundary conditions -----\n",
    "\n",
    "    U[0,:] = 0;\n",
    "    U[-1,:] = 0;\n",
    "    \n",
    "    for i in range(1, N):\n",
    "        c = np.zeros((M-4,1)).ravel()\n",
    "        \n",
    "        b1 = np.asarray([alpha*U[0,i],alpha*U[-1,i]])\n",
    "        \n",
    "        b1 = np.insert(b1, 1, c)\n",
    "        \n",
    "        b2 = np.array(U[1:M-1, i-1])\n",
    "        \n",
    "        b = b1 + b2  # Right hand side\n",
    "        \n",
    "        U[1:M-1, i] = np.linalg.solve(A,b)  # Solve x=A\\b\n",
    "   \n",
    "    return (U, tspan, xspan)\n",
    "\n",
    "\n",
    "    for k in range(1, N):\n",
    "        \n",
    "        ins = np.zeros((M-4,1)).ravel()\n",
    "        \n",
    "        b1 = np.asarray([alpha*U[0,i],alpha*U[-1,i]])\n",
    "        \n",
    "        b1 = np.insert(b1, 1, ins)\n",
    "        \n",
    "        b2 = np.matmul(Arhs, np.array(U[1:M-1, k-1]))\n",
    "        \n",
    "        b = b1 + b2  # Right hand side\n",
    "        \n",
    "        U[0:M, k] = np.linalg.solve(A,b)  # Solve x=A\\b\n",
    "    \n",
    "    return (U, tspan, xspan)\n",
    "\n"
   ]
  },
  {
   "cell_type": "code",
   "execution_count": 288,
   "metadata": {},
   "outputs": [
    {
     "data": {
      "image/png": "[encoded data removed]",
      "text/plain": [
       "<Figure size 432x288 with 2 Axes>"
      ]
     },
     "metadata": {
      "needs_background": "light"
     },
     "output_type": "display_data"
    }
   ],
   "source": [
    "U, tspan, xspan = ForwardEuler(10,1.0/8.0)\n",
    "U = np.transpose(U)\n",
    "\n",
    "plt.contourf(xspan,tspan,U, 50, cmap='jet')\n",
    "plt.colorbar();"
   ]
  },
  {
   "cell_type": "code",
   "execution_count": 388,
   "metadata": {},
   "outputs": [],
   "source": [
    "U, tspan, xspan = BackwardEuler(10,1.0/8.0)"
   ]
  },
  {
   "cell_type": "code",
   "execution_count": 390,
   "metadata": {},
   "outputs": [
    {
     "data": {
      "image/png": "[encoded data removed]",
      "text/plain": [
       "<Figure size 432x288 with 2 Axes>"
      ]
     },
     "metadata": {
      "needs_background": "light"
     },
     "output_type": "display_data"
    }
   ],
   "source": [
    "U, tspan, xspan = BackwardEuler(10,1.0/8.0)\n",
    "U = np.transpose(U)\n",
    "\n",
    "plt.contourf(xspan,tspan,U, 50, cmap='jet')\n",
    "plt.colorbar();"
   ]
  },
  {
   "cell_type": "code",
   "execution_count": 396,
   "metadata": {},
   "outputs": [
    {
     "data": {
      "image/png": "[encoded data removed]",
      "text/plain": [
       "<Figure size 432x288 with 2 Axes>"
      ]
     },
     "metadata": {
      "needs_background": "light"
     },
     "output_type": "display_data"
    }
   ],
   "source": [
    "U, tspan, xspan = CrankNicolson(10,1.0/8.0)\n",
    "U = np.transpose(U)\n",
    "\n",
    "plt.contourf(xspan,tspan,U, 50, cmap='jet')\n",
    "plt.colorbar();"
   ]
  },
  {
   "cell_type": "code",
   "execution_count": 74,
   "metadata": {},
   "outputs": [],
   "source": [
    "def f(x):\n",
    "    return np.exp(- x**2)\n",
    "\n",
    "def g(x):\n",
    "    return x*0\n",
    "\n",
    "def h(x):\n",
    "    return x*0\n"
   ]
  },
  {
   "cell_type": "code",
   "execution_count": 105,
   "metadata": {},
   "outputs": [],
   "source": [
    "def BTCS_Neumann(xlims,tlims,dx,dt,initial,lBC,rBC,D):\n",
    "         \n",
    "         # M= GRID POINTS on space interval\n",
    "         # N= GRID POINTS on time interval\n",
    "         # D = Diffusion coefficient\n",
    "            \n",
    "    x0,xL = xlims\n",
    "    t0,tF = tlims\n",
    "   \n",
    "\n",
    "    # ----- Spatial discretization step -----\n",
    "    M = int((xL - x0)/dx + 1)\n",
    "\n",
    "    # ----- Time step -----\n",
    "    N = int((tF - t0)/dt + 1)\n",
    "\n",
    "    r = dt*D/dx**2\n",
    "    a = 1 + 2*r\n",
    "    \n",
    "    print(M,N,dx,dt,r)\n",
    "    \n",
    "    xspan = np.linspace(x0, xL, M)\n",
    "    tspan = np.linspace(t0, tF, N)\n",
    "\n",
    "    main_diag = (1 + 2*r)*np.ones((1,M))\n",
    "    off_diag = -r*np.ones((1, M-1))\n",
    "    \n",
    "    a = main_diag.shape[1]\n",
    "\n",
    "    diagonals = [main_diag, off_diag, off_diag]\n",
    "    \n",
    "    A = sparse.diags(diagonals, [0,-1,1], shape=(a,a)).toarray()\n",
    "    A[0,1] = -2*r\n",
    "    A[M-1,M-2] = -2*r\n",
    "    \n",
    "    # ----- Initializes matrix U -----\n",
    "    U = np.zeros((M, N))\n",
    "\n",
    "    #----- Initial condition -----\n",
    "    U[:,0] = initial(xspan)\n",
    "\n",
    "    #----- Neumann boundary conditions -----\n",
    "    leftBC = np.arange(1, N+1)\n",
    "    f = lBC(leftBC)\n",
    "\n",
    "    rightBC = np.arange(1, N+1)\n",
    "    g = rBC(rightBC)\n",
    "\n",
    "   \n",
    "    for k in range(1, N):\n",
    "        \n",
    "        c = np.zeros((M-2,1)).ravel()\n",
    "        b1 = np.asarray([2*r*dx*f[k], 2*r*dx*g[k]])\n",
    "        b1 = np.insert(b1, 1, c)\n",
    "        b2 = np.array(U[0:M, k-1])\n",
    "        b = b1 + b2  # Right hand side\n",
    "        U[0:M, k] = np.linalg.solve(A,b)  # Solve x=A\\b\n",
    "\n",
    "    return xspan,tspan,U"
   ]
  },
  {
   "cell_type": "code",
   "execution_count": 106,
   "metadata": {},
   "outputs": [
    {
     "data": {
      "text/plain": [
       "101.0"
      ]
     },
     "execution_count": 106,
     "metadata": {},
     "output_type": "execute_result"
    }
   ],
   "source": [
    "10/0.1 + 1"
   ]
  },
  {
   "cell_type": "code",
   "execution_count": 110,
   "metadata": {},
   "outputs": [
    {
     "data": {
      "text/plain": [
       "0.19999999999999998"
      ]
     },
     "execution_count": 110,
     "metadata": {},
     "output_type": "execute_result"
    }
   ],
   "source": [
    "0.01/0.05"
   ]
  },
  {
   "cell_type": "code",
   "execution_count": 134,
   "metadata": {},
   "outputs": [
    {
     "ename": "ImportError",
     "evalue": "cannot import name 'BTCS_Neu' from 'PDEmethods' (/home/pranav/Desktop/Numerical_Methods_Git_Page/PDEs/PDEmethods.py)",
     "output_type": "error",
     "traceback": [
      "\u001b[0;31m---------------------------------------------------------------------------\u001b[0m",
      "\u001b[0;31mImportError\u001b[0m                               Traceback (most recent call last)",
      "\u001b[0;32m<ipython-input-134-6f78dc3c15bf>\u001b[0m in \u001b[0;36m<module>\u001b[0;34m\u001b[0m\n\u001b[0;32m----> 1\u001b[0;31m \u001b[0;32mfrom\u001b[0m \u001b[0mPDEmethods\u001b[0m \u001b[0;32mimport\u001b[0m \u001b[0mBTCS_Neu\u001b[0m\u001b[0;34m\u001b[0m\u001b[0;34m\u001b[0m\u001b[0m\n\u001b[0m",
      "\u001b[0;31mImportError\u001b[0m: cannot import name 'BTCS_Neu' from 'PDEmethods' (/home/pranav/Desktop/Numerical_Methods_Git_Page/PDEs/PDEmethods.py)"
     ]
    }
   ],
   "source": [
    "from PDEmethods import BTCS_Neu"
   ]
  },
  {
   "cell_type": "code",
   "execution_count": 132,
   "metadata": {},
   "outputs": [
    {
     "ename": "TypeError",
     "evalue": "BTCS_Neumann() missing 2 required positional arguments: 'rBC' and 'D'",
     "output_type": "error",
     "traceback": [
      "\u001b[0;31m---------------------------------------------------------------------------\u001b[0m",
      "\u001b[0;31mTypeError\u001b[0m                                 Traceback (most recent call last)",
      "\u001b[0;32m<ipython-input-132-020a1393ed0f>\u001b[0m in \u001b[0;36m<module>\u001b[0;34m\u001b[0m\n\u001b[0;32m----> 1\u001b[0;31m \u001b[0mx\u001b[0m\u001b[0;34m,\u001b[0m\u001b[0mt\u001b[0m\u001b[0;34m,\u001b[0m\u001b[0mU\u001b[0m \u001b[0;34m=\u001b[0m \u001b[0mBTCS_Neumann\u001b[0m\u001b[0;34m(\u001b[0m\u001b[0;34m[\u001b[0m\u001b[0;34m-\u001b[0m\u001b[0;36m5\u001b[0m\u001b[0;34m,\u001b[0m\u001b[0;36m5\u001b[0m\u001b[0;34m]\u001b[0m\u001b[0;34m,\u001b[0m\u001b[0;34m[\u001b[0m\u001b[0;36m0\u001b[0m\u001b[0;34m,\u001b[0m\u001b[0;36m200\u001b[0m\u001b[0;34m]\u001b[0m\u001b[0;34m,\u001b[0m\u001b[0;36m0.1\u001b[0m\u001b[0;34m,\u001b[0m\u001b[0;36m0.05\u001b[0m\u001b[0;34m,\u001b[0m\u001b[0mf\u001b[0m\u001b[0;34m,\u001b[0m\u001b[0mg\u001b[0m\u001b[0;34m,\u001b[0m\u001b[0mh\u001b[0m\u001b[0;34m,\u001b[0m\u001b[0;36m0.1\u001b[0m\u001b[0;34m)\u001b[0m\u001b[0;34m\u001b[0m\u001b[0;34m\u001b[0m\u001b[0m\n\u001b[0m",
      "\u001b[0;31mTypeError\u001b[0m: BTCS_Neumann() missing 2 required positional arguments: 'rBC' and 'D'"
     ]
    }
   ],
   "source": [
    "x,t,U = BTCS_Neumann([-5,5],[0,200],0.1,0.05,f,g,h,0.1)"
   ]
  },
  {
   "cell_type": "code",
   "execution_count": 128,
   "metadata": {},
   "outputs": [
    {
     "ename": "TypeError",
     "evalue": "Length of x (101) must match number of columns in z (4001)",
     "output_type": "error",
     "traceback": [
      "\u001b[0;31m---------------------------------------------------------------------------\u001b[0m",
      "\u001b[0;31mTypeError\u001b[0m                                 Traceback (most recent call last)",
      "\u001b[0;32m<ipython-input-128-57c28d2caa22>\u001b[0m in \u001b[0;36m<module>\u001b[0;34m\u001b[0m\n\u001b[1;32m      1\u001b[0m \u001b[0mU\u001b[0m \u001b[0;34m=\u001b[0m \u001b[0mnp\u001b[0m\u001b[0;34m.\u001b[0m\u001b[0mtranspose\u001b[0m\u001b[0;34m(\u001b[0m\u001b[0mU\u001b[0m\u001b[0;34m)\u001b[0m\u001b[0;34m\u001b[0m\u001b[0;34m\u001b[0m\u001b[0m\n\u001b[1;32m      2\u001b[0m \u001b[0;34m\u001b[0m\u001b[0m\n\u001b[0;32m----> 3\u001b[0;31m \u001b[0mplt\u001b[0m\u001b[0;34m.\u001b[0m\u001b[0mcontourf\u001b[0m\u001b[0;34m(\u001b[0m\u001b[0mx\u001b[0m\u001b[0;34m,\u001b[0m\u001b[0mt\u001b[0m\u001b[0;34m,\u001b[0m\u001b[0mU\u001b[0m\u001b[0;34m,\u001b[0m \u001b[0;36m50\u001b[0m\u001b[0;34m,\u001b[0m \u001b[0mcmap\u001b[0m\u001b[0;34m=\u001b[0m\u001b[0;34m'jet'\u001b[0m\u001b[0;34m)\u001b[0m\u001b[0;34m\u001b[0m\u001b[0;34m\u001b[0m\u001b[0m\n\u001b[0m\u001b[1;32m      4\u001b[0m \u001b[0mplt\u001b[0m\u001b[0;34m.\u001b[0m\u001b[0mcolorbar\u001b[0m\u001b[0;34m(\u001b[0m\u001b[0;34m)\u001b[0m\u001b[0;34m;\u001b[0m\u001b[0;34m\u001b[0m\u001b[0;34m\u001b[0m\u001b[0m\n",
      "\u001b[0;32m~/miniconda3/lib/python3.7/site-packages/matplotlib/pyplot.py\u001b[0m in \u001b[0;36mcontourf\u001b[0;34m(data, *args, **kwargs)\u001b[0m\n\u001b[1;32m   2561\u001b[0m     __ret = gca().contourf(\n\u001b[1;32m   2562\u001b[0m         \u001b[0;34m*\u001b[0m\u001b[0margs\u001b[0m\u001b[0;34m,\u001b[0m \u001b[0;34m**\u001b[0m\u001b[0;34m(\u001b[0m\u001b[0;34m{\u001b[0m\u001b[0;34m\"data\"\u001b[0m\u001b[0;34m:\u001b[0m \u001b[0mdata\u001b[0m\u001b[0;34m}\u001b[0m \u001b[0;32mif\u001b[0m \u001b[0mdata\u001b[0m \u001b[0;32mis\u001b[0m \u001b[0;32mnot\u001b[0m \u001b[0;32mNone\u001b[0m \u001b[0;32melse\u001b[0m \u001b[0;34m{\u001b[0m\u001b[0;34m}\u001b[0m\u001b[0;34m)\u001b[0m\u001b[0;34m,\u001b[0m\u001b[0;34m\u001b[0m\u001b[0;34m\u001b[0m\u001b[0m\n\u001b[0;32m-> 2563\u001b[0;31m         **kwargs)\n\u001b[0m\u001b[1;32m   2564\u001b[0m     \u001b[0;32mif\u001b[0m \u001b[0m__ret\u001b[0m\u001b[0;34m.\u001b[0m\u001b[0m_A\u001b[0m \u001b[0;32mis\u001b[0m \u001b[0;32mnot\u001b[0m \u001b[0;32mNone\u001b[0m\u001b[0;34m:\u001b[0m \u001b[0msci\u001b[0m\u001b[0;34m(\u001b[0m\u001b[0m__ret\u001b[0m\u001b[0;34m)\u001b[0m  \u001b[0;31m# noqa\u001b[0m\u001b[0;34m\u001b[0m\u001b[0;34m\u001b[0m\u001b[0m\n\u001b[1;32m   2565\u001b[0m     \u001b[0;32mreturn\u001b[0m \u001b[0m__ret\u001b[0m\u001b[0;34m\u001b[0m\u001b[0;34m\u001b[0m\u001b[0m\n",
      "\u001b[0;32m~/miniconda3/lib/python3.7/site-packages/matplotlib/__init__.py\u001b[0m in \u001b[0;36minner\u001b[0;34m(ax, data, *args, **kwargs)\u001b[0m\n\u001b[1;32m   1436\u001b[0m     \u001b[0;32mdef\u001b[0m \u001b[0minner\u001b[0m\u001b[0;34m(\u001b[0m\u001b[0max\u001b[0m\u001b[0;34m,\u001b[0m \u001b[0;34m*\u001b[0m\u001b[0margs\u001b[0m\u001b[0;34m,\u001b[0m \u001b[0mdata\u001b[0m\u001b[0;34m=\u001b[0m\u001b[0;32mNone\u001b[0m\u001b[0;34m,\u001b[0m \u001b[0;34m**\u001b[0m\u001b[0mkwargs\u001b[0m\u001b[0;34m)\u001b[0m\u001b[0;34m:\u001b[0m\u001b[0;34m\u001b[0m\u001b[0;34m\u001b[0m\u001b[0m\n\u001b[1;32m   1437\u001b[0m         \u001b[0;32mif\u001b[0m \u001b[0mdata\u001b[0m \u001b[0;32mis\u001b[0m \u001b[0;32mNone\u001b[0m\u001b[0;34m:\u001b[0m\u001b[0;34m\u001b[0m\u001b[0;34m\u001b[0m\u001b[0m\n\u001b[0;32m-> 1438\u001b[0;31m             \u001b[0;32mreturn\u001b[0m \u001b[0mfunc\u001b[0m\u001b[0;34m(\u001b[0m\u001b[0max\u001b[0m\u001b[0;34m,\u001b[0m \u001b[0;34m*\u001b[0m\u001b[0mmap\u001b[0m\u001b[0;34m(\u001b[0m\u001b[0msanitize_sequence\u001b[0m\u001b[0;34m,\u001b[0m \u001b[0margs\u001b[0m\u001b[0;34m)\u001b[0m\u001b[0;34m,\u001b[0m \u001b[0;34m**\u001b[0m\u001b[0mkwargs\u001b[0m\u001b[0;34m)\u001b[0m\u001b[0;34m\u001b[0m\u001b[0;34m\u001b[0m\u001b[0m\n\u001b[0m\u001b[1;32m   1439\u001b[0m \u001b[0;34m\u001b[0m\u001b[0m\n\u001b[1;32m   1440\u001b[0m         \u001b[0mbound\u001b[0m \u001b[0;34m=\u001b[0m \u001b[0mnew_sig\u001b[0m\u001b[0;34m.\u001b[0m\u001b[0mbind\u001b[0m\u001b[0;34m(\u001b[0m\u001b[0max\u001b[0m\u001b[0;34m,\u001b[0m \u001b[0;34m*\u001b[0m\u001b[0margs\u001b[0m\u001b[0;34m,\u001b[0m \u001b[0;34m**\u001b[0m\u001b[0mkwargs\u001b[0m\u001b[0;34m)\u001b[0m\u001b[0;34m\u001b[0m\u001b[0;34m\u001b[0m\u001b[0m\n",
      "\u001b[0;32m~/miniconda3/lib/python3.7/site-packages/matplotlib/axes/_axes.py\u001b[0m in \u001b[0;36mcontourf\u001b[0;34m(self, *args, **kwargs)\u001b[0m\n\u001b[1;32m   6330\u001b[0m     \u001b[0;32mdef\u001b[0m \u001b[0mcontourf\u001b[0m\u001b[0;34m(\u001b[0m\u001b[0mself\u001b[0m\u001b[0;34m,\u001b[0m \u001b[0;34m*\u001b[0m\u001b[0margs\u001b[0m\u001b[0;34m,\u001b[0m \u001b[0;34m**\u001b[0m\u001b[0mkwargs\u001b[0m\u001b[0;34m)\u001b[0m\u001b[0;34m:\u001b[0m\u001b[0;34m\u001b[0m\u001b[0;34m\u001b[0m\u001b[0m\n\u001b[1;32m   6331\u001b[0m         \u001b[0mkwargs\u001b[0m\u001b[0;34m[\u001b[0m\u001b[0;34m'filled'\u001b[0m\u001b[0;34m]\u001b[0m \u001b[0;34m=\u001b[0m \u001b[0;32mTrue\u001b[0m\u001b[0;34m\u001b[0m\u001b[0;34m\u001b[0m\u001b[0m\n\u001b[0;32m-> 6332\u001b[0;31m         \u001b[0mcontours\u001b[0m \u001b[0;34m=\u001b[0m \u001b[0mmcontour\u001b[0m\u001b[0;34m.\u001b[0m\u001b[0mQuadContourSet\u001b[0m\u001b[0;34m(\u001b[0m\u001b[0mself\u001b[0m\u001b[0;34m,\u001b[0m \u001b[0;34m*\u001b[0m\u001b[0margs\u001b[0m\u001b[0;34m,\u001b[0m \u001b[0;34m**\u001b[0m\u001b[0mkwargs\u001b[0m\u001b[0;34m)\u001b[0m\u001b[0;34m\u001b[0m\u001b[0;34m\u001b[0m\u001b[0m\n\u001b[0m\u001b[1;32m   6333\u001b[0m         \u001b[0mself\u001b[0m\u001b[0;34m.\u001b[0m\u001b[0m_request_autoscale_view\u001b[0m\u001b[0;34m(\u001b[0m\u001b[0;34m)\u001b[0m\u001b[0;34m\u001b[0m\u001b[0;34m\u001b[0m\u001b[0m\n\u001b[1;32m   6334\u001b[0m         \u001b[0;32mreturn\u001b[0m \u001b[0mcontours\u001b[0m\u001b[0;34m\u001b[0m\u001b[0;34m\u001b[0m\u001b[0m\n",
      "\u001b[0;32m~/miniconda3/lib/python3.7/site-packages/matplotlib/contour.py\u001b[0m in \u001b[0;36m__init__\u001b[0;34m(self, ax, levels, filled, linewidths, linestyles, hatches, alpha, origin, extent, cmap, colors, norm, vmin, vmax, extend, antialiased, nchunk, locator, transform, *args, **kwargs)\u001b[0m\n\u001b[1;32m    814\u001b[0m         \u001b[0mself\u001b[0m\u001b[0;34m.\u001b[0m\u001b[0m_transform\u001b[0m \u001b[0;34m=\u001b[0m \u001b[0mtransform\u001b[0m\u001b[0;34m\u001b[0m\u001b[0;34m\u001b[0m\u001b[0m\n\u001b[1;32m    815\u001b[0m \u001b[0;34m\u001b[0m\u001b[0m\n\u001b[0;32m--> 816\u001b[0;31m         \u001b[0mkwargs\u001b[0m \u001b[0;34m=\u001b[0m \u001b[0mself\u001b[0m\u001b[0;34m.\u001b[0m\u001b[0m_process_args\u001b[0m\u001b[0;34m(\u001b[0m\u001b[0;34m*\u001b[0m\u001b[0margs\u001b[0m\u001b[0;34m,\u001b[0m \u001b[0;34m**\u001b[0m\u001b[0mkwargs\u001b[0m\u001b[0;34m)\u001b[0m\u001b[0;34m\u001b[0m\u001b[0;34m\u001b[0m\u001b[0m\n\u001b[0m\u001b[1;32m    817\u001b[0m         \u001b[0mself\u001b[0m\u001b[0;34m.\u001b[0m\u001b[0m_process_levels\u001b[0m\u001b[0;34m(\u001b[0m\u001b[0;34m)\u001b[0m\u001b[0;34m\u001b[0m\u001b[0;34m\u001b[0m\u001b[0m\n\u001b[1;32m    818\u001b[0m \u001b[0;34m\u001b[0m\u001b[0m\n",
      "\u001b[0;32m~/miniconda3/lib/python3.7/site-packages/matplotlib/contour.py\u001b[0m in \u001b[0;36m_process_args\u001b[0;34m(self, corner_mask, *args, **kwargs)\u001b[0m\n\u001b[1;32m   1428\u001b[0m             \u001b[0mself\u001b[0m\u001b[0;34m.\u001b[0m\u001b[0m_corner_mask\u001b[0m \u001b[0;34m=\u001b[0m \u001b[0mcorner_mask\u001b[0m\u001b[0;34m\u001b[0m\u001b[0;34m\u001b[0m\u001b[0m\n\u001b[1;32m   1429\u001b[0m \u001b[0;34m\u001b[0m\u001b[0m\n\u001b[0;32m-> 1430\u001b[0;31m             \u001b[0mx\u001b[0m\u001b[0;34m,\u001b[0m \u001b[0my\u001b[0m\u001b[0;34m,\u001b[0m \u001b[0mz\u001b[0m \u001b[0;34m=\u001b[0m \u001b[0mself\u001b[0m\u001b[0;34m.\u001b[0m\u001b[0m_contour_args\u001b[0m\u001b[0;34m(\u001b[0m\u001b[0margs\u001b[0m\u001b[0;34m,\u001b[0m \u001b[0mkwargs\u001b[0m\u001b[0;34m)\u001b[0m\u001b[0;34m\u001b[0m\u001b[0;34m\u001b[0m\u001b[0m\n\u001b[0m\u001b[1;32m   1431\u001b[0m \u001b[0;34m\u001b[0m\u001b[0m\n\u001b[1;32m   1432\u001b[0m             \u001b[0m_mask\u001b[0m \u001b[0;34m=\u001b[0m \u001b[0mma\u001b[0m\u001b[0;34m.\u001b[0m\u001b[0mgetmask\u001b[0m\u001b[0;34m(\u001b[0m\u001b[0mz\u001b[0m\u001b[0;34m)\u001b[0m\u001b[0;34m\u001b[0m\u001b[0;34m\u001b[0m\u001b[0m\n",
      "\u001b[0;32m~/miniconda3/lib/python3.7/site-packages/matplotlib/contour.py\u001b[0m in \u001b[0;36m_contour_args\u001b[0;34m(self, args, kwargs)\u001b[0m\n\u001b[1;32m   1486\u001b[0m             \u001b[0margs\u001b[0m \u001b[0;34m=\u001b[0m \u001b[0margs\u001b[0m\u001b[0;34m[\u001b[0m\u001b[0;36m1\u001b[0m\u001b[0;34m:\u001b[0m\u001b[0;34m]\u001b[0m\u001b[0;34m\u001b[0m\u001b[0;34m\u001b[0m\u001b[0m\n\u001b[1;32m   1487\u001b[0m         \u001b[0;32melif\u001b[0m \u001b[0mNargs\u001b[0m \u001b[0;34m<=\u001b[0m \u001b[0;36m4\u001b[0m\u001b[0;34m:\u001b[0m\u001b[0;34m\u001b[0m\u001b[0;34m\u001b[0m\u001b[0m\n\u001b[0;32m-> 1488\u001b[0;31m             \u001b[0mx\u001b[0m\u001b[0;34m,\u001b[0m \u001b[0my\u001b[0m\u001b[0;34m,\u001b[0m \u001b[0mz\u001b[0m \u001b[0;34m=\u001b[0m \u001b[0mself\u001b[0m\u001b[0;34m.\u001b[0m\u001b[0m_check_xyz\u001b[0m\u001b[0;34m(\u001b[0m\u001b[0margs\u001b[0m\u001b[0;34m[\u001b[0m\u001b[0;34m:\u001b[0m\u001b[0;36m3\u001b[0m\u001b[0;34m]\u001b[0m\u001b[0;34m,\u001b[0m \u001b[0mkwargs\u001b[0m\u001b[0;34m)\u001b[0m\u001b[0;34m\u001b[0m\u001b[0;34m\u001b[0m\u001b[0m\n\u001b[0m\u001b[1;32m   1489\u001b[0m             \u001b[0margs\u001b[0m \u001b[0;34m=\u001b[0m \u001b[0margs\u001b[0m\u001b[0;34m[\u001b[0m\u001b[0;36m3\u001b[0m\u001b[0;34m:\u001b[0m\u001b[0;34m]\u001b[0m\u001b[0;34m\u001b[0m\u001b[0;34m\u001b[0m\u001b[0m\n\u001b[1;32m   1490\u001b[0m         \u001b[0;32melse\u001b[0m\u001b[0;34m:\u001b[0m\u001b[0;34m\u001b[0m\u001b[0;34m\u001b[0m\u001b[0m\n",
      "\u001b[0;32m~/miniconda3/lib/python3.7/site-packages/matplotlib/contour.py\u001b[0m in \u001b[0;36m_check_xyz\u001b[0;34m(self, args, kwargs)\u001b[0m\n\u001b[1;32m   1530\u001b[0m             \u001b[0mny\u001b[0m\u001b[0;34m,\u001b[0m \u001b[0;34m=\u001b[0m \u001b[0my\u001b[0m\u001b[0;34m.\u001b[0m\u001b[0mshape\u001b[0m\u001b[0;34m\u001b[0m\u001b[0;34m\u001b[0m\u001b[0m\n\u001b[1;32m   1531\u001b[0m             \u001b[0;32mif\u001b[0m \u001b[0mnx\u001b[0m \u001b[0;34m!=\u001b[0m \u001b[0mNx\u001b[0m\u001b[0;34m:\u001b[0m\u001b[0;34m\u001b[0m\u001b[0;34m\u001b[0m\u001b[0m\n\u001b[0;32m-> 1532\u001b[0;31m                 raise TypeError(f\"Length of x ({nx}) must match number of \"\n\u001b[0m\u001b[1;32m   1533\u001b[0m                                 f\"columns in z ({Nx})\")\n\u001b[1;32m   1534\u001b[0m             \u001b[0;32mif\u001b[0m \u001b[0mny\u001b[0m \u001b[0;34m!=\u001b[0m \u001b[0mNy\u001b[0m\u001b[0;34m:\u001b[0m\u001b[0;34m\u001b[0m\u001b[0;34m\u001b[0m\u001b[0m\n",
      "\u001b[0;31mTypeError\u001b[0m: Length of x (101) must match number of columns in z (4001)"
     ]
    },
    {
     "data": {
      "image/png": "[encoded data removed]",
      "text/plain": [
       "<Figure size 432x288 with 1 Axes>"
      ]
     },
     "metadata": {
      "needs_background": "light"
     },
     "output_type": "display_data"
    }
   ],
   "source": [
    "\n",
    "U = np.transpose(U)\n",
    "\n",
    "plt.contourf(x,t,U, 50, cmap='jet')\n",
    "plt.colorbar();"
   ]
  },
  {
   "cell_type": "code",
   "execution_count": null,
   "metadata": {},
   "outputs": [],
   "source": []
  },
  {
   "cell_type": "code",
   "execution_count": null,
   "metadata": {},
   "outputs": [],
   "source": []
  }
 ],
 "metadata": {
  "kernelspec": {
   "display_name": "Python 3.7.7 64-bit ('base': conda)",
   "language": "python",
   "name": "python37764bitbaseconda781db70e088b4a4896d6b91912286919"
  },
  "language_info": {
   "codemirror_mode": {
    "name": "ipython",
    "version": 3
   },
   "file_extension": ".py",
   "mimetype": "text/x-python",
   "name": "python",
   "nbconvert_exporter": "python",
   "pygments_lexer": "ipython3",
   "version": "3.7.7"
  }
 },
 "nbformat": 4,
 "nbformat_minor": 4
}
