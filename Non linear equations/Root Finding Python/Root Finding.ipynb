{
 "cells": [
  {
   "cell_type": "markdown",
   "metadata": {},
   "source": [
    "## Bisection Method"
   ]
  },
  {
   "cell_type": "markdown",
   "metadata": {},
   "source": [
    "Algorithm:\n",
    "    \n",
    "* Choose a starting interval [a,b] such that f(a)*f(b)<0\n",
    "* Compute f(mid) = f((a+b)/2)\n",
    "* Determine the next sub-interval:\n",
    "    > * If f(a)* f(mid)<0 then the sub-interval is [a,mid]\n",
    "    > * If f(b)* f(mid)<0 then the sub-interval is [mid,b]\n",
    "* We repeat the step for N iterations till the subinterval becomes small enough\n",
    "* Return the midpoint value $m_N = (a_N+b_N)/2$\n",
    "    \n",
    "    "
   ]
  },
  {
   "cell_type": "code",
   "execution_count": 1,
   "metadata": {},
   "outputs": [],
   "source": [
    "def bisection(f,a,b,N):\n",
    "\n",
    "    if f(a)*f(b) >= 0:\n",
    "        print(\"Bisection method fails.\")\n",
    "        return None\n",
    "    \n",
    "    a_n = a\n",
    "    b_n = b\n",
    "    \n",
    "    for n in range(1,N+1):\n",
    "        m_n = (a_n + b_n)/2\n",
    "        f_m_n = f(m_n)\n",
    "        \n",
    "        if f(a_n)*f_m_n < 0:\n",
    "            a_n = a_n\n",
    "            b_n = m_n\n",
    "            \n",
    "        elif f(b_n)*f_m_n < 0:\n",
    "            a_n = m_n\n",
    "            b_n = b_n\n",
    "            \n",
    "        elif f_m_n == 0:\n",
    "            print(\"Found exact solution.\")\n",
    "            return m_n\n",
    "    \n",
    "        else:\n",
    "            print(\"Bisection method fails.\")\n",
    "            return None\n",
    "        \n",
    "    return (a_n + b_n)/2\n"
   ]
  },
  {
   "cell_type": "markdown",
   "metadata": {},
   "source": [
    "Let's put this code to test by finding the root of $f(x) = x^2 -x -1$\n",
    "\n",
    "If we plot the function f(x), we see that the solution lies somewhere in between [1,2]. So, we will use that interval as our first guess for the bisection function."
   ]
  },
  {
   "cell_type": "code",
   "execution_count": 2,
   "metadata": {},
   "outputs": [],
   "source": [
    "def func(x):\n",
    "    return x**2 - x - 1"
   ]
  },
  {
   "cell_type": "code",
   "execution_count": 64,
   "metadata": {},
   "outputs": [
    {
     "data": {
      "image/png": "[encoded data removed]",
      "text/plain": [
       "<Figure size 432x288 with 1 Axes>"
      ]
     },
     "metadata": {
      "needs_background": "light"
     },
     "output_type": "display_data"
    }
   ],
   "source": [
    "import matplotlib.pyplot as plt\n",
    "import numpy as np\n",
    "\n",
    "x = np.linspace(-5,5,100)\n",
    "plt.plot(x,func(x))\n",
    "plt.plot(x,x*0)\n",
    "plt.grid()\n",
    "plt.show()"
   ]
  },
  {
   "cell_type": "code",
   "execution_count": 65,
   "metadata": {},
   "outputs": [
    {
     "data": {
      "image/png": "[encoded data removed]",
      "text/plain": [
       "<Figure size 432x288 with 1 Axes>"
      ]
     },
     "metadata": {
      "needs_background": "light"
     },
     "output_type": "display_data"
    }
   ],
   "source": [
    "x = np.linspace(-5,5,100)\n",
    "plt.plot(x,func(x))\n",
    "plt.plot(x,x*0)\n",
    "plt.xlim(0,4)\n",
    "plt.grid()\n",
    "plt.show()"
   ]
  },
  {
   "cell_type": "code",
   "execution_count": 11,
   "metadata": {},
   "outputs": [
    {
     "name": "stdout",
     "output_type": "stream",
     "text": [
      "Found exact solution.\n",
      "1.618033988749895\n"
     ]
    }
   ],
   "source": [
    "Niteration = 50\n",
    "\n",
    "approx_sol = bisection(func,1,2,50)\n",
    "print(approx_sol)"
   ]
  },
  {
   "cell_type": "markdown",
   "metadata": {},
   "source": [
    "Yaay! We got the exact solution when we ran over 50 iterations. A little bit of trivia here. The solution to this polynomial is the very famous **Golden Ratio**.\n",
    "\n",
    "$$ \\phi = \\frac{1+\\sqrt{5}}{2}$$\n",
    "\n",
    "We have calculated phi approximately above."
   ]
  },
  {
   "cell_type": "markdown",
   "metadata": {},
   "source": [
    "## Newton-Raphson Method"
   ]
  },
  {
   "cell_type": "markdown",
   "metadata": {},
   "source": [
    "$$x_{n+1} = x_n - \\frac{f(x_n)}{f^{'}(x_n)}$$\n",
    "\n",
    "Algorithm:\n",
    "\n",
    "* We first consider an intial value $x_0$\n",
    "* Using the above equation, we find $x_{n+1}$\n",
    "* We repeat the iterations till:\n",
    "> * Max_iterations N\n",
    "> * $f(x_N) < \\epsilon$, the algorithm has found the approximate solution $x_N$\n",
    "> * If $f^{'}(x_N) == 0$, then it fails and we need to stop."
   ]
  },
  {
   "cell_type": "code",
   "execution_count": 16,
   "metadata": {},
   "outputs": [],
   "source": [
    "def newton(f,Df,x0,N_max,epsilon=1e-5):\n",
    "    \n",
    "    xn = x0\n",
    "    \n",
    "    for n in range(0,N_max):\n",
    "        fxn = f(xn)\n",
    "        \n",
    "        if abs(fxn) < epsilon:\n",
    "            print('Found solution after',n,'iterations.')\n",
    "            return xn\n",
    "\n",
    "        Dfxn = Df(xn)\n",
    "        \n",
    "        if Dfxn == 0:\n",
    "            print('Zero derivative. No solution found.')\n",
    "            return None\n",
    "        \n",
    "        xn = xn - fxn/Dfxn\n",
    "        \n",
    "    print('Exceeded maximum iterations. No solution found.')\n",
    "    return None"
   ]
  },
  {
   "cell_type": "code",
   "execution_count": 66,
   "metadata": {},
   "outputs": [
    {
     "data": {
      "image/png": "[encoded data removed]",
      "text/plain": [
       "<Figure size 432x288 with 1 Axes>"
      ]
     },
     "metadata": {
      "needs_background": "light"
     },
     "output_type": "display_data"
    }
   ],
   "source": [
    "def poly(x):\n",
    "    return x**3 - x**2 - 1\n",
    "\n",
    "def dpoly(x):\n",
    "    return 3*x**2 - 2*x\n",
    "\n",
    "\n",
    "x = np.linspace(-4,4,100)\n",
    "plt.plot(x,poly(x))\n",
    "plt.plot(x,poly(x)*0)\n",
    "plt.grid()\n",
    "plt.show()"
   ]
  },
  {
   "cell_type": "code",
   "execution_count": 31,
   "metadata": {
    "scrolled": true
   },
   "outputs": [
    {
     "data": {
      "image/png": "[encoded data removed]",
      "text/plain": [
       "<Figure size 432x288 with 1 Axes>"
      ]
     },
     "metadata": {
      "needs_background": "light"
     },
     "output_type": "display_data"
    }
   ],
   "source": [
    "x = np.linspace(-2,2,100)\n",
    "plt.plot(x,poly(x),label=\"p(x)\")\n",
    "plt.plot(x,dpoly(x),label=\"dp(x)/dx\")\n",
    "plt.plot(x,poly(x)*0)\n",
    "plt.grid()\n",
    "plt.xlim(0,2)\n",
    "plt.ylim(-2,2)\n",
    "plt.legend()\n",
    "plt.show()"
   ]
  },
  {
   "cell_type": "markdown",
   "metadata": {},
   "source": [
    "So, we can see that the root lies somewhere between 1 and 2. Also we are safe to use Newton's method as the derivative is not zero from the dp(x)/dx plot."
   ]
  },
  {
   "cell_type": "code",
   "execution_count": 20,
   "metadata": {},
   "outputs": [
    {
     "name": "stdout",
     "output_type": "stream",
     "text": [
      "Found solution after 6 iterations.\n",
      "1.4655712318767877\n"
     ]
    }
   ],
   "source": [
    "approx = newton(poly,dpoly,1,10,1e-10)\n",
    "print(approx)"
   ]
  },
  {
   "cell_type": "markdown",
   "metadata": {},
   "source": [
    "## Secant Method"
   ]
  },
  {
   "cell_type": "markdown",
   "metadata": {},
   "source": [
    "Let f(x) on the interval[a,b] such that f(a)f(b)<0. A solution of the equation f(x) from the Intermediate Valur Theorem.\n",
    "\n",
    "\n",
    "$$ x = a - f(a) \\frac{b-a}{f(b)-f(a)}$$\n",
    "\n",
    "Algorithm:\n",
    "\n",
    "* Choose a starting interval [a,b] such that f(a)f(b)<0.\n",
    "* Compute $f(x_0)$ where $x_0$ is given by the equation above.\n",
    "* Determine the next subinterval:\n",
    "> * If $f(a)f(x_0) < 0$ then the next interval will be $[a,x_0]$\n",
    "> * If $f(b)f(x_0) < 0$ then the next interval will be $[x_0,b]$\n",
    "* Repeat this for N iterations till we get an approximate value."
   ]
  },
  {
   "cell_type": "code",
   "execution_count": 32,
   "metadata": {},
   "outputs": [],
   "source": [
    "def secant(f,a,b,N):\n",
    "\n",
    "    if f(a)*f(b) >= 0:\n",
    "        print(\"Secant method fails.\")\n",
    "        return None\n",
    "    \n",
    "    a_n = a\n",
    "    b_n = b\n",
    "    \n",
    "    for n in range(1,N+1):\n",
    "        m_n = a_n - f(a_n)*(b_n - a_n)/(f(b_n) - f(a_n))\n",
    "        f_m_n = f(m_n)\n",
    "        \n",
    "        if f(a_n)*f_m_n < 0:\n",
    "            a_n = a_n\n",
    "            b_n = m_n\n",
    "            \n",
    "        elif f(b_n)*f_m_n < 0:\n",
    "            a_n = m_n\n",
    "            b_n = b_n\n",
    "            \n",
    "        elif f_m_n == 0:\n",
    "            print(\"Found exact solution.\")\n",
    "            return m_n\n",
    "        \n",
    "        else:\n",
    "            print(\"Secant method fails.\")\n",
    "            return None\n",
    "        \n",
    "    return a_n - f(a_n)*(b_n - a_n)/(f(b_n) - f(a_n))"
   ]
  },
  {
   "cell_type": "code",
   "execution_count": 35,
   "metadata": {},
   "outputs": [
    {
     "data": {
      "image/png": "[encoded data removed]",
      "text/plain": [
       "<Figure size 432x288 with 1 Axes>"
      ]
     },
     "metadata": {
      "needs_background": "light"
     },
     "output_type": "display_data"
    }
   ],
   "source": [
    "x = np.linspace(-2,2,100)\n",
    "plt.plot(x,poly(x),label=\"p(x)\")\n",
    "plt.plot(x,poly(x)*0)\n",
    "plt.grid()\n",
    "plt.xlim(1,2)\n",
    "plt.ylim(-2,4)\n",
    "plt.legend()\n",
    "plt.show()"
   ]
  },
  {
   "cell_type": "code",
   "execution_count": 46,
   "metadata": {},
   "outputs": [
    {
     "name": "stdout",
     "output_type": "stream",
     "text": [
      "1.4655712311394433\n"
     ]
    }
   ],
   "source": [
    "approx = secant(poly,1,2,20)\n",
    "print(approx)"
   ]
  },
  {
   "cell_type": "markdown",
   "metadata": {},
   "source": [
    "## Newton-Bisection Hybrid Method"
   ]
  },
  {
   "cell_type": "markdown",
   "metadata": {},
   "source": [
    "We have a slow but sure algorithm(Bisection) and a fast but somewhat risky method(Newton). We can now make a hybrid of the two and see if that works better.\n",
    "\n",
    "Algorithm:\n",
    "\n",
    "* Start with a guess interval [a,b]\n",
    "* Find the modpoint, $ x_i = \\frac{a+b}{2}$\n",
    "* If $f'(x)$ is not zero use Newton's to find $x_i+1$\n",
    "* Check if $ x_{i+1} \\in (a,b)$. If it does:\n",
    "* For the next interval:\n",
    "> * If $f(a)*f(x_i) < 0$ then $[a,x_i]$\n",
    "> * else $[x_i,b]$\n",
    "* Otherwise use bisection again\n",
    "\n"
   ]
  },
  {
   "cell_type": "code",
   "execution_count": 51,
   "metadata": {},
   "outputs": [],
   "source": [
    "def Hybrid(f,df,a,b,N,epsilon=1e-5):\n",
    "\n",
    "    if f(a)*f(b) >= 0:\n",
    "        print(\"Hybrid method fails.\")\n",
    "        return None\n",
    "    \n",
    "    a_n = a\n",
    "    b_n = b\n",
    "    \n",
    "    xn = (a_n+b_n)/2\n",
    "    \n",
    "    for n in range(1,N+1):\n",
    "        \n",
    "        \n",
    "        \n",
    "        if(np.abs(f(xn))<epsilon):\n",
    "            print('Found solution after',n,'iterations.')\n",
    "            return xn\n",
    "        \n",
    "        elif(df(xn)!= 0):\n",
    "            \n",
    "            xn = xn - f(xn)/df(xn)\n",
    "            \n",
    "            if (xn>a_n and xn<b_n):\n",
    "                \n",
    "                if f(a_n)*f(xn) < 0:\n",
    "                    a_n = a_n\n",
    "                    b_n = xn\n",
    "            \n",
    "                elif f(b_n)*f(xn) < 0:\n",
    "                    a_n = x_n\n",
    "                    b_n = b_n\n",
    "            \n",
    "            else: \n",
    "                \n",
    "                if f(a_n)*f(xn) < 0:\n",
    "                    a_n = a_n\n",
    "                    b_n = xn\n",
    "            \n",
    "                elif f(b_n)*f(xn) < 0:\n",
    "                    a_n = x_n\n",
    "                    b_n = b_n\n",
    "                \n",
    "                xn = (a_n+b_n)/2\n",
    "                 \n",
    "        elif f(a_n)*f(xn) < 0:\n",
    "            a_n = a_n\n",
    "            b_n = xn\n",
    "            \n",
    "        elif f(b_n)*f(xn) < 0:\n",
    "            a_n = x_n\n",
    "            b_n = b_n\n",
    "                \n",
    "            xn = (a_n+b_n)/2\n",
    "\n",
    "            \n",
    "        elif f(xn)== 0:\n",
    "            print(\"Found exact solution.\")\n",
    "            return xn\n",
    "        \n",
    "        else:\n",
    "            print(\"Secant method fails.\")\n",
    "            return None"
   ]
  },
  {
   "cell_type": "code",
   "execution_count": 52,
   "metadata": {},
   "outputs": [
    {
     "name": "stdout",
     "output_type": "stream",
     "text": [
      "Found solution after 3 iterations.\n",
      "1.4655723905723905\n"
     ]
    }
   ],
   "source": [
    "approx = Hybrid(poly,dpoly,1,2,20)\n",
    "print(approx)"
   ]
  },
  {
   "cell_type": "markdown",
   "metadata": {},
   "source": [
    "Nice! So our hybrid works faster!"
   ]
  },
  {
   "cell_type": "markdown",
   "metadata": {},
   "source": [
    "## Brute-Force Method"
   ]
  },
  {
   "cell_type": "markdown",
   "metadata": {},
   "source": [
    "What about the case when we have multiple roots and I want to find all of them? We deploy a Brute-force method for that.\n",
    "\n",
    "Algorithm:\n",
    "\n",
    "* Choose a whole range of n where you want to find f(x)\n",
    "* Divide the range into small intervals and using two consecutive intervals, apply secant method.\n",
    "* Continue this till the end of the interval"
   ]
  },
  {
   "cell_type": "code",
   "execution_count": 53,
   "metadata": {},
   "outputs": [],
   "source": [
    "def bruteforce(f, a, b, n):\n",
    "    x = np.linspace(a, b, n)\n",
    "    y = f(x)\n",
    "    roots = []\n",
    "    \n",
    "    for i in range(n-1):\n",
    "        if y[i]*y[i+1] < 0:\n",
    "            root = x[i] - (x[i+1] - x[i])/(y[i+1] - y[i])*y[i]\n",
    "            roots.append(root)\n",
    "            \n",
    "    return roots"
   ]
  },
  {
   "cell_type": "code",
   "execution_count": 63,
   "metadata": {},
   "outputs": [
    {
     "data": {
      "text/plain": [
       "[1.4645776823387582]"
      ]
     },
     "execution_count": 63,
     "metadata": {},
     "output_type": "execute_result"
    }
   ],
   "source": [
    "bruteforce(poly,-4,3,100)"
   ]
  },
  {
   "cell_type": "markdown",
   "metadata": {},
   "source": [
    "Now, let's try another function $f(x) = e^{-x^2} cos(x)$"
   ]
  },
  {
   "cell_type": "code",
   "execution_count": 68,
   "metadata": {},
   "outputs": [],
   "source": [
    "def fe(x):\n",
    "    return np.exp(- x**2)*np.cos(x)"
   ]
  },
  {
   "cell_type": "code",
   "execution_count": 76,
   "metadata": {},
   "outputs": [
    {
     "data": {
      "image/png": "[encoded data removed]",
      "text/plain": [
       "<Figure size 432x288 with 1 Axes>"
      ]
     },
     "metadata": {
      "needs_background": "light"
     },
     "output_type": "display_data"
    }
   ],
   "source": [
    "x = np.linspace(-4,4,100)\n",
    "plt.plot(x,fe(x),label=\"p(x)\")\n",
    "plt.plot(x,fe(x)*0)\n",
    "plt.grid()\n",
    "plt.legend()\n",
    "plt.show()"
   ]
  },
  {
   "cell_type": "code",
   "execution_count": 80,
   "metadata": {},
   "outputs": [
    {
     "data": {
      "image/png": "[encoded data removed]",
      "text/plain": [
       "<Figure size 432x288 with 1 Axes>"
      ]
     },
     "metadata": {
      "needs_background": "light"
     },
     "output_type": "display_data"
    }
   ],
   "source": [
    "x = np.linspace(-4,4,100)\n",
    "plt.plot(x,fe(x),label=\"p(x)\")\n",
    "plt.plot(x,fe(x)*0)\n",
    "plt.grid()\n",
    "plt.legend()\n",
    "plt.ylim(-0.1,0.1)\n",
    "plt.show()"
   ]
  },
  {
   "cell_type": "markdown",
   "metadata": {},
   "source": [
    "Hmmmm, so this guy has two solutions! Let us put brute force under test."
   ]
  },
  {
   "cell_type": "code",
   "execution_count": 82,
   "metadata": {},
   "outputs": [
    {
     "data": {
      "text/plain": [
       "[-1.5718300431188483, 1.5718300431188483]"
      ]
     },
     "execution_count": 82,
     "metadata": {},
     "output_type": "execute_result"
    }
   ],
   "source": [
    "bruteforce(fe,-4,4,100)"
   ]
  },
  {
   "cell_type": "markdown",
   "metadata": {},
   "source": [
    "Voila! It gives me both the roots approximately aroubd -1.6 and 1.6"
   ]
  }
 ],
 "metadata": {
  "kernelspec": {
   "display_name": "Python 3",
   "language": "python",
   "name": "python3"
  },
  "language_info": {
   "codemirror_mode": {
    "name": "ipython",
    "version": 3
   },
   "file_extension": ".py",
   "mimetype": "text/x-python",
   "name": "python",
   "nbconvert_exporter": "python",
   "pygments_lexer": "ipython3",
   "version": "3.7.7"
  }
 },
 "nbformat": 4,
 "nbformat_minor": 4
}
