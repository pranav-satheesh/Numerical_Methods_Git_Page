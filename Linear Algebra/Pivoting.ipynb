{
 "cells": [
  {
   "cell_type": "code",
   "execution_count": 122,
   "metadata": {},
   "outputs": [],
   "source": [
    "import numpy as np"
   ]
  },
  {
   "cell_type": "code",
   "execution_count": 123,
   "metadata": {},
   "outputs": [],
   "source": [
    "N=4"
   ]
  },
  {
   "cell_type": "code",
   "execution_count": 124,
   "metadata": {},
   "outputs": [],
   "source": [
    "A= np.array([[1,3,4,6],[0,-91,51,9],[0,10**(-8),198,19],[0,7,76,541]])"
   ]
  },
  {
   "cell_type": "code",
   "execution_count": 125,
   "metadata": {},
   "outputs": [
    {
     "data": {
      "text/plain": [
       "array([[ 1.00e+00,  3.00e+00,  4.00e+00,  6.00e+00],\n",
       "       [ 0.00e+00, -9.10e+01,  5.10e+01,  9.00e+00],\n",
       "       [ 0.00e+00,  1.00e-08,  1.98e+02,  1.90e+01],\n",
       "       [ 0.00e+00,  7.00e+00,  7.60e+01,  5.41e+02]])"
      ]
     },
     "execution_count": 125,
     "metadata": {},
     "output_type": "execute_result"
    }
   ],
   "source": [
    "A"
   ]
  },
  {
   "cell_type": "code",
   "execution_count": 126,
   "metadata": {},
   "outputs": [],
   "source": [
    "x = np.array(['x1','x2','x3','x4'])"
   ]
  },
  {
   "cell_type": "code",
   "execution_count": 127,
   "metadata": {},
   "outputs": [],
   "source": [
    "y = np.array(['y1','y2','y3','y4'])"
   ]
  },
  {
   "cell_type": "code",
   "execution_count": 128,
   "metadata": {},
   "outputs": [],
   "source": [
    "def swaprow(A,B,pre,swap):\n",
    "    b = A[pre].copy();\n",
    "    A[pre] = A[swap];\n",
    "    A[swap] = b;\n",
    "    \n",
    "    temp = B[pre];\n",
    "    B[pre] = B[swap];\n",
    "    B[swap] = temp;"
   ]
  },
  {
   "cell_type": "code",
   "execution_count": 129,
   "metadata": {},
   "outputs": [],
   "source": [
    "def swapcol(my_array,x,colpre,colswap):\n",
    "    temp = np.copy(my_array[:, colpre])\n",
    "    my_array[:, colpre] = my_array[:, colswap]\n",
    "    my_array[:, colswap] = temp\n",
    "    \n",
    "    emp = x[colpre];\n",
    "    x[colpre] = x[colswap];\n",
    "    x[colswap] = emp;"
   ]
  },
  {
   "cell_type": "code",
   "execution_count": 130,
   "metadata": {},
   "outputs": [
    {
     "name": "stdout",
     "output_type": "stream",
     "text": [
      "0 1 0 1.0\n",
      "0 [[ 1.00e+00  3.00e+00  4.00e+00  6.00e+00]\n",
      " [ 0.00e+00 -9.10e+01  5.10e+01  9.00e+00]\n",
      " [ 0.00e+00  1.00e-08  1.98e+02  1.90e+01]\n",
      " [ 0.00e+00  7.00e+00  7.60e+01  5.41e+02]]\n",
      "1 1 3 9.0\n",
      "1 [[ 1.00e+00  6.00e+00  4.00e+00  3.00e+00]\n",
      " [ 0.00e+00  9.00e+00  5.10e+01 -9.10e+01]\n",
      " [ 0.00e+00  1.90e+01  1.98e+02  1.00e-08]\n",
      " [ 0.00e+00  5.41e+02  7.60e+01  7.00e+00]]\n",
      "0 1 2 198.0\n",
      "2 [[ 1.00e+00  6.00e+00  4.00e+00  3.00e+00]\n",
      " [ 0.00e+00  9.00e+00  5.10e+01 -9.10e+01]\n",
      " [ 0.00e+00  1.90e+01  1.98e+02  1.00e-08]\n",
      " [ 0.00e+00  5.41e+02  7.60e+01  7.00e+00]]\n",
      "0 1 3 7.0\n",
      "3 [[ 1.00e+00  6.00e+00  4.00e+00  3.00e+00]\n",
      " [ 0.00e+00  9.00e+00  5.10e+01 -9.10e+01]\n",
      " [ 0.00e+00  1.90e+01  1.98e+02  1.00e-08]\n",
      " [ 0.00e+00  5.41e+02  7.60e+01  7.00e+00]]\n"
     ]
    }
   ],
   "source": [
    "for i in range(N):\n",
    "    largest = 0.0;\n",
    "    row =0;\n",
    "    col =0;\n",
    "    for j in range(i,N):\n",
    "        if(np.abs(A[j,i])>largest):\n",
    "            if(A[i,j]>10**-2):\n",
    "                largest = np.abs(A[j,i]);\n",
    "                great = j;\n",
    "                row =1;\n",
    "    for j in range(i,N):       \n",
    "        if(np.abs(A[i,j]>largest)):\n",
    "            if(A[j,i]>10**-2):\n",
    "                largest = np.abs(A[i,j]);\n",
    "                great = j;\n",
    "                col =1;\n",
    "    print(col,row,great,largest)\n",
    "    \n",
    "    if(col == 1):\n",
    "        swapcol(A,x,i,great)\n",
    "    else:\n",
    "        swaprow(A,y,i,great)\n",
    "    print(i,A)     "
   ]
  },
  {
   "cell_type": "code",
   "execution_count": 131,
   "metadata": {},
   "outputs": [
    {
     "data": {
      "text/plain": [
       "array([[ 1.00e+00,  6.00e+00,  4.00e+00,  3.00e+00],\n",
       "       [ 0.00e+00,  9.00e+00,  5.10e+01, -9.10e+01],\n",
       "       [ 0.00e+00,  1.90e+01,  1.98e+02,  1.00e-08],\n",
       "       [ 0.00e+00,  5.41e+02,  7.60e+01,  7.00e+00]])"
      ]
     },
     "execution_count": 131,
     "metadata": {},
     "output_type": "execute_result"
    }
   ],
   "source": [
    "A"
   ]
  },
  {
   "cell_type": "code",
   "execution_count": 132,
   "metadata": {},
   "outputs": [
    {
     "data": {
      "text/plain": [
       "array(['y1', 'y2', 'y3', 'y4'], dtype='<U2')"
      ]
     },
     "execution_count": 132,
     "metadata": {},
     "output_type": "execute_result"
    }
   ],
   "source": [
    "y"
   ]
  },
  {
   "cell_type": "code",
   "execution_count": 133,
   "metadata": {},
   "outputs": [
    {
     "data": {
      "text/plain": [
       "array(['x1', 'x4', 'x3', 'x2'], dtype='<U2')"
      ]
     },
     "execution_count": 133,
     "metadata": {},
     "output_type": "execute_result"
    }
   ],
   "source": [
    "x"
   ]
  },
  {
   "cell_type": "code",
   "execution_count": null,
   "metadata": {},
   "outputs": [],
   "source": []
  },
  {
   "cell_type": "code",
   "execution_count": null,
   "metadata": {},
   "outputs": [],
   "source": []
  },
  {
   "cell_type": "code",
   "execution_count": null,
   "metadata": {},
   "outputs": [],
   "source": []
  },
  {
   "cell_type": "code",
   "execution_count": null,
   "metadata": {},
   "outputs": [],
   "source": []
  },
  {
   "cell_type": "code",
   "execution_count": null,
   "metadata": {},
   "outputs": [],
   "source": []
  },
  {
   "cell_type": "code",
   "execution_count": null,
   "metadata": {},
   "outputs": [],
   "source": []
  },
  {
   "cell_type": "code",
   "execution_count": null,
   "metadata": {},
   "outputs": [],
   "source": []
  },
  {
   "cell_type": "code",
   "execution_count": null,
   "metadata": {},
   "outputs": [],
   "source": []
  },
  {
   "cell_type": "code",
   "execution_count": null,
   "metadata": {},
   "outputs": [],
   "source": []
  },
  {
   "cell_type": "code",
   "execution_count": null,
   "metadata": {},
   "outputs": [],
   "source": []
  },
  {
   "cell_type": "code",
   "execution_count": null,
   "metadata": {},
   "outputs": [],
   "source": []
  },
  {
   "cell_type": "code",
   "execution_count": null,
   "metadata": {},
   "outputs": [],
   "source": []
  }
 ],
 "metadata": {
  "kernelspec": {
   "display_name": "Python 3",
   "language": "python",
   "name": "python3"
  },
  "language_info": {
   "codemirror_mode": {
    "name": "ipython",
    "version": 3
   },
   "file_extension": ".py",
   "mimetype": "text/x-python",
   "name": "python",
   "nbconvert_exporter": "python",
   "pygments_lexer": "ipython3",
   "version": "3.7.5"
  }
 },
 "nbformat": 4,
 "nbformat_minor": 2
}
