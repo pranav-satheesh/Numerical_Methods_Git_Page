{
 "cells": [
  {
   "cell_type": "code",
   "execution_count": 143,
   "metadata": {},
   "outputs": [],
   "source": [
    "import numpy as np"
   ]
  },
  {
   "cell_type": "code",
   "execution_count": 144,
   "metadata": {},
   "outputs": [],
   "source": [
    "A= np.array([[0,2,1],[3,0,1],[0,4,1]])"
   ]
  },
  {
   "cell_type": "code",
   "execution_count": 145,
   "metadata": {},
   "outputs": [],
   "source": [
    "B=[0,1,2]"
   ]
  },
  {
   "cell_type": "code",
   "execution_count": 146,
   "metadata": {},
   "outputs": [],
   "source": [
    "def swap(A,B,colpre,colswap):\n",
    "    b = A[colpre].copy();\n",
    "    A[colpre] = A[colswap];\n",
    "    A[colswap] = b;\n",
    "    \n",
    "    temp = B[colpre];\n",
    "    B[colpre] = B[colswap];\n",
    "    B[colswap] = temp;"
   ]
  },
  {
   "cell_type": "code",
   "execution_count": 147,
   "metadata": {},
   "outputs": [],
   "source": [
    "N = int(np.sqrt(np.size(A)))"
   ]
  },
  {
   "cell_type": "code",
   "execution_count": 148,
   "metadata": {},
   "outputs": [],
   "source": [
    "for i in range(N):\n",
    "    \n",
    "    if A[i,i]==0:\n",
    "        if(i==N-1):\n",
    "            swap(A,B,i,0)\n",
    "        else:\n",
    "            swap(A,B,i,i+1)\n",
    "            \n",
    "for i in range(N):   \n",
    "    for j in range(1,N):\n",
    "        index = (i+j)%3\n",
    "        coeff = A[index,i]/A[i,i]\n",
    "        for k in range(N):\n",
    "            A[index,k] = A[index,k] - coeff*A[i,k];\n",
    "        B[index] = B[index]-coeff*B[i]\n",
    "        \n"
   ]
  },
  {
   "cell_type": "code",
   "execution_count": 151,
   "metadata": {},
   "outputs": [],
   "source": [
    "x = np.zeros(N)\n",
    "\n",
    "\n",
    "for k in range(N):\n",
    "    x[k] = B[k]/A[k,k]"
   ]
  },
  {
   "cell_type": "code",
   "execution_count": 152,
   "metadata": {},
   "outputs": [
    {
     "data": {
      "text/plain": [
       "array([ 1.,  1., -2.])"
      ]
     },
     "execution_count": 152,
     "metadata": {},
     "output_type": "execute_result"
    }
   ],
   "source": [
    "x"
   ]
  },
  {
   "cell_type": "code",
   "execution_count": null,
   "metadata": {},
   "outputs": [],
   "source": []
  }
 ],
 "metadata": {
  "kernelspec": {
   "display_name": "Python 3",
   "language": "python",
   "name": "python3"
  },
  "language_info": {
   "codemirror_mode": {
    "name": "ipython",
    "version": 3
   },
   "file_extension": ".py",
   "mimetype": "text/x-python",
   "name": "python",
   "nbconvert_exporter": "python",
   "pygments_lexer": "ipython3",
   "version": "3.7.5"
  }
 },
 "nbformat": 4,
 "nbformat_minor": 2
}
