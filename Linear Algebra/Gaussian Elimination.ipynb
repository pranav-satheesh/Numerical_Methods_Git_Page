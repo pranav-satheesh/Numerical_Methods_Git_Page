{
 "cells": [
  {
   "cell_type": "code",
   "execution_count": 31,
   "metadata": {},
   "outputs": [],
   "source": [
    "import numpy as np"
   ]
  },
  {
   "cell_type": "code",
   "execution_count": 32,
   "metadata": {},
   "outputs": [],
   "source": [
    "N = 3"
   ]
  },
  {
   "cell_type": "code",
   "execution_count": 33,
   "metadata": {},
   "outputs": [],
   "source": [
    "A = np.zeros((N,N))"
   ]
  },
  {
   "cell_type": "code",
   "execution_count": 34,
   "metadata": {},
   "outputs": [],
   "source": [
    "b = np.zeros(N)"
   ]
  },
  {
   "cell_type": "code",
   "execution_count": 35,
   "metadata": {},
   "outputs": [],
   "source": [
    "x = np.zeros(N)"
   ]
  },
  {
   "cell_type": "code",
   "execution_count": 36,
   "metadata": {},
   "outputs": [],
   "source": [
    "A[0,0] = 0;\n",
    "A[0,1] = -1;\n",
    "A[0,2] = 2;\n",
    "A[1,0] = 3;\n",
    "A[1,1] = 5;\n",
    "A[1,2] = 0;\n",
    "A[2,0] = 4;\n",
    "A[2,1] = 2;\n",
    "A[2,2] = 1;\n"
   ]
  },
  {
   "cell_type": "code",
   "execution_count": 37,
   "metadata": {},
   "outputs": [],
   "source": [
    "b[0] = 1;\n",
    "b[1]=2;\n",
    "b[2]=3;"
   ]
  },
  {
   "cell_type": "code",
   "execution_count": 38,
   "metadata": {},
   "outputs": [],
   "source": [
    "scale = np.zeros(N)\n",
    "index = np.zeros(N)"
   ]
  },
  {
   "cell_type": "code",
   "execution_count": 39,
   "metadata": {},
   "outputs": [
    {
     "data": {
      "text/plain": [
       "array([[ 0., -1.,  2.],\n",
       "       [ 3.,  5.,  0.],\n",
       "       [ 4.,  2.,  1.]])"
      ]
     },
     "execution_count": 39,
     "metadata": {},
     "output_type": "execute_result"
    }
   ],
   "source": [
    "A"
   ]
  },
  {
   "cell_type": "code",
   "execution_count": 40,
   "metadata": {},
   "outputs": [],
   "source": [
    "for i in range(N):\n",
    "    s=0;\n",
    "    index[i] = int(i);\n",
    "    for j in range(N):\n",
    "        if(np.abs(A[i,j])>s):\n",
    "            s = np.abs(A[i,j]);\n",
    "    scale[i] = s;\n",
    "        "
   ]
  },
  {
   "cell_type": "code",
   "execution_count": 41,
   "metadata": {},
   "outputs": [
    {
     "name": "stdout",
     "output_type": "stream",
     "text": [
      "[0.  0.  0.5]\n",
      "[0.  0.4 0.5]\n",
      "[0. 0. 0.]\n"
     ]
    }
   ],
   "source": [
    "signdet = 1;\n",
    "\n",
    "for k in range(N): #Pivoting\n",
    "    ratiomax = 0.0;\n",
    "    jpivot = k;\n",
    "    for i in range(k,N):\n",
    "        inj = int(index[i]);\n",
    "        ratio = np.abs(A[inj,k])/scale[inj];\n",
    "        if(ratio>ratiomax):\n",
    "            jpivot = i;\n",
    "            ratiomax = ratio;\n",
    "    indexj = int(index[k]);\n",
    "    if(jpivot != k):\n",
    "        indexj = int(index[jpivot]);\n",
    "        index[jpivot] = int(index[k]);\n",
    "        index[k]=indexj;\n",
    "        signdet = signdet*(-1);\n",
    "        \n",
    "    for i in range(k+1): #Forward Elimination\n",
    "        ind = int(index[i])\n",
    "        coeff = A[ind,k]/A[indexj,k];\n",
    "        for j in range(k+1):\n",
    "            A[ind,j] -= coeff*A[indexj,j];\n",
    "        A[ind,k]=coeff;\n",
    "        b[ind]-=A[ind,k]*b[indexj];\n",
    "    \n",
    "    #Determinant is the product of diagonal elements\n",
    "    determ = signdet;\n",
    "    for m in range(N):\n",
    "        o = int(index[m])\n",
    "        determ *= A[o,m]\n",
    "    \n",
    "    #perform backsubstitution\n",
    "    \n",
    "    x[N-1] = b[int(index[N-1])]/A[int(index[N-1]),N-1]\n",
    "    print(x)\n",
    "    for i in range(1,N):\n",
    "        k = N -i;\n",
    "        summ = b[int(index[k])];\n",
    "        for j in range(k+1,N):\n",
    "            summ -= A[int(index[k]),j]*x[j];\n",
    "        x[k] = summ/A[int(index[k]),k]\n",
    "        "
   ]
  },
  {
   "cell_type": "code",
   "execution_count": 42,
   "metadata": {},
   "outputs": [
    {
     "data": {
      "text/plain": [
       "array([0., 0., 0.])"
      ]
     },
     "execution_count": 42,
     "metadata": {},
     "output_type": "execute_result"
    }
   ],
   "source": [
    "x"
   ]
  },
  {
   "cell_type": "code",
   "execution_count": 43,
   "metadata": {},
   "outputs": [
    {
     "data": {
      "text/plain": [
       "array([[ 0. ,  0. ,  1. ],\n",
       "       [ 0. ,  1. ,  0. ],\n",
       "       [-0.2,  0.9,  0.5]])"
      ]
     },
     "execution_count": 43,
     "metadata": {},
     "output_type": "execute_result"
    }
   ],
   "source": [
    "A"
   ]
  },
  {
   "cell_type": "code",
   "execution_count": 44,
   "metadata": {},
   "outputs": [
    {
     "data": {
      "text/plain": [
       "array([ 0. ,  0. , -1.3])"
      ]
     },
     "execution_count": 44,
     "metadata": {},
     "output_type": "execute_result"
    }
   ],
   "source": [
    "b"
   ]
  },
  {
   "cell_type": "code",
   "execution_count": null,
   "metadata": {},
   "outputs": [],
   "source": []
  }
 ],
 "metadata": {
  "kernelspec": {
   "display_name": "Python 3",
   "language": "python",
   "name": "python3"
  },
  "language_info": {
   "codemirror_mode": {
    "name": "ipython",
    "version": 3
   },
   "file_extension": ".py",
   "mimetype": "text/x-python",
   "name": "python",
   "nbconvert_exporter": "python",
   "pygments_lexer": "ipython3",
   "version": "3.7.5"
  }
 },
 "nbformat": 4,
 "nbformat_minor": 2
}
