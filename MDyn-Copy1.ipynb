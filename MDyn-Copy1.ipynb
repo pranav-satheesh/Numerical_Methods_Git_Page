{
 "cells": [
  {
   "cell_type": "code",
   "execution_count": 1,
   "metadata": {},
   "outputs": [
    {
     "data": {
      "text/html": [
       "<style>.container { width:90% !important; }</style>"
      ],
      "text/plain": [
       "<IPython.core.display.HTML object>"
      ]
     },
     "metadata": {},
     "output_type": "display_data"
    }
   ],
   "source": [
    "from IPython.core.display import display, HTML\n",
    "display(HTML(\"<style>.container { width:90% !important; }</style>\"))"
   ]
  },
  {
   "cell_type": "code",
   "execution_count": 2,
   "metadata": {},
   "outputs": [],
   "source": [
    "import numpy as np\n",
    "import matplotlib.pyplot as plt\n",
    "import time\n",
    "from multiprocessing import Pool\n",
    "import multiprocessing"
   ]
  },
  {
   "cell_type": "code",
   "execution_count": 3,
   "metadata": {},
   "outputs": [],
   "source": [
    "def LJpot(r):\n",
    "    #r = np.sqrt(np.sum((X1-X2)**2))\n",
    "    return 4*(1/r**12-1/r**6)\n",
    "\n",
    "def LJF(r):\n",
    "    #r = np.sqrt(np.sum((X1-X2)**2))\n",
    "    if(0<r):\n",
    "        return -24./r**2*((r/2.)**-12 - r**-6)\n",
    "    else:\n",
    "        return 0\n",
    "    \n",
    "def LJpot2(r):\n",
    "    #r = np.sqrt(np.sum((X1-X2)**2))\n",
    "    return 4*(1/r**6-1/r**3)\n",
    "\n",
    "def LJF2(r):\n",
    "    #r = np.sqrt(np.sum((X1-X2)**2))\n",
    "    return -24./r*(r**-6*2**12 - r**-3)"
   ]
  },
  {
   "cell_type": "code",
   "execution_count": 4,
   "metadata": {},
   "outputs": [],
   "source": [
    "N_len = 4\n",
    "steps = 10*500\n",
    "\n",
    "N = 4*N_len**3\n",
    "\n",
    "dt = 0.005\n",
    "t = dt*steps\n",
    "\n",
    "r = np.zeros((int(t/dt),N,3))\n",
    "p = np.zeros((int(t/dt),N,3))\n",
    "U = np.zeros(int(t/dt)-1)\n",
    "K = np.zeros(int(t/dt)-1)\n",
    "E = np.zeros(int(t/dt)-1)\n",
    "P = np.zeros(int(t/dt)-1)\n",
    "T = np.zeros(int(t/dt)-1)\n",
    "\n",
    "a = (4/0.55)**(1./3.)\n",
    "\n",
    "rc = N_len*a/(6*a)*5\n",
    "\n",
    "V = (6*a)**3"
   ]
  },
  {
   "cell_type": "code",
   "execution_count": 5,
   "metadata": {},
   "outputs": [],
   "source": [
    "for i in range(N_len):\n",
    "    for j in range(N_len):\n",
    "        for k in range(N_len):\n",
    "            r[0][N_len**3*0+N_len**2*i+N_len*j+k][0],r[0][N_len**3*0+N_len**2*i+N_len*j+k][1],r[0][N_len**3*0+N_len**2*i+N_len*j+k][2] = k,j,i\n",
    "            r[0][N_len**3*1+N_len**2*i+N_len*j+k][0],r[0][N_len**3*1+N_len**2*i+N_len*j+k][1],r[0][N_len**3*1+N_len**2*i+N_len*j+k][2] = k+1./2,j+1./2,i\n",
    "            r[0][N_len**3*2+N_len**2*i+N_len*j+k][0],r[0][N_len**3*2+N_len**2*i+N_len*j+k][1],r[0][N_len**3*2+N_len**2*i+N_len*j+k][2] = k,j+1./2,i+1./2\n",
    "            r[0][N_len**3*3+N_len**2*i+N_len*j+k][0],r[0][N_len**3*3+N_len**2*i+N_len*j+k][1],r[0][N_len**3*3+N_len**2*i+N_len*j+k][2] = k+1./2,j,i+1./2\n",
    "\n",
    "r = r*a\n",
    "\n",
    "for i in range(N_len):\n",
    "    for j in range(N_len):\n",
    "        for k in range(N_len):\n",
    "            p[0][N_len**3*0+N_len**2*i+N_len*j+k][0],p[0][N_len**3*0+N_len**2*i+N_len*j+k][1],p[0][N_len**3*0+N_len**2*i+N_len*j+k][2] = np.random.normal(loc=0,scale=0.2**0.5),np.random.normal(loc=0,scale=0.2**0.5),np.random.normal(loc=0,scale=0.2**0.5)\n",
    "            p[0][N_len**3*1+N_len**2*i+N_len*j+k][0],p[0][N_len**3*1+N_len**2*i+N_len*j+k][1],p[0][N_len**3*1+N_len**2*i+N_len*j+k][2] = np.random.normal(loc=0,scale=0.2**0.5),np.random.normal(loc=0,scale=0.2**0.5),np.random.normal(loc=0,scale=0.2**0.5)\n",
    "            p[0][N_len**3*2+N_len**2*i+N_len*j+k][0],p[0][N_len**3*2+N_len**2*i+N_len*j+k][1],p[0][N_len**3*2+N_len**2*i+N_len*j+k][2] = np.random.normal(loc=0,scale=0.2**0.5),np.random.normal(loc=0,scale=0.2**0.5),np.random.normal(loc=0,scale=0.2**0.5)\n",
    "            p[0][N_len**3*3+N_len**2*i+N_len*j+k][0],p[0][N_len**3*3+N_len**2*i+N_len*j+k][1],p[0][N_len**3*3+N_len**2*i+N_len*j+k][2] = np.random.normal(loc=0,scale=0.2**0.5),np.random.normal(loc=0,scale=0.2**0.5),np.random.normal(loc=0,scale=0.2**0.5)\n",
    "        \n",
    "R = np.zeros((27,3))\n",
    "\n",
    "rvec = np.array([0,0,0])\n",
    "\n",
    "R[0] = rvec + np.array([1, 1, 1])*N_len*a\n",
    "R[1] = rvec + np.array([1, 1, 0])*N_len*a\n",
    "R[2] = rvec + np.array([1, 1, -1])*N_len*a\n",
    "\n",
    "R[3] = rvec + np.array([1, 0, 1])*N_len*a\n",
    "R[4] = rvec + np.array([1, 0, 0])*N_len*a\n",
    "R[5] = rvec + np.array([1, 0, -1])*N_len*a\n",
    "\n",
    "R[6] = rvec + np.array([1, -1, 1])*N_len*a\n",
    "R[7] = rvec + np.array([1, -1, 0])*N_len*a\n",
    "R[8] = rvec + np.array([1, -1, -1])*N_len*a\n",
    "\n",
    "R[9] = rvec + np.array([0, 1, 1])*N_len*a\n",
    "R[10] = rvec + np.array([0, 1, 0])*N_len*a\n",
    "R[11] = rvec + np.array([0, 1, -1])*N_len*a\n",
    "\n",
    "R[12] = rvec + np.array([0, 0, 1])*N_len*a\n",
    "R[13] = rvec + np.array([0, 0, 0])*N_len*a\n",
    "R[14] = rvec + np.array([0, 0, -1])*N_len*a\n",
    "\n",
    "R[15] = rvec + np.array([0, -1, 1])*N_len*a\n",
    "R[16] = rvec + np.array([0, -1, 0])*N_len*a\n",
    "R[17] = rvec + np.array([0, -1, -1])*N_len*a\n",
    "\n",
    "R[18] = rvec + np.array([-1, 1, 1])*N_len*a\n",
    "R[19] = rvec + np.array([-1, 1, 0])*N_len*a\n",
    "R[20] = rvec + np.array([-1, 1, -1])*N_len*a\n",
    "\n",
    "R[21] = rvec + np.array([-1, 0, 1])*N_len*a\n",
    "R[22] = rvec + np.array([-1, 0, 0])*N_len*a\n",
    "R[23] = rvec + np.array([-1, 0, -1])*N_len*a\n",
    "\n",
    "R[24] = rvec + np.array([-1, -1, 1])*N_len*a\n",
    "R[25] = rvec + np.array([-1, -1, 0])*N_len*a\n",
    "R[26] = rvec + np.array([-1, -1, -1])*N_len*a\n"
   ]
  },
  {
   "cell_type": "code",
   "execution_count": 6,
   "metadata": {
    "scrolled": true
   },
   "outputs": [],
   "source": [
    "for i in range(N):\n",
    "    rvec = (r[0]-r[0][i])\n",
    "    for j in range(N):\n",
    "        R2 = R + rvec[j]\n",
    "        d = np.sum(R2**2,axis=1)        \n",
    "        arg_min = np.argmin(d)\n",
    "        rmag = d[arg_min]\n",
    "        if(0<rmag<rc**2):\n",
    "            U[0] += 4*(1/rmag**6-1/rmag**3)\n",
    "            \n",
    "U[0] = U[0]/2/N\n",
    "K[0] = 1./2*np.sum(p[0]**2)/N\n",
    "T[0] = 2/3*K[0]\n",
    "P[0] += N/V*T[0]\n",
    "\n",
    "for i in range(N):\n",
    "    r[1][i] = r[0][i] + p[0][i]*dt\n",
    "\n",
    "r = r%(N_len*a)"
   ]
  },
  {
   "cell_type": "code",
   "execution_count": 7,
   "metadata": {},
   "outputs": [],
   "source": [
    "𝑐def evolve(it):\n",
    "    U2 = 0\n",
    "    P2 = 0\n",
    "    i2,t2 = it\n",
    "    temp2 = np.zeros(3)\n",
    "    rvec2 = (r[t2]-r[t2][i2])\n",
    "    for j in range(N):\n",
    "        R22 = R + rvec2[j]\n",
    "        d2 = np.sum(R22**2,axis=1) \n",
    "        arg_min2 = np.argmin(d2)\n",
    "        rmag2 = d2[arg_min2]\n",
    "        if(0<rmag2<rc**2):\n",
    "                temp2 += (-24.*(rmag2**-7*2 - rmag2**-4))*R22[arg_min2]\n",
    "                U2 += 4*(1/rmag2**6-1/rmag2**3)\n",
    "\n",
    "    del_r = r[t2][i2]-r[t2-1][i2]\n",
    "    for j in range(3):\n",
    "        if(del_r[j]**2>rc**2):\n",
    "            del_r[j] = np.sign(del_r[j])*(np.abs(del_r[j])-N_len*a)\n",
    "\n",
    "    return [r[t2][i2] + del_r + temp2*dt**2,U2/2/N,P2/2/N,(del_r+1./2*temp2*dt**2)/dt]"
   ]
  },
  {
   "cell_type": "code",
   "execution_count": 8,
   "metadata": {
    "scrolled": true
   },
   "outputs": [
    {
     "name": "stderr",
     "output_type": "stream",
     "text": [
      "Process ForkPoolWorker-3853:\n",
      "Process ForkPoolWorker-3854:\n",
      "Process ForkPoolWorker-3857:\n",
      "Process ForkPoolWorker-3856:\n",
      "Process ForkPoolWorker-3855:\n",
      "Process ForkPoolWorker-3852:\n",
      "Process ForkPoolWorker-3851:\n",
      "Traceback (most recent call last):\n",
      "Traceback (most recent call last):\n",
      "Traceback (most recent call last):\n",
      "  File \"/home/pranav/miniconda3/lib/python3.7/multiprocessing/process.py\", line 297, in _bootstrap\n",
      "    self.run()\n",
      "  File \"/home/pranav/miniconda3/lib/python3.7/multiprocessing/process.py\", line 297, in _bootstrap\n",
      "    self.run()\n",
      "  File \"/home/pranav/miniconda3/lib/python3.7/multiprocessing/process.py\", line 99, in run\n",
      "    self._target(*self._args, **self._kwargs)\n",
      "  File \"/home/pranav/miniconda3/lib/python3.7/multiprocessing/process.py\", line 99, in run\n",
      "    self._target(*self._args, **self._kwargs)\n",
      "  File \"/home/pranav/miniconda3/lib/python3.7/multiprocessing/pool.py\", line 121, in worker\n",
      "    result = (True, func(*args, **kwds))\n",
      "  File \"/home/pranav/miniconda3/lib/python3.7/multiprocessing/pool.py\", line 44, in mapstar\n",
      "    return list(map(*args))\n",
      "  File \"/home/pranav/miniconda3/lib/python3.7/multiprocessing/process.py\", line 297, in _bootstrap\n",
      "    self.run()\n",
      "  File \"<ipython-input-7-8a2ccb70cb45>\", line 8, in evolve\n",
      "    R22 = R + rvec2[j]\n",
      "  File \"/home/pranav/miniconda3/lib/python3.7/multiprocessing/process.py\", line 99, in run\n",
      "    self._target(*self._args, **self._kwargs)\n",
      "  File \"/home/pranav/miniconda3/lib/python3.7/multiprocessing/pool.py\", line 121, in worker\n",
      "    result = (True, func(*args, **kwds))\n",
      "KeyboardInterrupt\n",
      "  File \"/home/pranav/miniconda3/lib/python3.7/multiprocessing/pool.py\", line 121, in worker\n",
      "    result = (True, func(*args, **kwds))\n",
      "  File \"/home/pranav/miniconda3/lib/python3.7/multiprocessing/pool.py\", line 44, in mapstar\n",
      "    return list(map(*args))\n",
      "  File \"/home/pranav/miniconda3/lib/python3.7/multiprocessing/pool.py\", line 44, in mapstar\n",
      "    return list(map(*args))\n",
      "  File \"<ipython-input-7-8a2ccb70cb45>\", line 14, in evolve\n",
      "    U2 += 4*(1/rmag2**6-1/rmag2**3)\n",
      "KeyboardInterrupt\n",
      "  File \"<ipython-input-7-8a2ccb70cb45>\", line 13, in evolve\n",
      "    temp2 += (-24.*(rmag2**-7*2 - rmag2**-4))*R22[arg_min2]\n",
      "KeyboardInterrupt\n",
      "Traceback (most recent call last):\n",
      "Traceback (most recent call last):\n",
      "Traceback (most recent call last):\n",
      "  File \"/home/pranav/miniconda3/lib/python3.7/multiprocessing/process.py\", line 297, in _bootstrap\n",
      "    self.run()\n",
      "Traceback (most recent call last):\n",
      "  File \"/home/pranav/miniconda3/lib/python3.7/multiprocessing/process.py\", line 297, in _bootstrap\n",
      "    self.run()\n",
      "  File \"/home/pranav/miniconda3/lib/python3.7/multiprocessing/process.py\", line 297, in _bootstrap\n",
      "    self.run()\n",
      "  File \"/home/pranav/miniconda3/lib/python3.7/multiprocessing/process.py\", line 297, in _bootstrap\n",
      "    self.run()\n",
      "  File \"/home/pranav/miniconda3/lib/python3.7/multiprocessing/process.py\", line 99, in run\n",
      "    self._target(*self._args, **self._kwargs)\n"
     ]
    }
   ],
   "source": [
    "t1 = time.time()\n",
    "\n",
    "iter_i = []\n",
    "for i in range(N):\n",
    "    iter_i.append((i,1))\n",
    "\n",
    "for ti in range(1,int(t/dt)-1):\n",
    "    \n",
    "    pool = Pool(processes=7)\n",
    "    res = pool.map(evolve,iter_i,chunksize=int(N/6.5))\n",
    "    pool.close()\n",
    "    \n",
    "    for i in range(N):\n",
    "        r[ti+1][i] = res[i][0]\n",
    "        p[ti][i] = res[i][-1]\n",
    "        iter_i[i] = (i,ti+1)\n",
    "    \n",
    "    r = r%(N_len*a)\n",
    "    \n",
    "    U[ti] = np.sum(np.array(res)[:,1]) \n",
    "    K[ti] = 1./2*np.sum(p[ti]**2)/N\n",
    "    T[ti] = 2/3*K[ti]\n",
    "    P[ti] = res[i][2]+N/V*T[ti]\n",
    "\n",
    "print(time.time()-t1)"
   ]
  },
  {
   "cell_type": "code",
   "execution_count": null,
   "metadata": {},
   "outputs": [],
   "source": [
    "plt.plot(range(0,int(t/dt)-1),T)\n",
    "plt.plot(range(0,int(t/dt)-1),U)\n",
    "plt.plot(range(0,int(t/dt)-1),K)\n",
    "plt.plot(range(0,int(t/dt)-1),U+K)"
   ]
  },
  {
   "cell_type": "code",
   "execution_count": 15,
   "metadata": {},
   "outputs": [],
   "source": [
    "import csv\n",
    "\n",
    "RR = r.tolist()\n",
    "with open('r.csv', 'w', newline='') as csvfile:\n",
    "    writer = csv.writer(csvfile, delimiter=',')\n",
    "    writer.writerows(RR)\n",
    "\n",
    "\n",
    "PP = p.tolist()\n",
    "with open('p.csv', 'w', newline='') as csvfile:\n",
    "    writer = csv.writer(csvfile, delimiter=',')\n",
    "    writer.writerows(PP)\n",
    "    \n",
    "\n",
    "np.savetxt('T.csv',T)\n",
    "np.savetxt('U.csv',U)\n",
    "np.savetxt('K.csv',K)"
   ]
  },
  {
   "cell_type": "code",
   "execution_count": null,
   "metadata": {},
   "outputs": [],
   "source": [
    "with open('r.csv', 'r') as f:\n",
    "    reader = csv.reader(f)\n",
    "    examples = list(reader)\n",
    "\n",
    "print(examples)\n",
    "nwexamples = []\n",
    "for row in examples:\n",
    "    nwrow = []\n",
    "    for r in row:\n",
    "        nwrow.append(eval(r))\n",
    "    nwexamples.append(nwrow)\n",
    "print(nwexamples)"
   ]
  },
  {
   "cell_type": "code",
   "execution_count": 10,
   "metadata": {},
   "outputs": [
    {
     "name": "stdout",
     "output_type": "stream",
     "text": [
      "-3.6855251885403617 0.3159600140494896 0.21064000936632638\n"
     ]
    }
   ],
   "source": [
    "print(U[0],K[0],T[0])"
   ]
  },
  {
   "cell_type": "raw",
   "metadata": {},
   "source": [
    "t1 = time.time()\n",
    "for ti in range(1,int(t/dt)-1):\n",
    "\n",
    "    iter_i = []\n",
    "    for i in range(864):\n",
    "        iter_i.append((i,ti))\n",
    "    \n",
    "    pool = Pool(processes=8)\n",
    "    res = pool.map(evolve,iter_i)\n",
    "    pool.close()\n",
    "    \n",
    "    for i in range(864):\n",
    "        r[ti+1][i] = res[i][0]\n",
    "        p[ti] = (r[ti+1]-r[ti-1])/2/dt\n",
    "        \n",
    "        U[ti] += res[i][1]\n",
    "        K[ti] = 1./2*np.sum(p[ti]**2)/864\n",
    "        T[ti] = 2/3/N*K[ti]\n",
    "        P[ti] = res[i][2]+N/V*T[ti] \n",
    "\n",
    "print(time.time()-t1)"
   ]
  },
  {
   "cell_type": "raw",
   "metadata": {},
   "source": [
    "temp = np.zeros((864,3))\n",
    "t1 = time.time()\n",
    "for t in range(1,2):\n",
    "    for i in range(864):\n",
    "        rvec = (r[t]-r[t][i])\n",
    "        for j in range(864):\n",
    "            R2 = R + rvec[j]\n",
    "            d = np.sum(R2**2,axis=1)        \n",
    "            arg_min = np.argmin(d)\n",
    "            rmag = d[arg_min]\n",
    "            if(0<rmag<25):\n",
    "                temp[i] += LJF2(rmag)*R2[arg_min]\n",
    "                \n",
    "    r[t+1] = 2*r[t] - r[t-1] + temp*dT**2\n",
    "    p[t] = (r[t+1]-r[t-1])/2/dT\n",
    "    \n",
    "print(time.time()-t1)"
   ]
  },
  {
   "cell_type": "raw",
   "metadata": {},
   "source": [
    "temp = np.zeros((864,3))\n",
    "t1 = time.time()\n",
    "for t in range(1,int(T/dT)-1):\n",
    "    for i in range(864):\n",
    "        rvec = (r[0][i]-r[0])\n",
    "        rmag = np.sum(rvec**2,axis=1)\n",
    "        for j in range(864):\n",
    "            if(0<rmag[j]<25):\n",
    "                temp[i] += LJF2(rmag[j])*rvec[j]\n",
    "                \n",
    "    r[t+1] = 2*r[t] - r[t-1] + temp*dT**2\n",
    "    p[t] = (r[t+1]-r[t-1])/2/dT\n",
    "    \n",
    "print(time.time()-t1)"
   ]
  },
  {
   "cell_type": "raw",
   "metadata": {},
   "source": [
    "U = np.zeros([])\n",
    "for i in range(864):\n",
    "    for j in range(864):\n",
    "        R2 = R + (r[0][i]-r[0][j])\n",
    "        \n",
    "        d = np.sum(R2**2,axis=1)\n",
    "\n",
    "        arg_min = np.argmin(d)\n",
    "\n",
    "        rmag = d[arg_min]\n",
    "\n",
    "        if(i!=j and 0<rmag<25):\n",
    "            U+=LJpot2(rmag)     \n",
    "U = U/2/N"
   ]
  },
  {
   "cell_type": "raw",
   "metadata": {},
   "source": [
    "U = 0\n",
    "for i in range(864):\n",
    "    for j in range(864):\n",
    "        R2 = R + (r[0][i]-r[0][j])\n",
    "        \n",
    "        d = np.sum(R2**2,axis=1)\n",
    "\n",
    "        arg_min = np.argmin(d)\n",
    "\n",
    "        rmag = d[arg_min]\n",
    "\n",
    "        if(i!=j and 0<rmag<25):\n",
    "            U+=LJpot2(rmag)     \n",
    "U = U/2/N\n",
    "U"
   ]
  },
  {
   "cell_type": "raw",
   "metadata": {},
   "source": [
    "R = 4.5\n",
    "U = 4*(R**-12-R**-6)\n",
    "print(U)"
   ]
  },
  {
   "cell_type": "raw",
   "metadata": {},
   "source": [
    "C2*(1/r)**12+C3*"
   ]
  },
  {
   "cell_type": "raw",
   "metadata": {},
   "source": [
    "# R = np.arange(2.2,2.5,0.01)\n",
    "U = 4*(R**-12-R**-6)\n",
    "F = -24./R*((R/2.)**-12-R**-6)"
   ]
  },
  {
   "cell_type": "raw",
   "metadata": {},
   "source": [
    "plt.plot(R,F*R)"
   ]
  },
  {
   "cell_type": "code",
   "execution_count": null,
   "metadata": {},
   "outputs": [],
   "source": []
  }
 ],
 "metadata": {
  "kernelspec": {
   "display_name": "Python 3",
   "language": "python",
   "name": "python3"
  },
  "language_info": {
   "codemirror_mode": {
    "name": "ipython",
    "version": 3
   },
   "file_extension": ".py",
   "mimetype": "text/x-python",
   "name": "python",
   "nbconvert_exporter": "python",
   "pygments_lexer": "ipython3",
   "version": "3.7.7"
  }
 },
 "nbformat": 4,
 "nbformat_minor": 4
}
