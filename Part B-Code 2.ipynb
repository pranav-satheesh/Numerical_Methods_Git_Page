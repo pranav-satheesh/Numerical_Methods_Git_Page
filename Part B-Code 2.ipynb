{
 "cells": [
  {
   "cell_type": "markdown",
   "metadata": {},
   "source": [
    "## Code 2\n",
    "\n",
    "I will first generalise this Boundary value problem.\n",
    "$$y^{''} + a y^{'} + b y = c x$$\n",
    "\n",
    "Writing down the finite difference for each terms gives us,\n",
    "\n",
    "$$ \\frac{f_{i+1} - 2 f_{i} + f_{i-1}}{h^2} + a \\frac{f_{i+1}-f_{i}}{h} + b f_i = c x_i$$\n",
    "\n",
    "On simplifying, one gets:\n",
    "\n",
    "$$f_{i+1}(1+a h) + f_i ( bh^2 - ah - 2) + f_{i-1} = c x_i$$\n",
    "\n",
    "Using the boundary conditions we get a set of equations:\n",
    "\n",
    "\n",
    "\\begin{align}\n",
    "Y_1 &= BV_1 \\\\\n",
    "Y_3(1+ah) + Y_2(b h^2 - ah -2) + Y_1 &= c X_2 h^2\\\\\n",
    "\\cdots \\\\\n",
    "Y_{M+1}(1+ah) + Y_M(b h^2 - ah -2) + Y_{M-1} &= c X_M h^2\\\\\n",
    "Y_{M+1}& = BV_2\n",
    "\\end{align}\n",
    "\n",
    "Where $BV_1$ and $BV_2$ are the boundary values. This forms a Matrix equation $A \\cdot Y = X$."
   ]
  },
  {
   "cell_type": "code",
   "execution_count": 2,
   "metadata": {},
   "outputs": [],
   "source": [
    "import numpy as np\n",
    "import matplotlib.pyplot as plt\n",
    "from scipy import sparse"
   ]
  },
  {
   "cell_type": "markdown",
   "metadata": {},
   "source": [
    "$$X_i = (i-1) h$$\n",
    "\n",
    "Where, h = 1/M and i runs from $0,1,2 \\cdots M+1$ such that the interval for the problem is [0,1]\n",
    "\n",
    "To ensure 4 signficant figures of accuracy, we take $M = 100$ such that $dx=0.01$. Since the error involved in the finite difference is $h^2$ this ensures an accuracy of $dx^2 = 0.0001$"
   ]
  },
  {
   "cell_type": "code",
   "execution_count": 3,
   "metadata": {},
   "outputs": [],
   "source": [
    "\n",
    "J = 100\n",
    "dx = 1.0/J\n",
    "x = np.linspace(0, 1, J+1).transpose()"
   ]
  },
  {
   "cell_type": "code",
   "execution_count": 5,
   "metadata": {},
   "outputs": [],
   "source": [
    "aa = 3\n",
    "bb = -5\n",
    "cc = 7\n",
    "\n",
    "BV1 = -20\n",
    "BV2 = 100"
   ]
  },
  {
   "cell_type": "code",
   "execution_count": 6,
   "metadata": {},
   "outputs": [],
   "source": [
    "b = np.zeros((J+1, 1)).ravel()\n",
    "b[1:J] = cc*dx**2*x[1:J]"
   ]
  },
  {
   "cell_type": "code",
   "execution_count": 7,
   "metadata": {},
   "outputs": [],
   "source": [
    "b[0] = BV1\n",
    "b[J] = BV2"
   ]
  },
  {
   "cell_type": "code",
   "execution_count": 8,
   "metadata": {},
   "outputs": [
    {
     "data": {
      "text/plain": [
       "-2.0305"
      ]
     },
     "execution_count": 8,
     "metadata": {},
     "output_type": "execute_result"
    }
   ],
   "source": [
    "bb*dx**2-aa*dx-2"
   ]
  },
  {
   "cell_type": "code",
   "execution_count": 9,
   "metadata": {},
   "outputs": [],
   "source": [
    "main_diag = (bb*dx**2-aa*dx-2)*np.ones((J+1, 1)).ravel()\n",
    "off_diag1 = (1+aa*dx)*np.ones((J, 1)).ravel()\n",
    "off_diag2 = 1.0*np.ones((J, 1)).ravel()\n",
    "\n",
    "a = main_diag.shape[0]\n",
    "\n",
    "diagonals = [main_diag, off_diag2, off_diag1]\n",
    "\n",
    "A = sparse.diags(diagonals, [0,-1,1], shape=(a,a)).toarray() #Making the tridiagonal matrix\n",
    "A[0, 0] = 1\n",
    "A[0, 1] = 0\n",
    "A[J, J] = 1\n",
    "A[J, J-1] = 0"
   ]
  },
  {
   "cell_type": "code",
   "execution_count": 10,
   "metadata": {},
   "outputs": [],
   "source": [
    "y = np.linalg.solve(A,b) #solving the matrix equation to get Y\n",
    "\n",
    "xf = np.linspace(0,1,1001)"
   ]
  },
  {
   "cell_type": "code",
   "execution_count": 22,
   "metadata": {},
   "outputs": [
    {
     "data": {
      "image/png": "[encoded data removed]",
      "text/plain": [
       "<Figure size 648x432 with 1 Axes>"
      ]
     },
     "metadata": {
      "needs_background": "light"
     },
     "output_type": "display_data"
    }
   ],
   "source": [
    "plt.figure(figsize=[9,6])\n",
    "plt.plot(x, y)\n",
    "plt.xlabel('x')\n",
    "plt.ylabel('y(x)')\n",
    "plt.title(\"Solution for the BVP \")\n",
    "plt.grid()\n",
    "plt.savefig(\"yxsoln.pdf\")"
   ]
  },
  {
   "cell_type": "code",
   "execution_count": 12,
   "metadata": {},
   "outputs": [
    {
     "data": {
      "text/plain": [
       "array([-20.        , -17.58641299, -15.25165493, -12.99228965,\n",
       "       -10.80501768,  -8.68667063,  -6.63420586,  -4.64470132,\n",
       "        -2.71535066,  -0.84345844,   0.97356437,   2.73820475,\n",
       "         4.45285182,   6.11980084,   7.74125708,   9.31933948,\n",
       "        10.8560842 ,  12.35344805,  13.81331171,  15.23748289,\n",
       "        16.62769933,  17.98563164,  19.31288613,  20.61100743,\n",
       "        21.88148102,  23.12573572,  24.34514597,  25.54103415,\n",
       "        26.71467269,  27.86728617,  29.00005327,  30.11410874,\n",
       "        31.21054516,  32.29041478,  33.35473111,  34.40447062,\n",
       "        35.44057425,  36.46394894,  37.47546899,  38.47597753,\n",
       "        39.46628774,  40.44718421,  41.41942407,  42.38373822,\n",
       "        43.34083241,  44.29138835,  45.23606468,  46.17549805,\n",
       "        47.11030399,  48.04107786,  48.96839574,  49.89281523,\n",
       "        50.81487629,  51.73510202,  52.65399938,  53.57205993,\n",
       "        54.48976049,  55.40756383,  56.32591928,  57.24526337,\n",
       "        58.16602039,  59.08860294,  60.0134125 ,  60.94083995,\n",
       "        61.87126603,  62.80506187,  63.74258942,  64.68420188,\n",
       "        65.63024418,  66.58105333,  67.53695883,  68.49828309,\n",
       "        69.46534173,  70.43844398,  71.41789298,  72.40398613,\n",
       "        73.39701539,  74.3972676 ,  75.40502472,  76.42056418,\n",
       "        77.44415907,  78.47607845,  79.51658761,  80.56594823,\n",
       "        81.62441872,  82.69225435,  83.76970751,  84.85702791,\n",
       "        85.95446278,  87.06225705,  88.18065356,  89.3098932 ,\n",
       "        90.45021513,  91.60185692,  92.7650547 ,  93.94004335,\n",
       "        95.12705662,  96.3263273 ,  97.53808734,  98.76256801,\n",
       "       100.        ])"
      ]
     },
     "execution_count": 12,
     "metadata": {},
     "output_type": "execute_result"
    }
   ],
   "source": [
    "y"
   ]
  },
  {
   "cell_type": "markdown",
   "metadata": {},
   "source": [
    "The above is the solution Matrix which well enough has above 4 significan digits of accuracy"
   ]
  },
  {
   "cell_type": "code",
   "execution_count": null,
   "metadata": {},
   "outputs": [],
   "source": []
  }
 ],
 "metadata": {
  "kernelspec": {
   "display_name": "Python 3.7.7 64-bit ('base': conda)",
   "language": "python",
   "name": "python37764bitbaseconda781db70e088b4a4896d6b91912286919"
  },
  "language_info": {
   "codemirror_mode": {
    "name": "ipython",
    "version": 3
   },
   "file_extension": ".py",
   "mimetype": "text/x-python",
   "name": "python",
   "nbconvert_exporter": "python",
   "pygments_lexer": "ipython3",
   "version": "3.7.7"
  }
 },
 "nbformat": 4,
 "nbformat_minor": 4
}
