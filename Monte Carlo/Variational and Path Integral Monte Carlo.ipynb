{
 "cells": [
  {
   "cell_type": "code",
   "execution_count": 55,
   "metadata": {},
   "outputs": [],
   "source": [
    "import numpy as np\n",
    "import matplotlib.pyplot as plt"
   ]
  },
  {
   "cell_type": "code",
   "execution_count": 383,
   "metadata": {},
   "outputs": [],
   "source": [
    "#constants\n",
    "\n",
    "HBM = 7.6359  #eV\n",
    "E2 = 14.409  #eV\n",
    "a0 = 0.539 #Angstrom\n",
    "alpha = 2*a0"
   ]
  },
  {
   "cell_type": "code",
   "execution_count": 366,
   "metadata": {},
   "outputs": [],
   "source": [
    "def aeq(a,S):\n",
    "    return a0/(1+ np.exp(-S/a))-a\n",
    "\n",
    "\n",
    "#returns the value of a by solving the transcedental equation\n",
    "\n",
    "def solvea(S,n=100):\n",
    "    \n",
    "    l,m=0.1,1 #Angstrom\n",
    "    \n",
    "    for i in range(n):\n",
    "        \n",
    "        fl=aeq(l,S)\n",
    "        fm=aeq(m,S)\n",
    "        \n",
    "        \n",
    "        p=(l+m)/2\n",
    "        \n",
    "        fp=aeq(p,S)\n",
    "        \n",
    "        if fl*fm<0:\n",
    "            \n",
    "            if fl*fp<0:\n",
    "                m=p\n",
    "            else:\n",
    "                fp*fm<0\n",
    "                l=p\n",
    "        else:\n",
    "               break\n",
    "\n",
    "    return p"
   ]
  },
  {
   "cell_type": "code",
   "execution_count": 78,
   "metadata": {},
   "outputs": [],
   "source": [
    "def distance(x1,y1,z1):\n",
    "    return np.sqrt(x1**2 +y1**2 +z1**2)\n",
    "\n",
    "\n",
    "\n",
    "def R12(r1,r2):\n",
    "    #euclidean distance\n",
    "    x1 = r1[0];\n",
    "    y1 = r1[1];\n",
    "    z1 = r1[2];\n",
    "    \n",
    "    x2 = r2[0];\n",
    "    y2 = r2[1];\n",
    "    z2 = r2[2];\n",
    "    \n",
    "    return distance(x1-x2,y1-y2,z1-z2)\n",
    "\n",
    "def Rl(r,S):\n",
    "    x = r[0];\n",
    "    y = r[1];\n",
    "    z = r[2];\n",
    "    \n",
    "    return distance(x,y,z+S/2)\n",
    "\n",
    "def Rr(r,S):\n",
    "    x = r[0];\n",
    "    y = r[1];\n",
    "    z = r[2];\n",
    "    \n",
    "    return distance(x,y,z-S/2)\n",
    "    \n",
    "    "
   ]
  },
  {
   "cell_type": "code",
   "execution_count": 79,
   "metadata": {},
   "outputs": [],
   "source": [
    "#Wavefunction\n",
    "\n",
    "def wavefunction(r1,r2,beta,S):\n",
    "    \n",
    "    alpha = 2*a0;\n",
    "    a = solvea(S)\n",
    "    \n",
    "    r12=R12(r1,r2)\n",
    "    rL1=Rl(r1,S)\n",
    "    rL2=Rl(r2,S)\n",
    "    rR1=Rr(r1,S)\n",
    "    rR2=Rr(r2,S)\n",
    "    \n",
    "    \n",
    "    phi1 = np.exp(-rL1/a) + np.exp(-rR1/a);\n",
    "    phi2 = np.exp(-rL2/a) + np.exp(-rR2/a);\n",
    "    \n",
    "    \n",
    "    f = np.exp(r12/(alpha*(1+beta*r12)));\n",
    "    \n",
    "    phi = phi1*phi2*f;\n",
    "    \n",
    "    return phi**2;\n"
   ]
  },
  {
   "cell_type": "code",
   "execution_count": 175,
   "metadata": {},
   "outputs": [],
   "source": [
    "q = np.array([3,4,5])"
   ]
  },
  {
   "cell_type": "code",
   "execution_count": 177,
   "metadata": {},
   "outputs": [
    {
     "data": {
      "text/plain": [
       "8"
      ]
     },
     "execution_count": 177,
     "metadata": {},
     "output_type": "execute_result"
    }
   ],
   "source": [
    "q[0]+5"
   ]
  },
  {
   "cell_type": "code",
   "execution_count": null,
   "metadata": {},
   "outputs": [],
   "source": []
  },
  {
   "cell_type": "code",
   "execution_count": 280,
   "metadata": {},
   "outputs": [],
   "source": [
    "#MCMC\n",
    "\n",
    "def MCMCrun(r1,r2,step,beta,S):\n",
    "    \n",
    "    \"Takes Input in rx,ry,rz form\"\n",
    "    x1 = r1[0];\n",
    "    y1 = r1[1];\n",
    "    z1 = r1[2];\n",
    "    \n",
    "    x2 = r2[0];\n",
    "    y2 = r2[1];\n",
    "    z2 = r2[2];\n",
    "    \n",
    "    change1 = step*(2*np.random.rand()-1)\n",
    "    \n",
    "    change2 = step*(2*np.random.rand()-1)\n",
    "    \n",
    "    rt1 = [x1+change1,y1+change1,z1+change1]\n",
    "    \n",
    "    rt2 = [x2+change2,y2+change2,z2+change2]   \n",
    "    \n",
    "    eta = np.random.uniform(0,1);\n",
    "    \n",
    "    \n",
    "    #print(rt1,r1)\n",
    "    \n",
    "    R = wavefunction(rt1,rt2,beta,S)/wavefunction(r1,r2,beta,S);\n",
    "   \n",
    "    #print(R)\n",
    "    #use acceptance ratio to evaluate efficiency\n",
    "        \n",
    "    if R>eta:\n",
    "        rnew1 = rt1;\n",
    "        rnew2 = rt2;\n",
    "        acc = 1\n",
    "    else:\n",
    "        rnew1 = r1;\n",
    "        rnew2 = r2;\n",
    "        acc = 0\n",
    "        \n",
    "    return rnew1,rnew2,acc"
   ]
  },
  {
   "cell_type": "code",
   "execution_count": 311,
   "metadata": {},
   "outputs": [],
   "source": [
    "thermalise = 100\n",
    "r1 = [[0.5,0.5,0.5]]\n",
    "r2 = [[0.5,0.5,-0.5]]\n",
    "Acc = 0\n",
    "delta = 0.4;\n",
    "beta = 0.2;\n",
    "S = 0.5;\n",
    "for i in range(thermalise):\n",
    "    r1[0],r2[0],acc = MCMCrun(r1[0],r2[0],delta,beta,S)\n",
    "    Acc = Acc + acc\n",
    "    "
   ]
  },
  {
   "cell_type": "code",
   "execution_count": 312,
   "metadata": {},
   "outputs": [
    {
     "data": {
      "text/plain": [
       "[[0.114414401737185, 0.114414401737185, 0.114414401737185]]"
      ]
     },
     "execution_count": 312,
     "metadata": {},
     "output_type": "execute_result"
    }
   ],
   "source": [
    "r1"
   ]
  },
  {
   "cell_type": "code",
   "execution_count": 313,
   "metadata": {},
   "outputs": [
    {
     "data": {
      "text/plain": [
       "[[0.5196848183267286, 0.5196848183267286, -0.480315181673271]]"
      ]
     },
     "execution_count": 313,
     "metadata": {},
     "output_type": "execute_result"
    }
   ],
   "source": [
    "r2"
   ]
  },
  {
   "cell_type": "code",
   "execution_count": 314,
   "metadata": {},
   "outputs": [
    {
     "data": {
      "text/plain": [
       "60"
      ]
     },
     "execution_count": 314,
     "metadata": {},
     "output_type": "execute_result"
    }
   ],
   "source": [
    "Acc"
   ]
  },
  {
   "cell_type": "code",
   "execution_count": 310,
   "metadata": {},
   "outputs": [
    {
     "data": {
      "text/plain": [
       "([0.0835560495285576, 0.0835560495285576, 0.0835560495285576],\n",
       " [0.06829329633854037, 0.06829329633854037, -0.9317067036614606],\n",
       " 1)"
      ]
     },
     "execution_count": 310,
     "metadata": {},
     "output_type": "execute_result"
    }
   ],
   "source": [
    "MCMCrun(r1[0],r2[0],delta,beta,S)"
   ]
  },
  {
   "cell_type": "code",
   "execution_count": 408,
   "metadata": {},
   "outputs": [
    {
     "data": {
      "text/plain": [
       "5402"
      ]
     },
     "execution_count": 408,
     "metadata": {},
     "output_type": "execute_result"
    }
   ],
   "source": [
    "Acc"
   ]
  },
  {
   "cell_type": "code",
   "execution_count": 350,
   "metadata": {},
   "outputs": [],
   "source": [
    "r1 = np.array(r1)"
   ]
  },
  {
   "cell_type": "code",
   "execution_count": 351,
   "metadata": {},
   "outputs": [],
   "source": [
    "r2 = np.array(r2)"
   ]
  },
  {
   "cell_type": "code",
   "execution_count": 352,
   "metadata": {},
   "outputs": [
    {
     "data": {
      "text/plain": [
       "array([0.1810397 , 0.00521779, 0.00521779, ..., 0.1874295 , 0.48170608,\n",
       "       0.28599037])"
      ]
     },
     "execution_count": 352,
     "metadata": {},
     "output_type": "execute_result"
    }
   ],
   "source": [
    "r1[:,0]"
   ]
  },
  {
   "cell_type": "code",
   "execution_count": 347,
   "metadata": {},
   "outputs": [
    {
     "data": {
      "text/plain": [
       "(array([  7.,  13.,  15.,  48., 160., 279., 277., 154.,  28.,  20.]),\n",
       " array([-0.95625011, -0.79056873, -0.62488735, -0.45920597, -0.29352459,\n",
       "        -0.12784321,  0.03783817,  0.20351955,  0.36920093,  0.53488231,\n",
       "         0.70056369]),\n",
       " <BarContainer object of 10 artists>)"
      ]
     },
     "execution_count": 347,
     "metadata": {},
     "output_type": "execute_result"
    },
    {
     "data": {
      "image/png": "[encoded data removed]",
      "text/plain": [
       "<Figure size 432x288 with 1 Axes>"
      ]
     },
     "metadata": {
      "needs_background": "light"
     },
     "output_type": "display_data"
    }
   ],
   "source": [
    "plt.hist(r1[:,1])"
   ]
  },
  {
   "cell_type": "code",
   "execution_count": 377,
   "metadata": {},
   "outputs": [],
   "source": [
    "def chi(r,a):\n",
    "    return np.exp(-r/a)\n",
    "\n",
    "def FDchi(r,a):\n",
    "    return -chi(r,a)/a\n",
    "\n",
    "def SDchi(r,a):\n",
    "    return chi(r,a)/(a**2)\n",
    "\n",
    "def lapchi(r,a):\n",
    "    return SDchi(r,a)+2*FDchi(r,a)/r\n",
    "\n",
    "def F(r,alpha,beta):\n",
    "    return np.exp(r/(alpha*(1+beta*r)))\n",
    "\n",
    "def FD(r,alpha,beta):\n",
    "    return F(r,alpha,beta)/(alpha*(1+beta*r)**2)\n",
    "\n",
    "def SD(r,alpha,beta):\n",
    "    return ((FD(r,alpha,beta)**2)/F(r,alpha,beta)) - 2*beta*F(r,alpha,beta)/(alpha*(1+beta)**3)\n",
    "\n",
    "def LapF(r,alpha,beta):\n",
    "    return SD(r,alpha,beta)\n"
   ]
  },
  {
   "cell_type": "code",
   "execution_count": 373,
   "metadata": {},
   "outputs": [
    {
     "data": {
      "text/plain": [
       "1.0"
      ]
     },
     "execution_count": 373,
     "metadata": {},
     "output_type": "execute_result"
    }
   ],
   "source": [
    "F(0,1,2)"
   ]
  },
  {
   "cell_type": "code",
   "execution_count": 354,
   "metadata": {},
   "outputs": [],
   "source": [
    "def Phi(r1,r2,beta,S):\n",
    "    \n",
    "    alpha = 2*a0;\n",
    "    a = solvea(S)\n",
    "    \n",
    "    r12=R12(r1,r2)\n",
    "    rL1=Rl(r1,S)\n",
    "    rL2=Rl(r2,S)\n",
    "    rR1=Rr(r1,S)\n",
    "    rR2=Rr(r2,S)\n",
    "    \n",
    "    \n",
    "    phi1 = np.exp(-rL1/a) + np.exp(-rR1/a);\n",
    "    phi2 = np.exp(-rL2/a) + np.exp(-rR2/a);\n",
    "    \n",
    "    \n",
    "    f = np.exp(r12/(alpha*(1+beta*r12)));\n",
    "    \n",
    "    phi = phi1*phi2*f;\n",
    "    \n",
    "    return phi;\n"
   ]
  },
  {
   "cell_type": "code",
   "execution_count": 386,
   "metadata": {},
   "outputs": [],
   "source": [
    "#local energy\n",
    "\n",
    "\n",
    "def epsilon(r1,r2,beta,S):\n",
    "    \n",
    "    a = solvea(S)\n",
    "    \n",
    "    x1 = r1[0];\n",
    "    y1 = r1[1];\n",
    "    z1 = r1[2];\n",
    "    \n",
    "    x2 = r2[0];\n",
    "    y2 = r2[1];\n",
    "    z2 = r2[2];\n",
    "    \n",
    "    R1R =  Rr(r1,S)\n",
    "    R1L =  Rl(r1,S)\n",
    "    R2R =  Rr(r1,S)\n",
    "    R2L =  Rl(r1,S)\n",
    "    \n",
    "    r12 = R12(r1,r2)\n",
    "    #calculate dot products with R12\n",
    "    R12DR1 = x1*(x1-x2)+y1*(y1-y2)+z1*(z1-z2) \n",
    "    SR12Z = S*(z1-z2)/2\n",
    "    \n",
    "    \n",
    "    DOTR1L = R12DR1+SR12Z #Dot product with r12\n",
    "    DOTR1R = R12DR1-SR12Z\n",
    "    DOTR2L = DOTR1L-r12**2\n",
    "    DOTR2R = DOTR1R-r12**2\n",
    "    DOTR1L = DOTR1L/r12/R1L\n",
    "\n",
    "    DOTR2L = DOTR2L/r12/R2L #Unit vector of above dot products\n",
    "    DOTR1R = DOTR1R/r12/R1R\n",
    "    DOTR2R = DOTR2R/r12/R2R\n",
    "\n",
    "   \n",
    "    \n",
    "    CHI1 = chi(R1R,S)+chi(R1L,S)\n",
    "    CHI2 = chi(R2R,S)+chi(R2L,S)\n",
    "    f=F(r12,alpha,beta)\n",
    "    \n",
    "    \n",
    "    EECORR = 2*LapF(r12,alpha,beta)/f\n",
    "    ONEE1 = (lapchi(R1L,a)+lapchi(R1R,a))/CHI1 #electron one\n",
    "    ONEE2 = (lapchi(R2L,a)+lapchi(R2R,a))/CHI2 #electron two\n",
    "    \n",
    "    \n",
    "    CROSS1 = (FDchi(R1L,a)*DOTR1L+FDchi(R1R,a)*DOTR1R)/CHI1 #cross terms\n",
    "    CROSS2 = (FDchi(R2L,a)*DOTR2L+FDchi(R2R,a)*DOTR2R)/CHI2\n",
    "    CROSS = 2*FD(r12,alpha,beta)*(CROSS1-CROSS2)/f\n",
    "\n",
    "    \n",
    "    TPOP = -HBM*(EECORR+ONEE1+ONEE2+CROSS)/2 #kinetic\n",
    "    VPOP = -E2*(1./R1L + 1./R1R + 1./R2L + 1./R2R - 1./r12) #potential\n",
    "    ELOCAL=TPOP+VPOP\n",
    "    \n",
    "    return ELOCAL\n",
    "    "
   ]
  },
  {
   "cell_type": "code",
   "execution_count": 622,
   "metadata": {},
   "outputs": [
    {
     "data": {
      "text/plain": [
       "-40.41862524758719"
      ]
     },
     "execution_count": 622,
     "metadata": {},
     "output_type": "execute_result"
    }
   ],
   "source": [
    "epsilon(r1,r2,beta,S)"
   ]
  },
  {
   "cell_type": "code",
   "execution_count": 348,
   "metadata": {},
   "outputs": [],
   "source": [
    "thermalise = 50\n",
    "\n",
    "r1 = [[0.5,0.5,0.5]]\n",
    "r2 = [[0.5,0.5,-0.5]]\n",
    "Acc = 0\n",
    "delta = 0.4;\n",
    "beta = 0.2;\n",
    "S = 0.5;\n",
    "for i in range(thermalise):\n",
    "    r1[0],r2[0],acc = MCMCrun(r1[0],r2[0],delta,beta,S)\n",
    "    Acc = Acc + acc\n",
    "    \n",
    "\n",
    "Acc = 0\n",
    "Nsteps = 10000\n",
    "\n",
    "for i in range(Nsteps):\n",
    "    rn1,rn2,acc = MCMCrun(r1[i],r2[i],delta,beta,S)\n",
    "    r1.append(rn1)\n",
    "    r2.append(rn2)\n",
    "    Acc = Acc + acc"
   ]
  },
  {
   "cell_type": "code",
   "execution_count": 420,
   "metadata": {},
   "outputs": [],
   "source": [
    "e = []\n",
    "\n",
    "for i in range(np.size(r1[:,1])):\n",
    "    e.append(epsilon(r1[i],r2[i],0.2,0.5))"
   ]
  },
  {
   "cell_type": "code",
   "execution_count": 441,
   "metadata": {},
   "outputs": [],
   "source": [
    "def run(ri1,ri2,thermal,Nsteps,delta,beta,S):\n",
    "    \n",
    "    thermalise = thermal\n",
    "\n",
    "    r1 = [[0.5,0.5,0.5]]\n",
    "    r2 = [[0.5,0.5,-0.5]]\n",
    "    Acc = 0\n",
    "\n",
    "    for i in range(thermalise):\n",
    "        r1[0],r2[0],acc = MCMCrun(r1[0],r2[0],delta,beta,S)\n",
    "        Acc = Acc + acc\n",
    "    \n",
    "\n",
    "    Acc = 0\n",
    "\n",
    "    for i in range(Nsteps):\n",
    "        rn1,rn2,acc = MCMCrun(r1[i],r2[i],delta,beta,S)\n",
    "        r1.append(rn1)\n",
    "        r2.append(rn2)\n",
    "        Acc = Acc + acc\n",
    "        \n",
    "    r1 = np.array(r1)\n",
    "    r2 = np.array(r2)\n",
    "        \n",
    "    e = []\n",
    "\n",
    "    \n",
    "    for i in range(np.size(r1[:,1])):\n",
    "        e.append(epsilon(r1[i],r2[i],0.2,0.5))    \n",
    "    \n",
    "    return np.mean(e),Acc/Nsteps"
   ]
  },
  {
   "cell_type": "code",
   "execution_count": 442,
   "metadata": {},
   "outputs": [
    {
     "data": {
      "text/plain": [
       "(-66.10310219472525, 0.545)"
      ]
     },
     "execution_count": 442,
     "metadata": {},
     "output_type": "execute_result"
    }
   ],
   "source": [
    "run([0.5,0.5,0.5],[0.5,0.5,-0.5],100,1000,0.4,0.2,0.5)"
   ]
  },
  {
   "cell_type": "code",
   "execution_count": 485,
   "metadata": {},
   "outputs": [],
   "source": [
    "Evec = []\n",
    "\n",
    "\n",
    "beta = [0,0.1,0.2,0.25,0.3,0.35,0.4,0.45,0.5,0.55,0.6,0.7,0.8,0.9,1.0];\n",
    "\n",
    "for b in beta:\n",
    "    e,Ac = run([0.5,0.5,0.5],[0.5,0.5,-0.5],500,1000,0.4,b,0.5)\n",
    "    Evec.append(e)\n",
    "\n",
    "itemindex = np.where(Evec==np.min(Evec))\n",
    "\n",
    "brun = beta[i]\n",
    "\n",
    "\n",
    "br.append(brun)"
   ]
  },
  {
   "cell_type": "code",
   "execution_count": 501,
   "metadata": {},
   "outputs": [],
   "source": [
    "Nsteps = [100,200,500,1000,2000,3000,5000,7000,9000,10000]\n",
    "br = []\n",
    "beta = np.array([0,0.1,0.2,0.25,0.3,0.35,0.4,0.45,0.5,0.55,0.6,0.7,0.8,0.9,1.0]);\n",
    "\n",
    "\n",
    "for n in Nsteps:\n",
    "    Evec = []\n",
    "    for b in beta:\n",
    "        e,Ac = run([0.5,0.5,0.5],[0.5,0.5,-0.5],500,n,0.4,b,0.5)\n",
    "        Evec.append(e)\n",
    "\n",
    "    indx = np.where(Evec==np.min(Evec))\n",
    "    brun = beta[indx]\n",
    "    br.append(brun)"
   ]
  },
  {
   "cell_type": "code",
   "execution_count": 514,
   "metadata": {},
   "outputs": [],
   "source": [
    "def INTCFG(beta,S): #generates the intial confihutattion\n",
    "    \n",
    "    config1 = np.zeros(Ncoord)\n",
    "    config2 = np.zeros(Ncoord)\n",
    "    \n",
    "    for i in range(Ncoord):\n",
    "        config1[i] = a0*(np.random.rand()-0.5)\n",
    "        config2[i] = a0*(np.random.rand()-0.5)\n",
    "    \n",
    "    config1[Ncoord-1] = config1[Ncoord-1]+ S/2\n",
    "    config2[Ncoord-1] = config2[Ncoord-1]- S/2\n",
    "    \n",
    "    W = wavefunction(config1,config2,beta,S)\n",
    "    \n",
    "    return config1,config2,W\n",
    "    \n",
    "        "
   ]
  },
  {
   "cell_type": "code",
   "execution_count": 515,
   "metadata": {},
   "outputs": [
    {
     "data": {
      "text/plain": [
       "(array([-0.04160149, -0.1156511 ,  0.23164109]),\n",
       " array([-0.19110852,  0.09728815, -0.02229713]),\n",
       " 1.6664510853388361)"
      ]
     },
     "execution_count": 515,
     "metadata": {},
     "output_type": "execute_result"
    }
   ],
   "source": [
    "INTCFG(0.2,0.5)"
   ]
  },
  {
   "cell_type": "code",
   "execution_count": null,
   "metadata": {},
   "outputs": [],
   "source": [
    "#MCMC\n",
    "\n",
    "def MCMCrun(r1,r2,step,beta,S):\n",
    "    \n",
    "    \"Takes Input in rx,ry,rz form\"\n",
    "    x1 = r1[0];\n",
    "    y1 = r1[1];\n",
    "    z1 = r1[2];\n",
    "    \n",
    "    x2 = r2[0];\n",
    "    y2 = r2[1];\n",
    "    z2 = r2[2];\n",
    "    \n",
    "    change1 = step*(np.random.rand()-0.5)\n",
    "    \n",
    "    change2 = step*(np.random.rand()-0.5)\n",
    "    \n",
    "    rt1 = [x1+change1,y1+change1,z1+change1]\n",
    "    \n",
    "    rt2 = [x2+change2,y2+change2,z2+change2]   \n",
    "    \n",
    "    eta = np.random.uniform(0,1);\n",
    "    \n",
    "    \n",
    "    #print(rt1,r1)\n",
    "    \n",
    "    R = wavefunction(rt1,rt2,beta,S)/wavefunction(r1,r2,beta,S);\n",
    "   \n",
    "    #print(R)\n",
    "    #use acceptance ratio to evaluate efficiency\n",
    "        \n",
    "    if R>eta:\n",
    "        rnew1 = rt1;\n",
    "        rnew2 = rt2;\n",
    "        acc = 1\n",
    "    else:\n",
    "        rnew1 = r1;\n",
    "        rnew2 = r2;\n",
    "        acc = 0\n",
    "        \n",
    "    return rnew1,rnew2,acc"
   ]
  },
  {
   "cell_type": "code",
   "execution_count": 674,
   "metadata": {},
   "outputs": [],
   "source": [
    "def INTENS(beta,S,NENSEM):\n",
    "    #generate the ENSMBL at t-0 for PIMC\n",
    "    x1,x2,w = INTCFG(beta,S)\n",
    "    step = a0\n",
    "    \n",
    "    Ensem1 = np.zeros((NENSEM,3))\n",
    "    Ensem2 = np.zeros((NENSEM,3))\n",
    "    Waight = np.zeros(NENSEM)\n",
    "    \n",
    "    for i in range(20):\n",
    "        x1,x2,acc = MCMCrun(x1,x2,step,beta,S)\n",
    "        \n",
    "    for i in range(10*NENSEM):\n",
    "        xn1,xn2,acc = MCMCrun(x1,x2,step,beta,S)\n",
    "        \n",
    "        if(i%10 == 0):\n",
    "            IENSEM = i/10\n",
    "            for j in range(Ncoord):\n",
    "                Ensem1[int(IENSEM),j] = xn1[j]\n",
    "                Ensem2[int(IENSEM),j] = xn2[j]\n",
    "            Waight[int(IENSEM)] = 1\n",
    "    \n",
    "    return Ensem1,Ensem2,Waight\n",
    "    \n",
    "    "
   ]
  },
  {
   "cell_type": "code",
   "execution_count": 696,
   "metadata": {},
   "outputs": [],
   "source": [
    "con1,con2,w = INTENS(0.2,0.5,100)"
   ]
  },
  {
   "cell_type": "code",
   "execution_count": 730,
   "metadata": {},
   "outputs": [],
   "source": [
    " Ncord = 3"
   ]
  },
  {
   "cell_type": "code",
   "execution_count": 762,
   "metadata": {},
   "outputs": [],
   "source": [
    "en1,en2,W ,e= tstep(con1,con2,w,beta,S,100,0.01)"
   ]
  },
  {
   "cell_type": "code",
   "execution_count": 763,
   "metadata": {},
   "outputs": [
    {
     "data": {
      "text/plain": [
       "-42.59059977021843"
      ]
     },
     "execution_count": 763,
     "metadata": {},
     "output_type": "execute_result"
    }
   ],
   "source": [
    "e"
   ]
  },
  {
   "cell_type": "code",
   "execution_count": 747,
   "metadata": {},
   "outputs": [
    {
     "data": {
      "text/plain": [
       "0.2512772316892684"
      ]
     },
     "execution_count": 747,
     "metadata": {},
     "output_type": "execute_result"
    }
   ],
   "source": [
    "con1[3,2]"
   ]
  },
  {
   "cell_type": "code",
   "execution_count": 773,
   "metadata": {},
   "outputs": [],
   "source": [
    "Nfreq = 5\n",
    "Nsmpl = 100\n",
    "\n",
    "Nstep = Nfreq*Nsmpl\n",
    "\n",
    "wight = np.zeros(Nstep)\n",
    "Energy = np.zeros(Nsmpl)\n",
    "Ensembl1=np.zeros((Nstep,3))\n",
    "Ensembl2=np.zeros((Nstep,3))"
   ]
  },
  {
   "cell_type": "code",
   "execution_count": 774,
   "metadata": {},
   "outputs": [
    {
     "data": {
      "text/plain": [
       "-42.59059977021843"
      ]
     },
     "execution_count": 774,
     "metadata": {},
     "output_type": "execute_result"
    }
   ],
   "source": [
    "e"
   ]
  },
  {
   "cell_type": "code",
   "execution_count": 778,
   "metadata": {},
   "outputs": [
    {
     "name": "stdout",
     "output_type": "stream",
     "text": [
      "-40.83765381991793\n",
      "-40.568035259981414\n",
      "-40.063542517707965\n",
      "-40.26141632024503\n",
      "-38.9916201120047\n",
      "-39.74494459949169\n",
      "-39.80577532033939\n",
      "-39.811250850332236\n",
      "-39.960528950431645\n",
      "-39.64675568572243\n",
      "-39.91477627618386\n",
      "-40.13918582135374\n",
      "-40.46459900037493\n",
      "-40.21169704629763\n",
      "-40.5936304971695\n",
      "-40.19925965995139\n",
      "-40.935396178262636\n",
      "-40.69047720805727\n",
      "-39.92867143205066\n",
      "-40.874790700362354\n",
      "-41.12806860889563\n",
      "-40.99517513999532\n",
      "-40.78527451046927\n",
      "-39.890413198573434\n",
      "-40.563685539681515\n",
      "-40.78172238175639\n",
      "-41.0647780824257\n",
      "-40.67698647414125\n",
      "-41.01912678174578\n",
      "-40.78123343240608\n",
      "-40.622158846614546\n",
      "-40.704372534933334\n",
      "-40.11480954235153\n",
      "-40.24360409928329\n",
      "-40.4952256848069\n",
      "-40.786196163541646\n",
      "-40.831976331839165\n",
      "-41.16123344927801\n",
      "-41.06447519023847\n",
      "-40.05233045083052\n",
      "-40.71105253726486\n",
      "-41.59309799248376\n",
      "-42.174355920346834\n",
      "-41.84473469535313\n",
      "-41.93200262253867\n",
      "-41.74310615395436\n",
      "-41.42386378309096\n",
      "-40.92509527670213\n",
      "-41.196530950714546\n",
      "-41.02114120419112\n",
      "-40.85733873104256\n",
      "-41.359815023813866\n",
      "-41.52519520827323\n",
      "-42.28409074765346\n",
      "-41.75493550965798\n",
      "-42.2996529115928\n",
      "-42.4669669415069\n",
      "-42.21039736914639\n",
      "-42.465985813961396\n",
      "-42.07103081018372\n",
      "-41.091187331542066\n",
      "-41.811434603576046\n",
      "-41.836028090912464\n",
      "-41.51783811695809\n",
      "-41.65244476947597\n",
      "-41.18246854460116\n",
      "-42.289001709911894\n",
      "-42.053639921315494\n",
      "-42.23113734806059\n",
      "-42.35007683791664\n",
      "-41.96351417746349\n",
      "-42.26371145944428\n",
      "-42.098714140561434\n",
      "-41.70705015837458\n",
      "-41.827070338738515\n",
      "-41.01753539274618\n",
      "-41.38044900783681\n",
      "-40.48165706148723\n",
      "-41.16022847222717\n",
      "-41.56339385490549\n",
      "-42.0722904620969\n",
      "-42.39823267206969\n",
      "-42.83227418125046\n",
      "-42.70023944255524\n",
      "-42.93838574604104\n",
      "-41.73362096328635\n",
      "-41.21820190120931\n",
      "-42.123256685169125\n",
      "-42.38933140893381\n",
      "-42.31879394462895\n",
      "-42.331699696132155\n",
      "-41.901594682697656\n",
      "-42.31150809047555\n",
      "-41.41165291181825\n",
      "-41.34283821565526\n",
      "-40.805187324450856\n",
      "-42.632068988859565\n",
      "-42.441502311685916\n",
      "-42.30771548066753\n",
      "-42.025893310721884\n",
      "-40.27578978620135\n",
      "-42.268038365154155\n",
      "-41.845407345916335\n",
      "-42.129560685381705\n",
      "-42.773509668722596\n",
      "-42.979068637242214\n",
      "-42.98688409588057\n",
      "-43.16656131836803\n",
      "-42.576170929468894\n",
      "-41.740123597439826\n",
      "-42.948869654841424\n",
      "-42.733252430615735\n",
      "-43.743577558813506\n",
      "-42.834920717211865\n",
      "-43.118546416113944\n",
      "-43.62465424370709\n",
      "-43.79576320373784\n",
      "-43.89646613551234\n",
      "-43.5563806019886\n",
      "-43.958214768602296\n",
      "-44.45128157228212\n",
      "-44.292738939660104\n",
      "-44.62969658744801\n",
      "-44.659844143782465\n",
      "-44.50224203656227\n",
      "-43.40926841970874\n",
      "-43.27301195670932\n",
      "-42.868657090527286\n",
      "-43.03095088896494\n",
      "-42.187180989733555\n",
      "-43.10937258811212\n",
      "-42.76572662094423\n",
      "-43.25191565524632\n",
      "-40.50036861208419\n",
      "-42.52973989575905\n",
      "-42.408690039584855\n",
      "-42.21293595403846\n",
      "-43.03359255428762\n",
      "-43.37503603836699\n",
      "-41.24034307589307\n",
      "-41.23315286537073\n",
      "-42.247102158044136\n",
      "-41.83098690828276\n",
      "-41.898469725207434\n",
      "-40.95655215099893\n",
      "-43.219936202069626\n",
      "-42.203215846106296\n",
      "-42.61285983316844\n",
      "-42.40358845102932\n",
      "-42.15722447390363\n",
      "-43.61864325891753\n",
      "-43.42280399601519\n",
      "-42.7275158310878\n",
      "-41.87507739097223\n",
      "-42.49960172693148\n",
      "-42.172272325213044\n",
      "-42.343120666295064\n",
      "-44.026418729288174\n",
      "-43.72618813066356\n",
      "-43.0643545404105\n",
      "-43.626662619382245\n",
      "-43.35271225656039\n",
      "-44.47074616687277\n",
      "-43.92892772895486\n",
      "-42.76509028556924\n",
      "-43.551615988518314\n",
      "-43.96244552279178\n",
      "-43.95757428502476\n",
      "-43.428064495822795\n",
      "-43.056263417869154\n",
      "-44.218847243691826\n",
      "-44.10610347562662\n",
      "-43.97130675513273\n",
      "-44.4673068952773\n",
      "-44.162727607214684\n",
      "-44.14231208570501\n",
      "-44.22951134964618\n",
      "-43.8231226707091\n",
      "-44.35115071703954\n",
      "-43.890190385535135\n",
      "-44.41389411572344\n",
      "-44.5321336606399\n",
      "-44.27445162869486\n",
      "-42.66035157157137\n",
      "-42.18809003409275\n",
      "-42.12866868257668\n",
      "-41.18581988291427\n",
      "-42.871141218961206\n",
      "-42.329612067395274\n",
      "-43.54148654575186\n",
      "-42.474263356158126\n",
      "-42.780736888391864\n",
      "-42.93581967306814\n",
      "-42.21619765294412\n",
      "-42.503228613690844\n",
      "-42.637154273464965\n",
      "-41.94597592161541\n",
      "-42.15938201204052\n",
      "-39.39199161570761\n",
      "-41.64634668525823\n",
      "-40.966414777416304\n",
      "-42.109352656606404\n",
      "-42.246750844399976\n",
      "-42.118368924375744\n",
      "-41.190399789227\n",
      "-41.98736031899651\n",
      "-41.7778539868014\n",
      "-41.93772931533307\n",
      "-40.60286019910122\n",
      "-40.65255708102907\n",
      "-42.3749963540124\n",
      "-42.53788530734959\n",
      "-42.62054838495811\n",
      "-42.38865124440974\n",
      "-42.32193035847759\n",
      "-43.153267364920474\n",
      "-42.378517448208065\n",
      "-42.85880272018267\n",
      "-42.85251795845533\n",
      "-40.58974244664692\n",
      "-43.39089531108639\n",
      "-43.470929934606445\n",
      "-41.6464060838692\n",
      "-43.08238828431849\n",
      "-43.314601716051\n",
      "-43.95859766639112\n",
      "-43.230609463301484\n",
      "-42.55391497223667\n",
      "-43.33477645281888\n",
      "-42.95677635480904\n",
      "-43.38674867434263\n",
      "-40.370187320119584\n",
      "-41.79789453869711\n",
      "-41.76783077493383\n",
      "-41.655940154979334\n",
      "-41.652131781626906\n",
      "-41.81199959776352\n",
      "-44.20150183062838\n",
      "-44.49213745089037\n",
      "-44.25696716534565\n",
      "-43.823260008593245\n",
      "-43.54822885630111\n",
      "-44.82423900168316\n",
      "-44.55157370644846\n",
      "-44.239013521602224\n",
      "-43.3703616283081\n",
      "-43.0820581236946\n",
      "-41.00123101678944\n",
      "-36.190863806233224\n",
      "-40.00204879671104\n",
      "-32.348150039840334\n",
      "-41.63335400383633\n",
      "-41.932356947821376\n",
      "-38.56963042219705\n",
      "-41.72734297176727\n",
      "-41.18123808497747\n",
      "-43.1252504880114\n",
      "-43.117196971801356\n",
      "-43.236439893858716\n",
      "-43.36357729883198\n",
      "-42.34321956559649\n",
      "-43.11491567450141\n",
      "-41.63420059885715\n",
      "-40.05232817220262\n",
      "-41.850361179461096\n",
      "-41.7656385139568\n",
      "-40.56537587008372\n",
      "-41.07972899686965\n",
      "-40.462583055956934\n",
      "-40.65119033178228\n",
      "-41.22100970485212\n",
      "-40.300779933442755\n",
      "-39.870054820361105\n",
      "-41.3346157897599\n",
      "-40.98203430888392\n",
      "-40.571896036207995\n",
      "-41.08302162096236\n",
      "-40.03896414242774\n",
      "-41.43163650498123\n",
      "-42.286115331480005\n",
      "-41.877681134227785\n",
      "-42.9642674351926\n",
      "-40.00885722438245\n",
      "-42.05848312024745\n",
      "-41.596827947126\n",
      "-42.59845178104689\n",
      "-41.721562344665735\n",
      "-41.873408347069116\n",
      "-40.75724161035812\n",
      "-41.997650608580905\n",
      "-41.414813367131735\n",
      "-43.324285686489745\n",
      "-42.81160513566971\n",
      "-42.286577334418666\n",
      "-42.94186311463189\n",
      "-40.98361864939281\n",
      "-43.74895770249895\n",
      "-45.161159176135826\n",
      "-44.87473615746313\n",
      "-45.43469196051665\n",
      "-46.25638421910051\n",
      "-42.89763238814239\n",
      "-43.74992649327876\n",
      "-45.28647911687944\n",
      "-45.46886941825868\n",
      "-44.72844055585634\n",
      "-44.44294571417898\n",
      "-44.00321404886838\n",
      "-46.150560675997134\n",
      "-40.09266820791765\n",
      "-45.03513395502698\n",
      "-46.13718071641066\n",
      "-45.92722706658599\n",
      "-44.86366349858985\n",
      "-44.40551394780964\n",
      "-44.35174503458192\n",
      "-41.46639435487511\n",
      "-42.553376099691576\n",
      "-43.084932608096324\n",
      "-42.87530759734953\n",
      "-43.449022856833395\n",
      "-42.41767729227279\n",
      "-40.760200716493124\n",
      "-43.07981928942982\n",
      "-41.78822965784474\n",
      "-44.2930079732513\n",
      "-42.40220329025928\n",
      "-46.147562824773445\n",
      "-46.712571990528026\n",
      "-45.008282265459435\n",
      "-44.0781870839627\n",
      "-44.40155581684271\n",
      "-45.771634491467246\n",
      "-42.87260253904398\n",
      "-43.35786500811576\n",
      "-43.54942150642676\n",
      "-43.195746778874955\n",
      "-44.095183880427825\n",
      "-44.576744057609424\n",
      "-44.80072663539241\n",
      "-44.77096039602999\n",
      "-44.8058615243832\n",
      "-42.80758799988071\n",
      "-44.75257584439971\n",
      "-43.501438919531594\n",
      "-43.229270958873826\n",
      "-39.875955690256035\n",
      "-41.82210127591392\n",
      "-41.03018142622631\n",
      "-43.411318502292126\n",
      "-42.50372718438749\n",
      "-41.81972911219335\n",
      "-43.16202483013939\n",
      "-43.75893855342341\n",
      "-43.79889443784713\n",
      "-42.86221017364236\n",
      "-41.90081914288951\n",
      "-42.57545533954656\n",
      "-42.820783589638914\n",
      "-42.84632074605183\n",
      "-42.28791487333886\n",
      "-42.937722727124786\n",
      "-43.74054225181697\n",
      "-43.2184739800167\n",
      "-42.04120913358184\n",
      "-43.16621160431588\n",
      "-44.10903275012243\n",
      "-44.67708449572152\n",
      "-44.0204665699124\n",
      "-43.55090366749858\n",
      "-42.77043633785296\n",
      "-42.501752443634494\n",
      "-42.71604797771372\n",
      "-43.2344702785677\n",
      "-42.88641562044078\n",
      "-43.09307768008897\n",
      "-44.03537701021646\n",
      "-42.85034293742761\n",
      "-40.71261666405851\n",
      "-42.67406288989619\n",
      "-44.175451226707374\n",
      "-44.870678014560575\n",
      "-45.265274972370456\n",
      "-45.786968546263324\n",
      "-44.92617721173228\n",
      "-44.524252675635914\n",
      "-45.4867228966287\n",
      "-46.01712975350718\n",
      "-45.93620598314321\n",
      "-45.094553434990935\n",
      "-45.52922309273185\n",
      "-43.80169380238449\n",
      "-44.86594562367975\n",
      "-47.25051745542448\n",
      "-46.541598829973914\n",
      "-45.562336362787335\n",
      "-45.730726948657384\n",
      "-44.7556967101064\n",
      "-45.24482791771714\n",
      "-43.148852680710945\n",
      "-42.1780260581488\n",
      "-43.17096177422191\n",
      "-42.98516584004353\n",
      "-44.27455912479893\n",
      "-44.140007372620055\n",
      "-43.974131928333904\n",
      "-45.58022312614289\n",
      "-46.14754634608472\n",
      "-45.7567150329172\n",
      "-46.43441992937699\n",
      "-46.756878002091966\n",
      "-46.119322126982254\n",
      "-45.24605327297858\n",
      "-45.357739521319424\n",
      "-45.58667159854189\n",
      "-46.17235871042595\n",
      "-46.548931931151344\n",
      "-46.414401466140085\n",
      "-47.94507264514764\n",
      "-47.818008892642496\n",
      "-46.13347763290168\n",
      "-47.81219144783474\n",
      "-45.724354948621894\n",
      "-45.51481665235948\n",
      "-45.87939366622945\n",
      "-43.998045164344305\n"
     ]
    },
    {
     "name": "stdout",
     "output_type": "stream",
     "text": [
      "-42.71621646059386\n",
      "-42.92500686866467\n",
      "-44.75793746211864\n",
      "-45.84384977462844\n",
      "-47.71728456726105\n",
      "-50.39670107891393\n",
      "-50.26630625311378\n",
      "-50.7871360241423\n",
      "-52.08196762399388\n",
      "-49.58668980030799\n",
      "-47.91966085705688\n",
      "-44.9915534775967\n",
      "-38.84036107393754\n",
      "-46.46416163382064\n",
      "-47.23054489571631\n",
      "-48.63904061671061\n",
      "-49.214617000197556\n",
      "-49.486288097396034\n",
      "-45.84566815002026\n",
      "-45.883780124477454\n",
      "-46.49966543796189\n",
      "-45.809456294541825\n",
      "-44.70128096528554\n",
      "-44.43306054494474\n",
      "-42.81016386935116\n",
      "-43.49320888087299\n",
      "-42.24975943642727\n",
      "-42.81485159068844\n",
      "-42.15897905077028\n",
      "-42.10103032227903\n",
      "-41.99677665662949\n",
      "-42.03223088782038\n",
      "-41.22147200795084\n",
      "-42.1007035791977\n",
      "-42.06625631652195\n",
      "-42.50870299352586\n",
      "-42.165477242293555\n",
      "-42.08590906950677\n",
      "-41.9834940291169\n",
      "-40.63534280797374\n",
      "-39.30040613254787\n",
      "-39.1313673618636\n",
      "-39.8871248534289\n",
      "-38.101201927919114\n",
      "-38.34986107707504\n",
      "-39.013255180100764\n",
      "-38.5691978854901\n",
      "-38.88636419596964\n",
      "-39.755406906417846\n",
      "-40.06984955847183\n",
      "-40.469258267239574\n",
      "-40.221415835741766\n",
      "-40.12023557500901\n",
      "-39.75364570388948\n",
      "-39.138889747353495\n",
      "-40.20676893896377\n",
      "-40.558549602738594\n",
      "-41.476651829934625\n",
      "-41.03026517192861\n",
      "-39.60781270008078\n",
      "-39.26917858349734\n",
      "-40.230604507630794\n",
      "-39.32586612669791\n",
      "-39.154642443216765\n",
      "-37.825250543780406\n",
      "-39.77960798905121\n",
      "-39.55857758009341\n",
      "-38.834723362027276\n",
      "-38.71054876302488\n",
      "-38.60146139865517\n",
      "-38.53995756901126\n",
      "-38.46564880121681\n",
      "-35.038249209757\n"
     ]
    }
   ],
   "source": [
    "beta = 0.2\n",
    "S = 0.5\n",
    "DT = 0.001\n",
    "\n",
    "con1,con2,W1 = INTENS(0.2,0.5,Nstep)\n",
    "\n",
    "Ntherm = 50\n",
    "\n",
    "for i in range(Ntherm):\n",
    "    con1,con2,W1,eps = tstep(con1,con2,W1,beta,S,Nstep,DT)\n",
    "\n",
    "Ensembl1 = con1\n",
    "Ensembl2 = con2\n",
    "wight = W1\n",
    "Energy[0] = eps\n",
    "\n",
    "    \n",
    "for i in range(1,Nstep):\n",
    "    \n",
    "    con1,con2,W1,eps = tstep(con1,con2,W1,beta,S,Nstep,DT)\n",
    "    wight = W1\n",
    "    Ensembl1 = con1\n",
    "    Ensembl2 = con2\n",
    "    \n",
    "    if(i%Nfreq==0):\n",
    "        j = i/Nfreq\n",
    "        Energy[int(j)] = eps\n",
    "    print(eps)"
   ]
  },
  {
   "cell_type": "code",
   "execution_count": 781,
   "metadata": {},
   "outputs": [
    {
     "data": {
      "text/plain": [
       "1.0000000000000002"
      ]
     },
     "execution_count": 781,
     "metadata": {},
     "output_type": "execute_result"
    }
   ],
   "source": [
    "np.mean(wight)"
   ]
  },
  {
   "cell_type": "code",
   "execution_count": 779,
   "metadata": {},
   "outputs": [
    {
     "data": {
      "text/plain": [
       "-42.633297869466375"
      ]
     },
     "execution_count": 779,
     "metadata": {},
     "output_type": "execute_result"
    }
   ],
   "source": [
    "np.mean(Energy)"
   ]
  },
  {
   "cell_type": "code",
   "execution_count": 761,
   "metadata": {},
   "outputs": [],
   "source": [
    "def tstep(ensembl1,ensembl2,Weight,beta,S,NENSEM,DT):\n",
    "    \n",
    "    Ebar = 0;\n",
    "    Wbar = 0;\n",
    "    Ncord = 3\n",
    "    \n",
    "    HBMDT = HBM*DT;\n",
    "    SQHBDT = np.sqrt(HBMDT)\n",
    "    \n",
    "    for i in range(NENSEM):\n",
    "        \n",
    "        config1 = ensembl1[i]\n",
    "        config2 = ensembl2[i]\n",
    "            \n",
    "        shift1,shift2 = DRIFT(config1,config2,beta,S,DT);\n",
    "        \n",
    "        for k in range(Ncord):\n",
    "            config1[k] = config1[k] + np.random.standard_normal()*SQHBDT + shift1[k]\n",
    "            config2[k] = config2[k] + np.random.standard_normal()*SQHBDT + shift2[k]\n",
    "            \n",
    "        epsiln = epsilon(config1,config2,beta,S)\n",
    "        \n",
    "        Weight[i] = Weight[i]*np.exp(-epsiln*DT)\n",
    "        Ebar = Ebar + Weight[i]*epsiln\n",
    "        Wbar = Wbar + Weight[i]\n",
    "        \n",
    "    \n",
    "        \n",
    "        ensembl1[i] = config1\n",
    "        ensembl2[i] = config2\n",
    "        \n",
    "    \n",
    "        \n",
    "    Epsiln = Ebar/Wbar\n",
    "    Norm = NENSEM/Wbar\n",
    "    \n",
    "    for m in range(NENSEM):\n",
    "        Weight[m] = Norm*Weight[m]\n",
    "        \n",
    "    return ensembl1,ensembl2,Weight,Epsiln\n",
    "        "
   ]
  },
  {
   "cell_type": "code",
   "execution_count": 721,
   "metadata": {},
   "outputs": [
    {
     "data": {
      "text/plain": [
       "7.6359"
      ]
     },
     "execution_count": 721,
     "metadata": {},
     "output_type": "execute_result"
    }
   ],
   "source": [
    "HBM"
   ]
  },
  {
   "cell_type": "code",
   "execution_count": 732,
   "metadata": {},
   "outputs": [],
   "source": [
    "def DRIFT(r1,r2,beta,S,DT):\n",
    "    \n",
    "    alpha = 2*a0;\n",
    "    a = solvea(S)\n",
    "    \n",
    "    r12=R12(r1,r2)\n",
    "    rL1=Rl(r1,S)\n",
    "    rL2=Rl(r2,S)\n",
    "    rR1=Rr(r1,S)\n",
    "    rR2=Rr(r2,S)\n",
    "    \n",
    "    CHI1 = chi(rR1,S)+chi(rL1,S)\n",
    "    CHI2 = chi(rR2,S)+chi(rL2,S)\n",
    "    f=F(r12,alpha,beta)\n",
    "    \n",
    "    \n",
    "    HBMDT = HBM*DT\n",
    "    FACTA = HBMDT*(FDchi(rL1,a)/rL1 + FDchi(rR1,a)/rR1)/CHI1\n",
    "    FACTB = HBMDT*(FDchi(rL1,a)/rL1 - FDchi(rR1,a)/rR1)/CHI1\n",
    "    FACTE = HBMDT*FD(r12,alpha,beta)/f/r12\n",
    "    \n",
    "    x1 = r1[0];\n",
    "    y1 = r1[1];\n",
    "    z1 = r1[2];\n",
    "    \n",
    "    x2 = r2[0];\n",
    "    y2 = r2[1];\n",
    "    z2 = r2[2];\n",
    "    \n",
    "    SHIFT1 = np.zeros(Ncord);\n",
    "    SHIFT2 = np.zeros(Ncord);\n",
    "    \n",
    "    SHIFT1[0] = FACTA*x1+FACTE*(x1-x2)\n",
    "    SHIFT1[1] = FACTA*y1+FACTE*(y1-y2)\n",
    "    SHIFT1[2] = FACTA*z1+FACTE*(z1-z2)+FACTB*S/2\n",
    "    \n",
    "    FACTA = HBMDT*(FDchi(rL2,a)/rL1 + FDchi(rR2,a)/rR1)/CHI1\n",
    "    FACTB = HBMDT*(FDchi(rL2,a)/rL1 - FDchi(rR2,a)/rR1)/CHI1\n",
    "    \n",
    "    SHIFT2[0] = FACTA*x2+FACTE*(x1-x2)\n",
    "    SHIFT2[1] = FACTA*y2+FACTE*(y1-y2)\n",
    "    SHIFT2[2] = FACTA*z2+FACTE*(z1-z2)+FACTB*S/2\n",
    "    \n",
    "    return SHIFT1,SHIFT2"
   ]
  },
  {
   "cell_type": "code",
   "execution_count": 546,
   "metadata": {},
   "outputs": [],
   "source": [
    "#MCMC\n",
    "\n",
    "def METROP(r1,r2,step,beta,S):\n",
    "    \n",
    "    \"Takes Input in rx,ry,rz form\"\n",
    "    x1 = r1[0];\n",
    "    y1 = r1[1];\n",
    "    z1 = r1[2];\n",
    "    \n",
    "    x2 = r2[0];\n",
    "    y2 = r2[1];\n",
    "    z2 = r2[2];\n",
    "    \n",
    "    change1 = step*(np.random.rand()-0.5)\n",
    "    \n",
    "    change2 = step*(np.random.rand()-0.5)\n",
    "    \n",
    "    rt1 = [x1+change1,y1+change1,z1+change1]\n",
    "    \n",
    "    rt2 = [x2+change2,y2+change2,z2+change2]   \n",
    "    \n",
    "    eta = np.random.uniform(0,1);\n",
    "    \n",
    "    \n",
    "    #print(rt1,r1)\n",
    "    \n",
    "    R = Weight(rt1,rt2,beta,S)/Weight(r1,r2,beta,S);\n",
    "   \n",
    "    #print(R)\n",
    "    #use acceptance ratio to evaluate efficiency\n",
    "        \n",
    "    if R>eta:\n",
    "        rnew1 = rt1;\n",
    "        rnew2 = rt2;\n",
    "        acc = 1\n",
    "    else:\n",
    "        rnew1 = r1;\n",
    "        rnew2 = r2;\n",
    "        acc = 0\n",
    "    \n",
    "    weight = Weight(rnew1,rnew2,beta,S)\n",
    "    return rnew1,rnew2,acc,weight"
   ]
  },
  {
   "cell_type": "code",
   "execution_count": 595,
   "metadata": {},
   "outputs": [],
   "source": [
    "#Wavefunction\n",
    "\n",
    "def Weight(r1,r2,beta,S):\n",
    "    \n",
    "    alpha = 2*a0;\n",
    "    a = solvea(S)\n",
    "    \n",
    "    r12=R12(r1,r2)\n",
    "    rL1=Rl(r1,S)\n",
    "    rL2=Rl(r2,S)\n",
    "    rR1=Rr(r1,S)\n",
    "    rR2=Rr(r2,S)\n",
    "    \n",
    "    \n",
    "    phi1 = np.exp(-rL1/a) + np.exp(-rR1/a);\n",
    "    phi2 = np.exp(-rL2/a) + np.exp(-rR2/a);\n",
    "    \n",
    "   \n",
    "    f = np.exp(r12/(alpha*(1+beta*r12)));\n",
    "    \n",
    "    phi = phi1*phi2*f;\n",
    "    \n",
    "    return phi**2;\n"
   ]
  },
  {
   "cell_type": "code",
   "execution_count": 596,
   "metadata": {},
   "outputs": [
    {
     "data": {
      "text/plain": [
       "[-0.5880617867089059, -0.8062222918496463, -0.40998408775885]"
      ]
     },
     "execution_count": 596,
     "metadata": {},
     "output_type": "execute_result"
    }
   ],
   "source": [
    "r1"
   ]
  },
  {
   "cell_type": "code",
   "execution_count": 597,
   "metadata": {},
   "outputs": [
    {
     "data": {
      "text/plain": [
       "0.030114454835954697"
      ]
     },
     "execution_count": 597,
     "metadata": {},
     "output_type": "execute_result"
    }
   ],
   "source": [
    "Weight(r1,r2,beta,S)"
   ]
  },
  {
   "cell_type": "code",
   "execution_count": 598,
   "metadata": {},
   "outputs": [
    {
     "data": {
      "text/plain": [
       "([-0.3317148930427937, -0.5498753981835343, -0.15363719409273785],\n",
       " [0.01398271859822589, 0.02568571777236231, -0.1902206315706042],\n",
       " 1,\n",
       " 0.5875915185909137)"
      ]
     },
     "execution_count": 598,
     "metadata": {},
     "output_type": "execute_result"
    }
   ],
   "source": [
    "METROP(r1,r2,delta,beta,S)"
   ]
  },
  {
   "cell_type": "code",
   "execution_count": 650,
   "metadata": {},
   "outputs": [],
   "source": [
    "beta = 0.2\n",
    "S = 0.5\n",
    "delta = a0\n",
    "\n",
    "r1,r2,W1 = INTCFG(beta,S)\n",
    "\n",
    "Ntherm = 50\n",
    "a = 0\n",
    "for i in range(Ntherm):\n",
    "    r1,r2,acc,W1 = METROP(r1,r2,delta,beta,S)\n",
    "    a = a+acc"
   ]
  },
  {
   "cell_type": "code",
   "execution_count": 651,
   "metadata": {},
   "outputs": [],
   "source": [
    "Nfreq = 5\n",
    "Nsmpl = 100\n",
    "\n",
    "Nstep = Nfreq*Nsmpl\n",
    "\n",
    "wight = np.zeros(Nstep)\n",
    "Energy = np.zeros(Nsmpl)\n",
    "Ensembl1=np.zeros((Nstep,3))\n",
    "Ensembl2=np.zeros((Nstep,3))"
   ]
  },
  {
   "cell_type": "code",
   "execution_count": 652,
   "metadata": {},
   "outputs": [],
   "source": [
    "Ensembl1[0] = r1\n",
    "Ensembl2[0] = r1\n",
    "wight[0] = W1\n",
    "Energy[0] = epsilon(r1,r2,beta,S)"
   ]
  },
  {
   "cell_type": "code",
   "execution_count": 708,
   "metadata": {},
   "outputs": [],
   "source": [
    "A = 0\n",
    "\n",
    "for i in range(1,Nstep):\n",
    "    \n",
    "    r1,r2,acc,W1 = METROP(r1,r2,delta,beta,S)\n",
    "    wight[i] = W1\n",
    "    A = A + acc\n",
    "    Ensembl1[i] = r1\n",
    "    Ensembl2[i] = r2\n",
    "    \n",
    "    if(i%Nfreq==0):\n",
    "        j = i/Nfreq\n",
    "        Energy[int(j)] = epsilon(r1,r2,beta,S)"
   ]
  },
  {
   "cell_type": "code",
   "execution_count": 764,
   "metadata": {},
   "outputs": [
    {
     "data": {
      "text/plain": [
       "329"
      ]
     },
     "execution_count": 764,
     "metadata": {},
     "output_type": "execute_result"
    }
   ],
   "source": [
    "A"
   ]
  },
  {
   "cell_type": "code",
   "execution_count": 709,
   "metadata": {},
   "outputs": [
    {
     "data": {
      "text/plain": [
       "-42.68753683808612"
      ]
     },
     "execution_count": 709,
     "metadata": {},
     "output_type": "execute_result"
    }
   ],
   "source": [
    "np.mean(Energy)"
   ]
  },
  {
   "cell_type": "code",
   "execution_count": 557,
   "metadata": {},
   "outputs": [],
   "source": [
    "HBM = 7.6359\n",
    "E2 - 14.409\n",
    "ABOHR = HBM/E2\n",
    "\n",
    "MAXENS = 20\n",
    "dt = 0.01\n",
    "NFREQ = 0.3\n",
    "NSMPL =6\n",
    "NCORR = 40\n",
    "NGROUP = 10"
   ]
  },
  {
   "cell_type": "code",
   "execution_count": null,
   "metadata": {},
   "outputs": [],
   "source": []
  }
 ],
 "metadata": {
  "kernelspec": {
   "display_name": "Python 3.7.7 64-bit ('base': conda)",
   "language": "python",
   "name": "python37764bitbaseconda781db70e088b4a4896d6b91912286919"
  },
  "language_info": {
   "codemirror_mode": {
    "name": "ipython",
    "version": 3
   },
   "file_extension": ".py",
   "mimetype": "text/x-python",
   "name": "python",
   "nbconvert_exporter": "python",
   "pygments_lexer": "ipython3",
   "version": "3.7.7"
  }
 },
 "nbformat": 4,
 "nbformat_minor": 4
}
