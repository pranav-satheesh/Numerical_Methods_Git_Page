{
 "cells": [
  {
   "cell_type": "code",
   "execution_count": 1,
   "metadata": {},
   "outputs": [],
   "source": [
    "import numpy as np\n",
    "import matplotlib.pyplot as plt"
   ]
  },
  {
   "cell_type": "code",
   "execution_count": 2,
   "metadata": {},
   "outputs": [],
   "source": [
    "#global parameters"
   ]
  },
  {
   "cell_type": "code",
   "execution_count": 31,
   "metadata": {},
   "outputs": [],
   "source": [
    "def initial(N):\n",
    "    \n",
    "    state = 2*np.random.randint(2,size=(N,N))-1\n",
    "    return state"
   ]
  },
  {
   "cell_type": "code",
   "execution_count": 32,
   "metadata": {},
   "outputs": [],
   "source": [
    "def mcstep(states,beta,B):\n",
    "    \n",
    "    for i in range(N):\n",
    "        for j in range(N):\n",
    "            ind1 = np.random.randint(0,N) #randomly select a state to flip it\n",
    "            ind2 = np.random.randint(0,N)\n",
    "            s = states[ind1,ind2]\n",
    "            DS = states[(ind1+1)%N,ind2] + states[ind1,(ind2+1)%N] + states[(ind1-1)%N,ind2] + states[ind1,(ind2-1)%N]\n",
    "            dE = 2*s*(DS+B)\n",
    "            \n",
    "            if dE<0:\n",
    "                s = s*(-1)\n",
    "                \n",
    "            elif np.random.rand()<np.exp(-dE*beta):\n",
    "                s = s*(-1)\n",
    "            \n",
    "            states[ind1,ind2] = s\n",
    "            \n",
    "    return states\n",
    "            "
   ]
  },
  {
   "cell_type": "code",
   "execution_count": 33,
   "metadata": {},
   "outputs": [],
   "source": [
    "def Energy(states,B):\n",
    "    E = 0\n",
    "    \n",
    "    for i in range(len(states)):\n",
    "        for j in range(len(states)):\n",
    "            S = states[i,j]\n",
    "            DS = states[(i+1)%N,j] + states[i,(j+1)%N] + states[(i-1)%N,j] + states[i,(j-1)%N]\n",
    "            E = E + (-(DS+B)*S)\n",
    "    return E/4\n",
    "    "
   ]
  },
  {
   "cell_type": "code",
   "execution_count": 34,
   "metadata": {},
   "outputs": [],
   "source": [
    "def Mag(states):\n",
    "    m = np.sum(states)\n",
    "    return m"
   ]
  },
  {
   "cell_type": "code",
   "execution_count": 35,
   "metadata": {},
   "outputs": [],
   "source": [
    "## change these parameters for a smaller (faster) simulation \n",
    "nt      = 32         #  number of temperature points\n",
    "N       = 10         #  size of the lattice, N x N\n",
    "eqSteps = 1024       #  number of MC sweeps for equilibration\n",
    "mcSteps = 1024       #  number of MC sweeps for calculation\n",
    "\n",
    "T       = np.linspace(1.53, 3.28, nt); \n",
    "E,M,C,X = np.zeros(nt), np.zeros(nt), np.zeros(nt), np.zeros(nt)\n",
    "n1, n2  = 1.0/(mcSteps*N*N), 1.0/(mcSteps*mcSteps*N*N) \n",
    "# divide by number of samples, and by system size to get intensive values"
   ]
  },
  {
   "cell_type": "code",
   "execution_count": 36,
   "metadata": {},
   "outputs": [],
   "source": [
    "for tt in range(nt):\n",
    "    E1 = M1 = E2 = M2 = 0\n",
    "    config = initial(N)\n",
    "    iT=1.0/T[tt]; iT2=iT*iT;\n",
    "    \n",
    "    for i in range(eqSteps):         # equilibrate\n",
    "        mcstep(config, iT,0)           # Monte Carlo moves\n",
    "    \n",
    "    \n",
    "    for i in range(mcSteps):\n",
    "        mcstep(config, iT,0) \n",
    "        Ene = Energy(config,0)     # calculate the energy\n",
    "        mag = Mag(config)        # calculate the magnetisation\n",
    "\n",
    "        E1 = E1 + Ene\n",
    "        M1 = M1 + mag\n",
    "        M2 = M2 + mag*mag \n",
    "        E2 = E2 + Ene*Ene\n",
    "\n",
    "    E[tt] = n1*E1\n",
    "    M[tt] = n1*M1\n",
    "    C[tt] = (n1*E2 - n2*E1*E1)*iT2\n",
    "    X[tt] = (n1*M2 - n2*M1*M1)*iT"
   ]
  },
  {
   "cell_type": "code",
   "execution_count": 46,
   "metadata": {},
   "outputs": [
    {
     "data": {
      "text/plain": [
       "[<matplotlib.lines.Line2D at 0x7fe92a598310>]"
      ]
     },
     "execution_count": 46,
     "metadata": {},
     "output_type": "execute_result"
    },
    {
     "data": {
      "image/png": "[encoded data removed]",
      "text/plain": [
       "<Figure size 432x288 with 1 Axes>"
      ]
     },
     "metadata": {
      "needs_background": "light"
     },
     "output_type": "display_data"
    }
   ],
   "source": [
    "plt.plot(T,X)"
   ]
  },
  {
   "cell_type": "code",
   "execution_count": 37,
   "metadata": {},
   "outputs": [
    {
     "data": {
      "text/plain": [
       "<matplotlib.collections.PathCollection at 0x7fe9291c6d10>"
      ]
     },
     "execution_count": 37,
     "metadata": {},
     "output_type": "execute_result"
    },
    {
     "data": {
      "image/png": "[encoded data removed]",
      "text/plain": [
       "<Figure size 432x288 with 1 Axes>"
      ]
     },
     "metadata": {
      "needs_background": "light"
     },
     "output_type": "display_data"
    }
   ],
   "source": [
    "plt.scatter(T, E, s=50, marker='o', color='Red')"
   ]
  },
  {
   "cell_type": "code",
   "execution_count": 38,
   "metadata": {},
   "outputs": [
    {
     "data": {
      "text/plain": [
       "<matplotlib.collections.PathCollection at 0x7fe92941f950>"
      ]
     },
     "execution_count": 38,
     "metadata": {},
     "output_type": "execute_result"
    },
    {
     "data": {
      "image/png": "[encoded data removed]",
      "text/plain": [
       "<Figure size 432x288 with 1 Axes>"
      ]
     },
     "metadata": {
      "needs_background": "light"
     },
     "output_type": "display_data"
    }
   ],
   "source": [
    "plt.scatter(T, abs(M), s=50, marker='o', color='RoyalBlue')"
   ]
  },
  {
   "cell_type": "code",
   "execution_count": 41,
   "metadata": {},
   "outputs": [
    {
     "data": {
      "text/plain": [
       "<matplotlib.collections.PathCollection at 0x7fe9294538d0>"
      ]
     },
     "execution_count": 41,
     "metadata": {},
     "output_type": "execute_result"
    },
    {
     "data": {
      "image/png": "[encoded data removed]",
      "text/plain": [
       "<Figure size 432x288 with 1 Axes>"
      ]
     },
     "metadata": {
      "needs_background": "light"
     },
     "output_type": "display_data"
    }
   ],
   "source": [
    "plt.scatter(T, C, s=50,color='Black')"
   ]
  },
  {
   "cell_type": "code",
   "execution_count": 42,
   "metadata": {},
   "outputs": [
    {
     "data": {
      "text/plain": [
       "<matplotlib.collections.PathCollection at 0x7fe929f275d0>"
      ]
     },
     "execution_count": 42,
     "metadata": {},
     "output_type": "execute_result"
    },
    {
     "data": {
      "image/png": "[encoded data removed]",
      "text/plain": [
       "<Figure size 432x288 with 1 Axes>"
      ]
     },
     "metadata": {
      "needs_background": "light"
     },
     "output_type": "display_data"
    }
   ],
   "source": [
    "plt.scatter(T, X, s=50, marker='o', color='RoyalBlue')"
   ]
  },
  {
   "cell_type": "code",
   "execution_count": null,
   "metadata": {},
   "outputs": [],
   "source": []
  }
 ],
 "metadata": {
  "kernelspec": {
   "display_name": "Python 3.7.7 64-bit ('base': conda)",
   "language": "python",
   "name": "python37764bitbaseconda781db70e088b4a4896d6b91912286919"
  },
  "language_info": {
   "codemirror_mode": {
    "name": "ipython",
    "version": 3
   },
   "file_extension": ".py",
   "mimetype": "text/x-python",
   "name": "python",
   "nbconvert_exporter": "python",
   "pygments_lexer": "ipython3",
   "version": "3.7.7"
  }
 },
 "nbformat": 4,
 "nbformat_minor": 4
}
