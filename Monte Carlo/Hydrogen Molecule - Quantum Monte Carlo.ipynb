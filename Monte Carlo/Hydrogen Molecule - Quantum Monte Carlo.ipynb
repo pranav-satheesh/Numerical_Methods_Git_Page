{
 "cells": [
  {
   "cell_type": "code",
   "execution_count": 7,
   "metadata": {},
   "outputs": [],
   "source": [
    "#Constants and Units\n",
    "\n",
    "a0 = 0.529 #Angstrom\n",
    "\n"
   ]
  },
  {
   "cell_type": "code",
   "execution_count": 8,
   "metadata": {},
   "outputs": [],
   "source": [
    "import numpy as np\n",
    "import matplotlib.pyplot as plt"
   ]
  },
  {
   "cell_type": "code",
   "execution_count": 1,
   "metadata": {},
   "outputs": [
    {
     "ename": "SyntaxError",
     "evalue": "can't assign to function call (<ipython-input-1-927c23e12c88>, line 10)",
     "output_type": "error",
     "traceback": [
      "\u001b[0;36m  File \u001b[0;32m\"<ipython-input-1-927c23e12c88>\"\u001b[0;36m, line \u001b[0;32m10\u001b[0m\n\u001b[0;31m    config(j) = Ens(icord,i)\u001b[0m\n\u001b[0m    ^\u001b[0m\n\u001b[0;31mSyntaxError\u001b[0m\u001b[0;31m:\u001b[0m can't assign to function call\n"
     ]
    }
   ],
   "source": [
    "#Path Integral Monte Carlo Method\n",
    "\n",
    "def TSTEP(Ens,weight,locale):\n",
    "\n",
    "    ebar = 0;\n",
    "    wbar = 0;\n",
    "\n",
    "    for i in range(Ensem):\n",
    "        for j in range(3):\n",
    "            config(j) = Ens(icord,i)\n",
    "        Call_drift(confi,shift)\n",
    "        for k in range(3):\n",
    "            config(k) = config(k) + Gauss(k)*SWHBDT + SHIFT(k) \n",
    "        \n",
    "        epsil = Eloc(config)\n",
    "        Weight(i) = Weight(i)*np.exp(-epsil*DT)\n",
    "        \n",
    "        \n",
    "    epsil = Ebar/ebar\n",
    "    Norm = Nensem.Wbar\n",
    "    \n",
    "    for k in range(3):\n",
    "        weight(k) = norm*weight(k)"
   ]
  },
  {
   "cell_type": "code",
   "execution_count": 43,
   "metadata": {},
   "outputs": [],
   "source": [
    "def aeq(a,S):\n",
    "    return a0/(1+ np.exp(-S/a))-a\n",
    "\n",
    "\n",
    "#returns the value of a by solving the transcedental equation\n",
    "\n",
    "def solvea(S,n=100):\n",
    "    \n",
    "    l,m=0.1,1 #Angstrom\n",
    "    \n",
    "    for i in range(n):\n",
    "        \n",
    "        fl=aeq(l,S)\n",
    "        fm=aeq(m,S)\n",
    "        \n",
    "        \n",
    "        p=(l+m)/2\n",
    "        \n",
    "        fp=aeq(p,S)\n",
    "        \n",
    "        if fl*fm<0:\n",
    "            \n",
    "            if fl*fp<0:\n",
    "                m=p\n",
    "            else:\n",
    "                fp*fm<0\n",
    "                l=p\n",
    "        else:\n",
    "               break\n",
    "\n",
    "    return p"
   ]
  },
  {
   "cell_type": "markdown",
   "metadata": {},
   "source": [
    "#When r is 3D\n",
    "\n",
    "\n",
    "class Vec(object):\n",
    "    def __init__(self, x, y, z):\n",
    "        self.x, self.y, self.z = x, y, z\n",
    "\n",
    "    def __array__(self, dtype=None):\n",
    "        if dtype:\n",
    "            return np.array([self.x, self.y, self.z], dtype=dtype)\n",
    "        else:\n",
    "            return np.array([self.x, self.y, self.z])\n",
    "    def rL(self,S):\n",
    "        Sv = [0,0,S/2]\n",
    "        return np.abs(np.subtract(self,Sv))\n",
    "\n",
    "    def rR(self,S):\n",
    "        Sv = [0,0,S/2]\n",
    "        return np.abs(np.add(self,Sv))  \n",
    "    \n",
    "    def rabs(self,other):\n",
    "        return np.abs(np.subtract(self,other))\n",
    "\n",
    "r1, r2 = Vec(0,1,0), Vec(0,0,1)"
   ]
  },
  {
   "cell_type": "code",
   "execution_count": 295,
   "metadata": {},
   "outputs": [],
   "source": [
    "#r functions\n",
    "\n",
    "def rL(r,S):\n",
    "    return np.abs(r - S/2)\n",
    "\n",
    "def rR(r,S):\n",
    "    return np.abs(r + S/2)    \n",
    "\n"
   ]
  },
  {
   "cell_type": "code",
   "execution_count": 2,
   "metadata": {},
   "outputs": [],
   "source": [
    "def functions(r,a,alpha,beta):\n",
    "    \n",
    "    chi = np.exp(-r/a);\n",
    "    FDchi = -chi/a;\n",
    "    SDchi = chia**2;\n",
    "    lapchir = SDchi + 2.0*FDchi/r\n",
    "    \n",
    "    f = np.exp(r/(alpha*(1.0+beta*r)));\n",
    "    fd = f/(alpha*(1.0+beta)**2);\n",
    "    sf = fd**2/f - (2.0*beta*f)/(alpha*(1+beta*r)**3)\n",
    "    lapf = sf+2*fd/r;\n",
    "    \n",
    "    \n",
    "    \n",
    "    \n",
    "    \n"
   ]
  },
  {
   "cell_type": "code",
   "execution_count": 4,
   "metadata": {},
   "outputs": [],
   "source": [
    "def r12(r1,r2):\n",
    "    #euclidean distance\n",
    "    X1 = r1[0];\n",
    "    y1 = r1[1];\n",
    "    z1 = r1[2];\n",
    "    \n",
    "    x2 = r2[0];\n",
    "    y2 = r2[1];\n",
    "    z2 = r2[2];\n",
    "    \n",
    "    return np.sqrt((x1-x2)**2 +(y1-y2)**2 + (z1-z2)**2)"
   ]
  },
  {
   "cell_type": "code",
   "execution_count": 297,
   "metadata": {},
   "outputs": [],
   "source": [
    "#Wavefunction\n",
    "\n",
    "def wavefunction(r1,r2,beta,S):\n",
    "    \n",
    "    alpha = 2*a0;\n",
    "    a = solvea(S)\n",
    "    \n",
    "    phi1 = np.exp(-rL(r1,S)/a) + np.exp(-rR(r1,S)/a);\n",
    "    phi2 = np.exp(-rL(r2,S)/a) + np.exp(-rR(r2,S)/a);\n",
    "    \n",
    "    r12 = np.abs(r1-r2);\n",
    "    \n",
    "    f = np.exp(r12/(alpha*(1+beta*r12)));\n",
    "    \n",
    "    phi = phi1*phi2*f;\n",
    "    \n",
    "    return phi**2;\n"
   ]
  },
  {
   "cell_type": "code",
   "execution_count": 530,
   "metadata": {},
   "outputs": [],
   "source": [
    "#local energy\n",
    "\n",
    "\n",
    "def epsilon2(r1,r2,beta,S):\n",
    "    \n",
    "    hbar2m = 3.78 #eV\n",
    "    ke2A = 14.3 #eV\n",
    "    \n",
    "    r12 = np.abs(r1-r2);\n",
    "    V = -ke2A*(1/rL(r1,S) + 1/rL(r2,S)+ 1/rR(r1,S)+ 1/rR(r2,S)) + 1/r12;\n",
    "    \n",
    "    h = 0.001 #ngstrom\n",
    "    h2 = 1000000\n",
    "    \n",
    "    rplus1 = r1 + h;\n",
    "    rplus2 = r2 + h;\n",
    "    rminus1 = r1 - h;\n",
    "    rminus2 = r2 - h;\n",
    "    \n",
    "    w1p = wavefunction(rplus1,r2,beta,S);\n",
    "    w10 = wavefunction(r1,r2,beta,S);\n",
    "    w1m = wavefunction(rminus1,r2,beta,S);\n",
    "    \n",
    "    w2p = wavefunction(r1,rplus2,beta,S);\n",
    "    w20 = wavefunction(r1,r2,beta,S);\n",
    "    w2m = wavefunction(r1,rminus2,beta,S);\n",
    "    \n",
    "    K = -0.5*h2*((w1m+w1p-2*w10) + (w2m+w2p-2*w20))\n",
    "    K = hbar2m*K/w10\n",
    "    \n",
    "    \n",
    "    return K+V"
   ]
  },
  {
   "cell_type": "code",
   "execution_count": 531,
   "metadata": {},
   "outputs": [],
   "source": [
    "#local energy\n",
    "\n",
    "\n",
    "def epsilon(r1,r2,beta,S):\n",
    "    \n",
    "\n",
    "    r12 = np.abs(r1-r2);\n",
    "    V = -(1/rL(r1,S) + 1/rL(r2,S)+ 1/rR(r1,S)+ 1/rR(r2,S)) + 1/r12;\n",
    "    \n",
    "    h = 0.001 #ngstrom\n",
    "    h2 = 1000000\n",
    "    \n",
    "    rplus1 = r1 + h;\n",
    "    rplus2 = r2 + h;\n",
    "    rminus1 = r1 - h;\n",
    "    rminus2 = r2 - h;\n",
    "    \n",
    "    w1p = wavefunction(rplus1,r2,beta,S);\n",
    "    w10 = wavefunction(r1,r2,beta,S);\n",
    "    w1m = wavefunction(rminus1,r2,beta,S);\n",
    "    \n",
    "    w2p = wavefunction(r1,rplus2,beta,S);\n",
    "    w20 = wavefunction(r1,r2,beta,S);\n",
    "    w2m = wavefunction(r1,rminus2,beta,S);\n",
    "    \n",
    "   \n",
    "    \n",
    "    K = -0.5*h2*((w1m+w1p-2*w10) + (w2m+w2p-2*w20))\n",
    "    K = K/w10\n",
    "    \n",
    "    \n",
    "    return K+V"
   ]
  },
  {
   "cell_type": "code",
   "execution_count": 533,
   "metadata": {},
   "outputs": [
    {
     "data": {
      "text/plain": [
       "array([-28.09141509])"
      ]
     },
     "execution_count": 533,
     "metadata": {},
     "output_type": "execute_result"
    }
   ],
   "source": [
    "epsilon(np.array([0.5]),np.array([0.6]),-0.3,0.6)"
   ]
  },
  {
   "cell_type": "code",
   "execution_count": 535,
   "metadata": {},
   "outputs": [],
   "source": [
    "#MCMC\n",
    "\n",
    "def MCMCrun(r1,r2,step,beta,S):\n",
    "    \n",
    "    for i in range(3):\n",
    "        rt1[i] = r1[i] + step*(2*np.random.rand()-1);\n",
    "        rt2[i] = r2[i] + step*(2*np.random.rand()-1);\n",
    "    \n",
    "    eta = np.random.uniform(0,1);\n",
    "    \n",
    "    R = wavefunction(rt1,rt2,beta,S)/wavefunction(r1,r2,beta,S);\n",
    "    \n",
    "    #use acceptance ratio to evaluate efficiency\n",
    "    \n",
    "    if R>1:\n",
    "        rnew1 = rt1;\n",
    "        rnew2 = rt2;\n",
    "        \n",
    "    elif R>eta:\n",
    "        rnew1 = rt1;\n",
    "        rnew2 = rt2;\n",
    "    else:\n",
    "        rnew1 = r1;\n",
    "        rnew2 = r2;\n",
    "        \n",
    "    return rnew1,rnew2"
   ]
  },
  {
   "cell_type": "code",
   "execution_count": null,
   "metadata": {},
   "outputs": [],
   "source": []
  },
  {
   "cell_type": "code",
   "execution_count": null,
   "metadata": {},
   "outputs": [],
   "source": [
    "MCMCrun(0,0,0.5,0.4,0.6)"
   ]
  },
  {
   "cell_type": "code",
   "execution_count": 571,
   "metadata": {},
   "outputs": [],
   "source": [
    "def Erun(ri1,ri2,beta,S,delta,nsteps,therm):\n",
    "\n",
    "    for i in range(thermal):\n",
    "        ri1,ri2 = MCMCrun(ri1,ri2,delta,beta,S)\n",
    "        \n",
    "    r1 = [ri1];\n",
    "    r2 = [ri2];  \n",
    "    \n",
    "    for i in range(nsteps):\n",
    "        rn1,rn2 = MCMCrun(r1[i],r2[i],delta,beta,S)\n",
    "        r1.append(rn1);\n",
    "        r2.append(rn2);\n",
    "        \n",
    "    r1 = np.array(r1);\n",
    "    r2 = np.array(r2);\n",
    "    \n",
    "    Elocal = epsilon(r1,r2,beta,S)\n",
    "    \n",
    "    #need to account for wavefunc normalization\n",
    "    \n",
    "    return np.mean(Elocal)\n",
    "    "
   ]
  },
  {
   "cell_type": "code",
   "execution_count": 598,
   "metadata": {},
   "outputs": [
    {
     "data": {
      "text/plain": [
       "-66.94235769346103"
      ]
     },
     "execution_count": 598,
     "metadata": {},
     "output_type": "execute_result"
    }
   ],
   "source": [
    "Erun(1,-1,0.1,0.7,0.529,1000,1000)"
   ]
  },
  {
   "cell_type": "code",
   "execution_count": 601,
   "metadata": {},
   "outputs": [
    {
     "ename": "KeyboardInterrupt",
     "evalue": "",
     "output_type": "error",
     "traceback": [
      "\u001b[0;31m---------------------------------------------------------------------------\u001b[0m",
      "\u001b[0;31mKeyboardInterrupt\u001b[0m                         Traceback (most recent call last)",
      "\u001b[0;32m<ipython-input-601-a02251553a1f>\u001b[0m in \u001b[0;36m<module>\u001b[0;34m\u001b[0m\n\u001b[1;32m     10\u001b[0m \u001b[0;34m\u001b[0m\u001b[0m\n\u001b[1;32m     11\u001b[0m \u001b[0;32mfor\u001b[0m \u001b[0mi\u001b[0m \u001b[0;32min\u001b[0m \u001b[0mbeta\u001b[0m\u001b[0;34m:\u001b[0m\u001b[0;34m\u001b[0m\u001b[0;34m\u001b[0m\u001b[0m\n\u001b[0;32m---> 12\u001b[0;31m     \u001b[0mEs\u001b[0m\u001b[0;34m.\u001b[0m\u001b[0mappend\u001b[0m\u001b[0;34m(\u001b[0m\u001b[0mErun\u001b[0m\u001b[0;34m(\u001b[0m\u001b[0mr1\u001b[0m\u001b[0;34m,\u001b[0m\u001b[0mr2\u001b[0m\u001b[0;34m,\u001b[0m\u001b[0mi\u001b[0m\u001b[0;34m,\u001b[0m\u001b[0;36m0.7\u001b[0m\u001b[0;34m,\u001b[0m\u001b[0;36m0.5\u001b[0m\u001b[0;34m,\u001b[0m\u001b[0;36m10000\u001b[0m\u001b[0;34m,\u001b[0m\u001b[0;36m1000\u001b[0m\u001b[0;34m)\u001b[0m\u001b[0;34m)\u001b[0m\u001b[0;34m\u001b[0m\u001b[0;34m\u001b[0m\u001b[0m\n\u001b[0m\u001b[1;32m     13\u001b[0m \u001b[0;34m\u001b[0m\u001b[0m\n\u001b[1;32m     14\u001b[0m \u001b[0mplt\u001b[0m\u001b[0;34m.\u001b[0m\u001b[0mplot\u001b[0m\u001b[0;34m(\u001b[0m\u001b[0mbeta\u001b[0m\u001b[0;34m,\u001b[0m\u001b[0mEs\u001b[0m\u001b[0;34m,\u001b[0m\u001b[0;34m\"r+\"\u001b[0m\u001b[0;34m)\u001b[0m\u001b[0;34m\u001b[0m\u001b[0;34m\u001b[0m\u001b[0m\n",
      "\u001b[0;32m<ipython-input-571-cc4fa470d076>\u001b[0m in \u001b[0;36mErun\u001b[0;34m(ri1, ri2, beta, S, delta, nsteps, therm)\u001b[0m\n\u001b[1;32m      7\u001b[0m     \u001b[0mr2\u001b[0m \u001b[0;34m=\u001b[0m \u001b[0;34m[\u001b[0m\u001b[0mri2\u001b[0m\u001b[0;34m]\u001b[0m\u001b[0;34m;\u001b[0m\u001b[0;34m\u001b[0m\u001b[0;34m\u001b[0m\u001b[0m\n\u001b[1;32m      8\u001b[0m     \u001b[0;32mfor\u001b[0m \u001b[0mi\u001b[0m \u001b[0;32min\u001b[0m \u001b[0mrange\u001b[0m\u001b[0;34m(\u001b[0m\u001b[0mnsteps\u001b[0m\u001b[0;34m)\u001b[0m\u001b[0;34m:\u001b[0m\u001b[0;34m\u001b[0m\u001b[0;34m\u001b[0m\u001b[0m\n\u001b[0;32m----> 9\u001b[0;31m         \u001b[0mrn1\u001b[0m\u001b[0;34m,\u001b[0m\u001b[0mrn2\u001b[0m \u001b[0;34m=\u001b[0m \u001b[0mMCMCrun\u001b[0m\u001b[0;34m(\u001b[0m\u001b[0mr1\u001b[0m\u001b[0;34m[\u001b[0m\u001b[0mi\u001b[0m\u001b[0;34m]\u001b[0m\u001b[0;34m,\u001b[0m\u001b[0mr2\u001b[0m\u001b[0;34m[\u001b[0m\u001b[0mi\u001b[0m\u001b[0;34m]\u001b[0m\u001b[0;34m,\u001b[0m\u001b[0mdelta\u001b[0m\u001b[0;34m,\u001b[0m\u001b[0mbeta\u001b[0m\u001b[0;34m,\u001b[0m\u001b[0mS\u001b[0m\u001b[0;34m)\u001b[0m\u001b[0;34m\u001b[0m\u001b[0;34m\u001b[0m\u001b[0m\n\u001b[0m\u001b[1;32m     10\u001b[0m         \u001b[0mr1\u001b[0m\u001b[0;34m.\u001b[0m\u001b[0mappend\u001b[0m\u001b[0;34m(\u001b[0m\u001b[0mrn1\u001b[0m\u001b[0;34m)\u001b[0m\u001b[0;34m;\u001b[0m\u001b[0;34m\u001b[0m\u001b[0;34m\u001b[0m\u001b[0m\n\u001b[1;32m     11\u001b[0m         \u001b[0mr2\u001b[0m\u001b[0;34m.\u001b[0m\u001b[0mappend\u001b[0m\u001b[0;34m(\u001b[0m\u001b[0mrn2\u001b[0m\u001b[0;34m)\u001b[0m\u001b[0;34m;\u001b[0m\u001b[0;34m\u001b[0m\u001b[0;34m\u001b[0m\u001b[0m\n",
      "\u001b[0;32m<ipython-input-535-cca91b542e07>\u001b[0m in \u001b[0;36mMCMCrun\u001b[0;34m(r1, r2, step, beta, S)\u001b[0m\n\u001b[1;32m      8\u001b[0m     \u001b[0meta\u001b[0m \u001b[0;34m=\u001b[0m \u001b[0mnp\u001b[0m\u001b[0;34m.\u001b[0m\u001b[0mrandom\u001b[0m\u001b[0;34m.\u001b[0m\u001b[0muniform\u001b[0m\u001b[0;34m(\u001b[0m\u001b[0;36m0\u001b[0m\u001b[0;34m,\u001b[0m\u001b[0;36m1\u001b[0m\u001b[0;34m)\u001b[0m\u001b[0;34m;\u001b[0m\u001b[0;34m\u001b[0m\u001b[0;34m\u001b[0m\u001b[0m\n\u001b[1;32m      9\u001b[0m \u001b[0;34m\u001b[0m\u001b[0m\n\u001b[0;32m---> 10\u001b[0;31m     \u001b[0mR\u001b[0m \u001b[0;34m=\u001b[0m \u001b[0mwavefunction\u001b[0m\u001b[0;34m(\u001b[0m\u001b[0mrt1\u001b[0m\u001b[0;34m,\u001b[0m\u001b[0mrt2\u001b[0m\u001b[0;34m,\u001b[0m\u001b[0mbeta\u001b[0m\u001b[0;34m,\u001b[0m\u001b[0mS\u001b[0m\u001b[0;34m)\u001b[0m\u001b[0;34m/\u001b[0m\u001b[0mwavefunction\u001b[0m\u001b[0;34m(\u001b[0m\u001b[0mr1\u001b[0m\u001b[0;34m,\u001b[0m\u001b[0mr2\u001b[0m\u001b[0;34m,\u001b[0m\u001b[0mbeta\u001b[0m\u001b[0;34m,\u001b[0m\u001b[0mS\u001b[0m\u001b[0;34m)\u001b[0m\u001b[0;34m;\u001b[0m\u001b[0;34m\u001b[0m\u001b[0;34m\u001b[0m\u001b[0m\n\u001b[0m\u001b[1;32m     11\u001b[0m \u001b[0;34m\u001b[0m\u001b[0m\n\u001b[1;32m     12\u001b[0m     \u001b[0;32mif\u001b[0m \u001b[0mR\u001b[0m\u001b[0;34m>\u001b[0m\u001b[0;36m1\u001b[0m\u001b[0;34m:\u001b[0m\u001b[0;34m\u001b[0m\u001b[0;34m\u001b[0m\u001b[0m\n",
      "\u001b[0;32m<ipython-input-297-b352010777b3>\u001b[0m in \u001b[0;36mwavefunction\u001b[0;34m(r1, r2, beta, S)\u001b[0m\n\u001b[1;32m      3\u001b[0m \u001b[0;32mdef\u001b[0m \u001b[0mwavefunction\u001b[0m\u001b[0;34m(\u001b[0m\u001b[0mr1\u001b[0m\u001b[0;34m,\u001b[0m\u001b[0mr2\u001b[0m\u001b[0;34m,\u001b[0m\u001b[0mbeta\u001b[0m\u001b[0;34m,\u001b[0m\u001b[0mS\u001b[0m\u001b[0;34m)\u001b[0m\u001b[0;34m:\u001b[0m\u001b[0;34m\u001b[0m\u001b[0;34m\u001b[0m\u001b[0m\n\u001b[1;32m      4\u001b[0m     \u001b[0malpha\u001b[0m \u001b[0;34m=\u001b[0m \u001b[0;36m2\u001b[0m\u001b[0;34m*\u001b[0m\u001b[0ma0\u001b[0m\u001b[0;34m;\u001b[0m\u001b[0;34m\u001b[0m\u001b[0;34m\u001b[0m\u001b[0m\n\u001b[0;32m----> 5\u001b[0;31m     \u001b[0ma\u001b[0m \u001b[0;34m=\u001b[0m \u001b[0msolvea\u001b[0m\u001b[0;34m(\u001b[0m\u001b[0mS\u001b[0m\u001b[0;34m)\u001b[0m\u001b[0;34m\u001b[0m\u001b[0;34m\u001b[0m\u001b[0m\n\u001b[0m\u001b[1;32m      6\u001b[0m \u001b[0;34m\u001b[0m\u001b[0m\n\u001b[1;32m      7\u001b[0m     \u001b[0mphi1\u001b[0m \u001b[0;34m=\u001b[0m \u001b[0mnp\u001b[0m\u001b[0;34m.\u001b[0m\u001b[0mexp\u001b[0m\u001b[0;34m(\u001b[0m\u001b[0;34m-\u001b[0m\u001b[0mrL\u001b[0m\u001b[0;34m(\u001b[0m\u001b[0mr1\u001b[0m\u001b[0;34m,\u001b[0m\u001b[0mS\u001b[0m\u001b[0;34m)\u001b[0m\u001b[0;34m/\u001b[0m\u001b[0ma\u001b[0m\u001b[0;34m)\u001b[0m \u001b[0;34m+\u001b[0m \u001b[0mnp\u001b[0m\u001b[0;34m.\u001b[0m\u001b[0mexp\u001b[0m\u001b[0;34m(\u001b[0m\u001b[0;34m-\u001b[0m\u001b[0mrR\u001b[0m\u001b[0;34m(\u001b[0m\u001b[0mr1\u001b[0m\u001b[0;34m,\u001b[0m\u001b[0mS\u001b[0m\u001b[0;34m)\u001b[0m\u001b[0;34m/\u001b[0m\u001b[0ma\u001b[0m\u001b[0;34m)\u001b[0m\u001b[0;34m;\u001b[0m\u001b[0;34m\u001b[0m\u001b[0;34m\u001b[0m\u001b[0m\n",
      "\u001b[0;32m<ipython-input-43-ad4ca2b77e09>\u001b[0m in \u001b[0;36msolvea\u001b[0;34m(S, n)\u001b[0m\n\u001b[1;32m     16\u001b[0m         \u001b[0mp\u001b[0m\u001b[0;34m=\u001b[0m\u001b[0;34m(\u001b[0m\u001b[0ml\u001b[0m\u001b[0;34m+\u001b[0m\u001b[0mm\u001b[0m\u001b[0;34m)\u001b[0m\u001b[0;34m/\u001b[0m\u001b[0;36m2\u001b[0m\u001b[0;34m\u001b[0m\u001b[0;34m\u001b[0m\u001b[0m\n\u001b[1;32m     17\u001b[0m \u001b[0;34m\u001b[0m\u001b[0m\n\u001b[0;32m---> 18\u001b[0;31m         \u001b[0mfp\u001b[0m\u001b[0;34m=\u001b[0m\u001b[0maeq\u001b[0m\u001b[0;34m(\u001b[0m\u001b[0mp\u001b[0m\u001b[0;34m,\u001b[0m\u001b[0mS\u001b[0m\u001b[0;34m)\u001b[0m\u001b[0;34m\u001b[0m\u001b[0;34m\u001b[0m\u001b[0m\n\u001b[0m\u001b[1;32m     19\u001b[0m \u001b[0;34m\u001b[0m\u001b[0m\n\u001b[1;32m     20\u001b[0m         \u001b[0;32mif\u001b[0m \u001b[0mfl\u001b[0m\u001b[0;34m*\u001b[0m\u001b[0mfm\u001b[0m\u001b[0;34m<\u001b[0m\u001b[0;36m0\u001b[0m\u001b[0;34m:\u001b[0m\u001b[0;34m\u001b[0m\u001b[0;34m\u001b[0m\u001b[0m\n",
      "\u001b[0;32m<ipython-input-43-ad4ca2b77e09>\u001b[0m in \u001b[0;36maeq\u001b[0;34m(a, S)\u001b[0m\n\u001b[1;32m      1\u001b[0m \u001b[0;32mdef\u001b[0m \u001b[0maeq\u001b[0m\u001b[0;34m(\u001b[0m\u001b[0ma\u001b[0m\u001b[0;34m,\u001b[0m\u001b[0mS\u001b[0m\u001b[0;34m)\u001b[0m\u001b[0;34m:\u001b[0m\u001b[0;34m\u001b[0m\u001b[0;34m\u001b[0m\u001b[0m\n\u001b[0;32m----> 2\u001b[0;31m     \u001b[0;32mreturn\u001b[0m \u001b[0ma0\u001b[0m\u001b[0;34m/\u001b[0m\u001b[0;34m(\u001b[0m\u001b[0;36m1\u001b[0m\u001b[0;34m+\u001b[0m \u001b[0mnp\u001b[0m\u001b[0;34m.\u001b[0m\u001b[0mexp\u001b[0m\u001b[0;34m(\u001b[0m\u001b[0;34m-\u001b[0m\u001b[0mS\u001b[0m\u001b[0;34m/\u001b[0m\u001b[0ma\u001b[0m\u001b[0;34m)\u001b[0m\u001b[0;34m)\u001b[0m\u001b[0;34m-\u001b[0m\u001b[0ma\u001b[0m\u001b[0;34m\u001b[0m\u001b[0;34m\u001b[0m\u001b[0m\n\u001b[0m\u001b[1;32m      3\u001b[0m \u001b[0;34m\u001b[0m\u001b[0m\n\u001b[1;32m      4\u001b[0m \u001b[0;34m\u001b[0m\u001b[0m\n\u001b[1;32m      5\u001b[0m \u001b[0;34m\u001b[0m\u001b[0m\n",
      "\u001b[0;31mKeyboardInterrupt\u001b[0m: "
     ]
    }
   ],
   "source": [
    "\n",
    "r1 = 1\n",
    "r2 = -1\n",
    "\n",
    "    \n",
    "beta = np.linspace(0,2,50)\n",
    "\n",
    "Es = []\n",
    "\n",
    "for i in beta:\n",
    "    Es.append(Erun(r1,r2,i,0.7,0.5,10000,1000))\n",
    "    \n",
    "plt.plot(beta,Es,\"r+\")"
   ]
  },
  {
   "cell_type": "code",
   "execution_count": 605,
   "metadata": {},
   "outputs": [
    {
     "ename": "KeyboardInterrupt",
     "evalue": "",
     "output_type": "error",
     "traceback": [
      "\u001b[0;31m---------------------------------------------------------------------------\u001b[0m",
      "\u001b[0;31mKeyboardInterrupt\u001b[0m                         Traceback (most recent call last)",
      "\u001b[0;32m<ipython-input-605-ff0ab2c08dd4>\u001b[0m in \u001b[0;36m<module>\u001b[0;34m\u001b[0m\n\u001b[1;32m      7\u001b[0m \u001b[0;32mfor\u001b[0m \u001b[0mi\u001b[0m \u001b[0;32min\u001b[0m \u001b[0mSv\u001b[0m\u001b[0;34m:\u001b[0m\u001b[0;34m\u001b[0m\u001b[0;34m\u001b[0m\u001b[0m\n\u001b[1;32m      8\u001b[0m     \u001b[0;32mfor\u001b[0m \u001b[0mj\u001b[0m \u001b[0;32min\u001b[0m \u001b[0mbeta\u001b[0m\u001b[0;34m:\u001b[0m\u001b[0;34m\u001b[0m\u001b[0;34m\u001b[0m\u001b[0m\n\u001b[0;32m----> 9\u001b[0;31m         \u001b[0mEs\u001b[0m\u001b[0;34m.\u001b[0m\u001b[0mappend\u001b[0m\u001b[0;34m(\u001b[0m\u001b[0mErun\u001b[0m\u001b[0;34m(\u001b[0m\u001b[0mr1\u001b[0m\u001b[0;34m,\u001b[0m\u001b[0mr2\u001b[0m\u001b[0;34m,\u001b[0m\u001b[0mj\u001b[0m\u001b[0;34m,\u001b[0m\u001b[0mi\u001b[0m\u001b[0;34m,\u001b[0m\u001b[0;36m0.5\u001b[0m\u001b[0;34m,\u001b[0m\u001b[0;36m1000000\u001b[0m\u001b[0;34m,\u001b[0m\u001b[0;36m1000\u001b[0m\u001b[0;34m)\u001b[0m\u001b[0;34m)\u001b[0m\u001b[0;34m\u001b[0m\u001b[0;34m\u001b[0m\u001b[0m\n\u001b[0m",
      "\u001b[0;32m<ipython-input-571-cc4fa470d076>\u001b[0m in \u001b[0;36mErun\u001b[0;34m(ri1, ri2, beta, S, delta, nsteps, therm)\u001b[0m\n\u001b[1;32m      7\u001b[0m     \u001b[0mr2\u001b[0m \u001b[0;34m=\u001b[0m \u001b[0;34m[\u001b[0m\u001b[0mri2\u001b[0m\u001b[0;34m]\u001b[0m\u001b[0;34m;\u001b[0m\u001b[0;34m\u001b[0m\u001b[0;34m\u001b[0m\u001b[0m\n\u001b[1;32m      8\u001b[0m     \u001b[0;32mfor\u001b[0m \u001b[0mi\u001b[0m \u001b[0;32min\u001b[0m \u001b[0mrange\u001b[0m\u001b[0;34m(\u001b[0m\u001b[0mnsteps\u001b[0m\u001b[0;34m)\u001b[0m\u001b[0;34m:\u001b[0m\u001b[0;34m\u001b[0m\u001b[0;34m\u001b[0m\u001b[0m\n\u001b[0;32m----> 9\u001b[0;31m         \u001b[0mrn1\u001b[0m\u001b[0;34m,\u001b[0m\u001b[0mrn2\u001b[0m \u001b[0;34m=\u001b[0m \u001b[0mMCMCrun\u001b[0m\u001b[0;34m(\u001b[0m\u001b[0mr1\u001b[0m\u001b[0;34m[\u001b[0m\u001b[0mi\u001b[0m\u001b[0;34m]\u001b[0m\u001b[0;34m,\u001b[0m\u001b[0mr2\u001b[0m\u001b[0;34m[\u001b[0m\u001b[0mi\u001b[0m\u001b[0;34m]\u001b[0m\u001b[0;34m,\u001b[0m\u001b[0mdelta\u001b[0m\u001b[0;34m,\u001b[0m\u001b[0mbeta\u001b[0m\u001b[0;34m,\u001b[0m\u001b[0mS\u001b[0m\u001b[0;34m)\u001b[0m\u001b[0;34m\u001b[0m\u001b[0;34m\u001b[0m\u001b[0m\n\u001b[0m\u001b[1;32m     10\u001b[0m         \u001b[0mr1\u001b[0m\u001b[0;34m.\u001b[0m\u001b[0mappend\u001b[0m\u001b[0;34m(\u001b[0m\u001b[0mrn1\u001b[0m\u001b[0;34m)\u001b[0m\u001b[0;34m;\u001b[0m\u001b[0;34m\u001b[0m\u001b[0;34m\u001b[0m\u001b[0m\n\u001b[1;32m     11\u001b[0m         \u001b[0mr2\u001b[0m\u001b[0;34m.\u001b[0m\u001b[0mappend\u001b[0m\u001b[0;34m(\u001b[0m\u001b[0mrn2\u001b[0m\u001b[0;34m)\u001b[0m\u001b[0;34m;\u001b[0m\u001b[0;34m\u001b[0m\u001b[0;34m\u001b[0m\u001b[0m\n",
      "\u001b[0;32m<ipython-input-535-cca91b542e07>\u001b[0m in \u001b[0;36mMCMCrun\u001b[0;34m(r1, r2, step, beta, S)\u001b[0m\n\u001b[1;32m      8\u001b[0m     \u001b[0meta\u001b[0m \u001b[0;34m=\u001b[0m \u001b[0mnp\u001b[0m\u001b[0;34m.\u001b[0m\u001b[0mrandom\u001b[0m\u001b[0;34m.\u001b[0m\u001b[0muniform\u001b[0m\u001b[0;34m(\u001b[0m\u001b[0;36m0\u001b[0m\u001b[0;34m,\u001b[0m\u001b[0;36m1\u001b[0m\u001b[0;34m)\u001b[0m\u001b[0;34m;\u001b[0m\u001b[0;34m\u001b[0m\u001b[0;34m\u001b[0m\u001b[0m\n\u001b[1;32m      9\u001b[0m \u001b[0;34m\u001b[0m\u001b[0m\n\u001b[0;32m---> 10\u001b[0;31m     \u001b[0mR\u001b[0m \u001b[0;34m=\u001b[0m \u001b[0mwavefunction\u001b[0m\u001b[0;34m(\u001b[0m\u001b[0mrt1\u001b[0m\u001b[0;34m,\u001b[0m\u001b[0mrt2\u001b[0m\u001b[0;34m,\u001b[0m\u001b[0mbeta\u001b[0m\u001b[0;34m,\u001b[0m\u001b[0mS\u001b[0m\u001b[0;34m)\u001b[0m\u001b[0;34m/\u001b[0m\u001b[0mwavefunction\u001b[0m\u001b[0;34m(\u001b[0m\u001b[0mr1\u001b[0m\u001b[0;34m,\u001b[0m\u001b[0mr2\u001b[0m\u001b[0;34m,\u001b[0m\u001b[0mbeta\u001b[0m\u001b[0;34m,\u001b[0m\u001b[0mS\u001b[0m\u001b[0;34m)\u001b[0m\u001b[0;34m;\u001b[0m\u001b[0;34m\u001b[0m\u001b[0;34m\u001b[0m\u001b[0m\n\u001b[0m\u001b[1;32m     11\u001b[0m \u001b[0;34m\u001b[0m\u001b[0m\n\u001b[1;32m     12\u001b[0m     \u001b[0;32mif\u001b[0m \u001b[0mR\u001b[0m\u001b[0;34m>\u001b[0m\u001b[0;36m1\u001b[0m\u001b[0;34m:\u001b[0m\u001b[0;34m\u001b[0m\u001b[0;34m\u001b[0m\u001b[0m\n",
      "\u001b[0;32m<ipython-input-297-b352010777b3>\u001b[0m in \u001b[0;36mwavefunction\u001b[0;34m(r1, r2, beta, S)\u001b[0m\n\u001b[1;32m      3\u001b[0m \u001b[0;32mdef\u001b[0m \u001b[0mwavefunction\u001b[0m\u001b[0;34m(\u001b[0m\u001b[0mr1\u001b[0m\u001b[0;34m,\u001b[0m\u001b[0mr2\u001b[0m\u001b[0;34m,\u001b[0m\u001b[0mbeta\u001b[0m\u001b[0;34m,\u001b[0m\u001b[0mS\u001b[0m\u001b[0;34m)\u001b[0m\u001b[0;34m:\u001b[0m\u001b[0;34m\u001b[0m\u001b[0;34m\u001b[0m\u001b[0m\n\u001b[1;32m      4\u001b[0m     \u001b[0malpha\u001b[0m \u001b[0;34m=\u001b[0m \u001b[0;36m2\u001b[0m\u001b[0;34m*\u001b[0m\u001b[0ma0\u001b[0m\u001b[0;34m;\u001b[0m\u001b[0;34m\u001b[0m\u001b[0;34m\u001b[0m\u001b[0m\n\u001b[0;32m----> 5\u001b[0;31m     \u001b[0ma\u001b[0m \u001b[0;34m=\u001b[0m \u001b[0msolvea\u001b[0m\u001b[0;34m(\u001b[0m\u001b[0mS\u001b[0m\u001b[0;34m)\u001b[0m\u001b[0;34m\u001b[0m\u001b[0;34m\u001b[0m\u001b[0m\n\u001b[0m\u001b[1;32m      6\u001b[0m \u001b[0;34m\u001b[0m\u001b[0m\n\u001b[1;32m      7\u001b[0m     \u001b[0mphi1\u001b[0m \u001b[0;34m=\u001b[0m \u001b[0mnp\u001b[0m\u001b[0;34m.\u001b[0m\u001b[0mexp\u001b[0m\u001b[0;34m(\u001b[0m\u001b[0;34m-\u001b[0m\u001b[0mrL\u001b[0m\u001b[0;34m(\u001b[0m\u001b[0mr1\u001b[0m\u001b[0;34m,\u001b[0m\u001b[0mS\u001b[0m\u001b[0;34m)\u001b[0m\u001b[0;34m/\u001b[0m\u001b[0ma\u001b[0m\u001b[0;34m)\u001b[0m \u001b[0;34m+\u001b[0m \u001b[0mnp\u001b[0m\u001b[0;34m.\u001b[0m\u001b[0mexp\u001b[0m\u001b[0;34m(\u001b[0m\u001b[0;34m-\u001b[0m\u001b[0mrR\u001b[0m\u001b[0;34m(\u001b[0m\u001b[0mr1\u001b[0m\u001b[0;34m,\u001b[0m\u001b[0mS\u001b[0m\u001b[0;34m)\u001b[0m\u001b[0;34m/\u001b[0m\u001b[0ma\u001b[0m\u001b[0;34m)\u001b[0m\u001b[0;34m;\u001b[0m\u001b[0;34m\u001b[0m\u001b[0;34m\u001b[0m\u001b[0m\n",
      "\u001b[0;32m<ipython-input-43-ad4ca2b77e09>\u001b[0m in \u001b[0;36msolvea\u001b[0;34m(S, n)\u001b[0m\n\u001b[1;32m     10\u001b[0m     \u001b[0;32mfor\u001b[0m \u001b[0mi\u001b[0m \u001b[0;32min\u001b[0m \u001b[0mrange\u001b[0m\u001b[0;34m(\u001b[0m\u001b[0mn\u001b[0m\u001b[0;34m)\u001b[0m\u001b[0;34m:\u001b[0m\u001b[0;34m\u001b[0m\u001b[0;34m\u001b[0m\u001b[0m\n\u001b[1;32m     11\u001b[0m \u001b[0;34m\u001b[0m\u001b[0m\n\u001b[0;32m---> 12\u001b[0;31m         \u001b[0mfl\u001b[0m\u001b[0;34m=\u001b[0m\u001b[0maeq\u001b[0m\u001b[0;34m(\u001b[0m\u001b[0ml\u001b[0m\u001b[0;34m,\u001b[0m\u001b[0mS\u001b[0m\u001b[0;34m)\u001b[0m\u001b[0;34m\u001b[0m\u001b[0;34m\u001b[0m\u001b[0m\n\u001b[0m\u001b[1;32m     13\u001b[0m         \u001b[0mfm\u001b[0m\u001b[0;34m=\u001b[0m\u001b[0maeq\u001b[0m\u001b[0;34m(\u001b[0m\u001b[0mm\u001b[0m\u001b[0;34m,\u001b[0m\u001b[0mS\u001b[0m\u001b[0;34m)\u001b[0m\u001b[0;34m\u001b[0m\u001b[0;34m\u001b[0m\u001b[0m\n\u001b[1;32m     14\u001b[0m \u001b[0;34m\u001b[0m\u001b[0m\n",
      "\u001b[0;32m<ipython-input-43-ad4ca2b77e09>\u001b[0m in \u001b[0;36maeq\u001b[0;34m(a, S)\u001b[0m\n\u001b[1;32m      1\u001b[0m \u001b[0;32mdef\u001b[0m \u001b[0maeq\u001b[0m\u001b[0;34m(\u001b[0m\u001b[0ma\u001b[0m\u001b[0;34m,\u001b[0m\u001b[0mS\u001b[0m\u001b[0;34m)\u001b[0m\u001b[0;34m:\u001b[0m\u001b[0;34m\u001b[0m\u001b[0;34m\u001b[0m\u001b[0m\n\u001b[0;32m----> 2\u001b[0;31m     \u001b[0;32mreturn\u001b[0m \u001b[0ma0\u001b[0m\u001b[0;34m/\u001b[0m\u001b[0;34m(\u001b[0m\u001b[0;36m1\u001b[0m\u001b[0;34m+\u001b[0m \u001b[0mnp\u001b[0m\u001b[0;34m.\u001b[0m\u001b[0mexp\u001b[0m\u001b[0;34m(\u001b[0m\u001b[0;34m-\u001b[0m\u001b[0mS\u001b[0m\u001b[0;34m/\u001b[0m\u001b[0ma\u001b[0m\u001b[0;34m)\u001b[0m\u001b[0;34m)\u001b[0m\u001b[0;34m-\u001b[0m\u001b[0ma\u001b[0m\u001b[0;34m\u001b[0m\u001b[0;34m\u001b[0m\u001b[0m\n\u001b[0m\u001b[1;32m      3\u001b[0m \u001b[0;34m\u001b[0m\u001b[0m\n\u001b[1;32m      4\u001b[0m \u001b[0;34m\u001b[0m\u001b[0m\n\u001b[1;32m      5\u001b[0m \u001b[0;34m\u001b[0m\u001b[0m\n",
      "\u001b[0;31mKeyboardInterrupt\u001b[0m: "
     ]
    }
   ],
   "source": [
    "Sv = np.linspace(0,3,100)\n",
    "\n",
    "beta = np.linspace(0,2,50)\n",
    "\n",
    "U = []\n",
    "\n",
    "#E0 is the ground state energy\n",
    "\n",
    "for i in Sv:\n",
    "    for j in beta:\n",
    "        Es.append(Erun(r1,r2,j,i,0.5,1000000,1000))\n",
    "    #find the minimum E (E0)\n",
    "    #find corresponding beta\n",
    "    \n",
    "    #call a function to evaluate V(S)\n",
    "\n",
    "    \n",
    "#plot(s,U)\n",
    "    "
   ]
  },
  {
   "cell_type": "code",
   "execution_count": null,
   "metadata": {},
   "outputs": [],
   "source": [
    "ri1=0.5\n",
    "ri2=-0.5\n",
    "\n",
    "thermalisation = 10000\n",
    "\n",
    "for i in range(thermalisation):\n",
    "    ri1,ri2 = MCMCrun(ri1,ri2,0.52,0.2,0.8)\n",
    "    \n",
    "    \n",
    "nsteps = 100000\n",
    "\n",
    "r1 = [ri1];\n",
    "r2 = [ri2];\n",
    "\n",
    "\n",
    "for i in range(nsteps):\n",
    "    rn1,rn2 = MCMCrun(r1[i],r2[i],0.01,0.2,0.6)\n",
    "    r1.append(rn1);\n",
    "    r2.append(rn2);"
   ]
  },
  {
   "cell_type": "code",
   "execution_count": 555,
   "metadata": {},
   "outputs": [
    {
     "data": {
      "text/plain": [
       "0.5116485142669902"
      ]
     },
     "execution_count": 555,
     "metadata": {},
     "output_type": "execute_result"
    }
   ],
   "source": [
    "ri1"
   ]
  },
  {
   "cell_type": "code",
   "execution_count": 552,
   "metadata": {},
   "outputs": [
    {
     "data": {
      "text/plain": [
       "[<matplotlib.lines.Line2D at 0x7fddf47a7bd0>]"
      ]
     },
     "execution_count": 552,
     "metadata": {},
     "output_type": "execute_result"
    },
    {
     "data": {
      "image/png": "[encoded data removed]",
      "text/plain": [
       "<Figure size 432x288 with 1 Axes>"
      ]
     },
     "metadata": {
      "needs_background": "light"
     },
     "output_type": "display_data"
    }
   ],
   "source": [
    "plt.plot(r1)\n",
    "plt.plot(r2)"
   ]
  },
  {
   "cell_type": "code",
   "execution_count": 546,
   "metadata": {},
   "outputs": [
    {
     "data": {
      "text/plain": [
       "0.2683202232343764"
      ]
     },
     "execution_count": 546,
     "metadata": {},
     "output_type": "execute_result"
    }
   ],
   "source": [
    "r1[-1]"
   ]
  },
  {
   "cell_type": "code",
   "execution_count": 547,
   "metadata": {},
   "outputs": [
    {
     "data": {
      "text/plain": [
       "-0.3536437125951655"
      ]
     },
     "execution_count": 547,
     "metadata": {},
     "output_type": "execute_result"
    }
   ],
   "source": [
    "r2[-1]"
   ]
  },
  {
   "cell_type": "code",
   "execution_count": 548,
   "metadata": {},
   "outputs": [],
   "source": [
    "r1 = np.array(r1)\n",
    "r2 = np.array(r2)"
   ]
  },
  {
   "cell_type": "code",
   "execution_count": 549,
   "metadata": {},
   "outputs": [
    {
     "data": {
      "text/plain": [
       "(array([0.17897424, 0.34681585, 0.5641417 , 0.58219893, 0.66284386,\n",
       "        0.97508999, 0.71909291, 0.71019746, 0.42809998, 0.1592125 ]),\n",
       " array([-0.83484629, -0.64711164, -0.459377  , -0.27164236, -0.08390772,\n",
       "         0.10382692,  0.29156157,  0.47929621,  0.66703085,  0.85476549,\n",
       "         1.04250013]),\n",
       " <BarContainer object of 10 artists>)"
      ]
     },
     "execution_count": 549,
     "metadata": {},
     "output_type": "execute_result"
    },
    {
     "data": {
      "image/png": "[encoded data removed]",
      "text/plain": [
       "<Figure size 432x288 with 1 Axes>"
      ]
     },
     "metadata": {
      "needs_background": "light"
     },
     "output_type": "display_data"
    }
   ],
   "source": [
    "plt.hist(r1,density=\"True\")\n",
    "plt.hist(r2,density=\"True\")"
   ]
  },
  {
   "cell_type": "code",
   "execution_count": 391,
   "metadata": {},
   "outputs": [
    {
     "name": "stdout",
     "output_type": "stream",
     "text": [
      "[0.36618211 0.36819731 0.3790547  ... 0.48625905 0.48811015 0.4976783 ]\n"
     ]
    }
   ],
   "source": [
    "#finding E(integral)\n",
    "\n",
    "Elocal = epsilon(r1,r2,0.2,0.6)"
   ]
  },
  {
   "cell_type": "code",
   "execution_count": 392,
   "metadata": {},
   "outputs": [
    {
     "data": {
      "text/plain": [
       "-1117.4173680859085"
      ]
     },
     "execution_count": 392,
     "metadata": {},
     "output_type": "execute_result"
    }
   ],
   "source": [
    "np.mean(Elocal)"
   ]
  },
  {
   "cell_type": "code",
   "execution_count": 394,
   "metadata": {},
   "outputs": [
    {
     "data": {
      "text/plain": [
       "1.6613697135928231"
      ]
     },
     "execution_count": 394,
     "metadata": {},
     "output_type": "execute_result"
    }
   ],
   "source": [
    "np.mean(wavefunction(r1,r2,0.2,0.6))"
   ]
  },
  {
   "cell_type": "code",
   "execution_count": null,
   "metadata": {},
   "outputs": [],
   "source": []
  }
 ],
 "metadata": {
  "kernelspec": {
   "display_name": "Python 3.7.7 64-bit ('base': conda)",
   "language": "python",
   "name": "python37764bitbaseconda781db70e088b4a4896d6b91912286919"
  },
  "language_info": {
   "codemirror_mode": {
    "name": "ipython",
    "version": 3
   },
   "file_extension": ".py",
   "mimetype": "text/x-python",
   "name": "python",
   "nbconvert_exporter": "python",
   "pygments_lexer": "ipython3",
   "version": "3.7.7"
  }
 },
 "nbformat": 4,
 "nbformat_minor": 4
}
