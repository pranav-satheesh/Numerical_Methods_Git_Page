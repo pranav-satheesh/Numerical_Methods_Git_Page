{
 "cells": [
  {
   "cell_type": "markdown",
   "metadata": {},
   "source": [
    "## 5.1\n",
    "Integration using a weight function:\n",
    "\n",
    "$\\int_0^{\\infty} \\frac{1}{1+x^2} = \\frac{\\pi}{4}$"
   ]
  },
  {
   "cell_type": "code",
   "execution_count": 3,
   "metadata": {},
   "outputs": [],
   "source": [
    "import numpy as np\n",
    "import matplotlib.pyplot as plt\n",
    "import random\n"
   ]
  },
  {
   "cell_type": "code",
   "execution_count": 4,
   "metadata": {},
   "outputs": [],
   "source": [
    "exact = 0.78540\n",
    "\n",
    "\n",
    "def func(x):\n",
    "    return 1.0/(1.0+x**2)\n",
    "\n"
   ]
  },
  {
   "cell_type": "code",
   "execution_count": 5,
   "metadata": {},
   "outputs": [],
   "source": [
    "#with a weight function w(x) = 1\n",
    "\n",
    "N = 100;\n",
    "\n",
    "sumF = 0;\n",
    "sumF2 = 0;\n",
    "\n",
    "for i in range(N):\n",
    "    FX = func(random.random())\n",
    "    sumF = sumF + FX;\n",
    "    sumF2 = sumF2 + FX**2"
   ]
  },
  {
   "cell_type": "code",
   "execution_count": 6,
   "metadata": {},
   "outputs": [],
   "source": [
    "Favg = sumF/N\n",
    "F2avg = sumF2/N\n",
    "sigma = np.sqrt((F2avg-Favg**2)/N)"
   ]
  },
  {
   "cell_type": "code",
   "execution_count": 7,
   "metadata": {},
   "outputs": [
    {
     "data": {
      "text/plain": [
       "0.7830453312962554"
      ]
     },
     "execution_count": 7,
     "metadata": {},
     "output_type": "execute_result"
    }
   ],
   "source": [
    "Favg"
   ]
  },
  {
   "cell_type": "code",
   "execution_count": 8,
   "metadata": {},
   "outputs": [
    {
     "data": {
      "text/plain": [
       "0.014885957513852941"
      ]
     },
     "execution_count": 8,
     "metadata": {},
     "output_type": "execute_result"
    }
   ],
   "source": [
    "sigma"
   ]
  },
  {
   "cell_type": "code",
   "execution_count": 9,
   "metadata": {},
   "outputs": [],
   "source": [
    "def w(x): #A better wave function\n",
    "    return (4-2*x)/3\n",
    "\n"
   ]
  },
  {
   "cell_type": "code",
   "execution_count": 10,
   "metadata": {},
   "outputs": [],
   "source": [
    "def xinv(x):\n",
    "    return 2 - np.sqrt(4-3*x) "
   ]
  },
  {
   "cell_type": "code",
   "execution_count": 11,
   "metadata": {},
   "outputs": [],
   "source": [
    "def evaluate(N):\n",
    "    #Evaluate the integral and sigma for various values of N\n",
    "    sumF = 0;\n",
    "    sumF2 = 0;\n",
    "\n",
    "    for i in range(N):\n",
    "        y = random.random()\n",
    "        x = xinv(y);\n",
    "    \n",
    "        FX = func(x)/w(x);\n",
    "    \n",
    "        sumF = sumF + FX;\n",
    "        sumF2 = sumF2 + FX**2\n",
    "        \n",
    "    Favg = sumF/N\n",
    "    F2avg = sumF2/N\n",
    "    sigma = np.sqrt((F2avg-Favg**2)/N)\n",
    "\n",
    "    return Favg,sigma"
   ]
  },
  {
   "cell_type": "code",
   "execution_count": 13,
   "metadata": {},
   "outputs": [
    {
     "data": {
      "text/plain": [
       "(0.7843681828077688, 0.0029155821331475333)"
      ]
     },
     "execution_count": 13,
     "metadata": {},
     "output_type": "execute_result"
    }
   ],
   "source": [
    "evaluate(10)"
   ]
  },
  {
   "cell_type": "code",
   "execution_count": 14,
   "metadata": {},
   "outputs": [
    {
     "data": {
      "text/plain": [
       "(0.7855866347024301, 0.0028652956180968804)"
      ]
     },
     "execution_count": 14,
     "metadata": {},
     "output_type": "execute_result"
    }
   ],
   "source": [
    "evaluate(50)"
   ]
  },
  {
   "cell_type": "code",
   "execution_count": 15,
   "metadata": {},
   "outputs": [
    {
     "data": {
      "text/plain": [
       "(0.7841249234273685, 0.002011436028284943)"
      ]
     },
     "execution_count": 15,
     "metadata": {},
     "output_type": "execute_result"
    }
   ],
   "source": [
    "evaluate(100)"
   ]
  },
  {
   "cell_type": "code",
   "execution_count": 16,
   "metadata": {},
   "outputs": [
    {
     "data": {
      "text/plain": [
       "(0.7855720399527105, 0.0006298754472068794)"
      ]
     },
     "execution_count": 16,
     "metadata": {},
     "output_type": "execute_result"
    }
   ],
   "source": [
    "evaluate(1000)"
   ]
  },
  {
   "cell_type": "markdown",
   "metadata": {},
   "source": [
    "## 5.2\n",
    "\n",
    "We have to integrate $$\\int_{-\\infty}^{\\infty} x^2 e^{-x^2/2}$$\n",
    "\n",
    "We use $w(x) = e^{-x^2/2}$ as the weight function to evaluate this"
   ]
  },
  {
   "cell_type": "code",
   "execution_count": 27,
   "metadata": {},
   "outputs": [],
   "source": [
    "#Metropolis-Hastings ALgorithm\n",
    "\n",
    "\n",
    "def Weight(x):\n",
    "    return np.exp(-x**2/2);\n",
    "\n",
    "\n",
    "\n",
    "def metropstep(xn,Weight):\n",
    "    \n",
    "    xt = xn + np.random.normal();\n",
    "    \n",
    "    r = Weight(xt)/Weight(xn);\n",
    "    \n",
    "    if r>1:\n",
    "        xnext = xt;\n",
    "        a = 1\n",
    "    else:\n",
    "        eta = np.random.uniform(0,1);\n",
    "        \n",
    "        if eta<r:\n",
    "            xnext = xt;\n",
    "            a=1\n",
    "        else:\n",
    "            xnext = xn;\n",
    "            a=0\n",
    "            \n",
    "    return xnext,a\n",
    "\n"
   ]
  },
  {
   "cell_type": "code",
   "execution_count": 28,
   "metadata": {},
   "outputs": [],
   "source": [
    "\n",
    "x0 = 0;\n",
    "Xchain = [x0];\n",
    "nsteps = 1000;\n",
    "A = 0\n",
    "for i in range(nsteps):\n",
    "    xn1,a = metropstep(Xchain[i],Weight)\n",
    "    Xchain.append(xn1)\n",
    "    A = A+a\n",
    "    \n",
    "    \n"
   ]
  },
  {
   "cell_type": "code",
   "execution_count": 30,
   "metadata": {},
   "outputs": [
    {
     "data": {
      "text/plain": [
       "0.672"
      ]
     },
     "execution_count": 30,
     "metadata": {},
     "output_type": "execute_result"
    }
   ],
   "source": [
    "A/nsteps"
   ]
  },
  {
   "cell_type": "markdown",
   "metadata": {},
   "source": [
    "Acceptance ratio is good enough and it is a clear indication that the metropolis hasting algorithm is working fine"
   ]
  },
  {
   "cell_type": "code",
   "execution_count": 34,
   "metadata": {},
   "outputs": [],
   "source": [
    "def metropolis_hastings(p, iter=2000):\n",
    "    x = 0.0\n",
    "    samples = np.zeros(iter)\n",
    "\n",
    "    for i in range(iter):\n",
    "        \n",
    "        x_t = np.array([x]) + np.random.normal(size=1)\n",
    "        if np.random.rand() < p(x_t) / p(x):\n",
    "            x = x_t\n",
    "            \n",
    "        samples[i] = np.array([x])\n",
    "\n",
    "    return samples"
   ]
  },
  {
   "cell_type": "code",
   "execution_count": 35,
   "metadata": {},
   "outputs": [],
   "source": [
    "sample = metropolis_hastings(Weight)"
   ]
  },
  {
   "cell_type": "code",
   "execution_count": 37,
   "metadata": {},
   "outputs": [
    {
     "data": {
      "image/png": "[encoded data removed]",
      "text/plain": [
       "<Figure size 432x288 with 1 Axes>"
      ]
     },
     "metadata": {
      "needs_background": "light"
     },
     "output_type": "display_data"
    }
   ],
   "source": [
    "plt.hist(sample,density=True)\n",
    "plt.show()"
   ]
  },
  {
   "cell_type": "code",
   "execution_count": 47,
   "metadata": {},
   "outputs": [
    {
     "data": {
      "text/plain": [
       "2.66749390205379"
      ]
     },
     "execution_count": 47,
     "metadata": {},
     "output_type": "execute_result"
    }
   ],
   "source": [
    "np.mean(sample**2)*np.sqrt(2*np.pi) #Taking the average of x**2 and multiplying the norma"
   ]
  },
  {
   "cell_type": "markdown",
   "metadata": {},
   "source": [
    "The evaluated answer is very close to the theoretical value of $\\sqrt(2\\pi)$"
   ]
  },
  {
   "cell_type": "code",
   "execution_count": 48,
   "metadata": {},
   "outputs": [],
   "source": [
    "#Plotting the correlation function\n",
    "\n",
    "def func(x):\n",
    "    return x**2\n",
    "\n",
    "def fifik(x,N,k):\n",
    "    sum = 0\n",
    "    for i in range(N-k):\n",
    "        sum = sum + func(x[i])*func(x[i+k])\n",
    "    \n",
    "    return sum/(N-k)\n",
    "\n",
    "def C(x,N,k):\n",
    "    \n",
    "    fav = np.mean(func(x))\n",
    "    favsq = np.mean(func(x)**2)\n",
    "    \n",
    "    return (fifik(x,N,k) - fav**2) / (favsq - fav**2)"
   ]
  },
  {
   "cell_type": "code",
   "execution_count": 49,
   "metadata": {},
   "outputs": [
    {
     "data": {
      "text/plain": [
       "2000"
      ]
     },
     "execution_count": 49,
     "metadata": {},
     "output_type": "execute_result"
    }
   ],
   "source": [
    "np.size(sample)"
   ]
  },
  {
   "cell_type": "code",
   "execution_count": 50,
   "metadata": {},
   "outputs": [],
   "source": [
    "steps = np.arange(1,200)\n",
    "Clist = []\n",
    "\n",
    "for k in steps:\n",
    "    Clist.append(C(sample,2000,k))\n",
    "    \n"
   ]
  },
  {
   "cell_type": "code",
   "execution_count": 54,
   "metadata": {},
   "outputs": [
    {
     "data": {
      "image/png": "[encoded data removed]",
      "text/plain": [
       "<Figure size 432x288 with 1 Axes>"
      ]
     },
     "metadata": {
      "needs_background": "light"
     },
     "output_type": "display_data"
    }
   ],
   "source": [
    "plt.plot(steps,Clist)\n",
    "plt.xlabel(\"no. of steps\")\n",
    "plt.ylabel(\"C(k)\")\n",
    "plt.show()"
   ]
  },
  {
   "cell_type": "markdown",
   "metadata": {},
   "source": [
    "## 5.3 Ising Model"
   ]
  },
  {
   "cell_type": "code",
   "execution_count": 55,
   "metadata": {},
   "outputs": [],
   "source": [
    "def initial(N): #function to initalise the spins randomly\n",
    "    \n",
    "    state = 2*np.random.randint(2,size=(N,N))-1\n",
    "    return state"
   ]
  },
  {
   "cell_type": "code",
   "execution_count": 56,
   "metadata": {},
   "outputs": [
    {
     "data": {
      "text/plain": [
       "array([[-1, -1,  1, -1, -1,  1, -1,  1,  1,  1],\n",
       "       [ 1, -1,  1, -1, -1, -1,  1, -1,  1,  1],\n",
       "       [-1, -1, -1, -1, -1, -1, -1,  1,  1, -1],\n",
       "       [-1,  1, -1,  1, -1, -1, -1,  1, -1,  1],\n",
       "       [-1, -1, -1, -1, -1,  1, -1, -1, -1, -1],\n",
       "       [ 1, -1, -1,  1,  1,  1, -1,  1,  1, -1],\n",
       "       [ 1, -1,  1,  1, -1, -1, -1, -1, -1,  1],\n",
       "       [-1, -1,  1,  1,  1, -1, -1, -1,  1,  1],\n",
       "       [-1,  1,  1,  1,  1, -1,  1,  1, -1,  1],\n",
       "       [ 1,  1,  1,  1, -1,  1, -1, -1, -1,  1]])"
      ]
     },
     "execution_count": 56,
     "metadata": {},
     "output_type": "execute_result"
    }
   ],
   "source": [
    "initial(10)"
   ]
  },
  {
   "cell_type": "code",
   "execution_count": 57,
   "metadata": {},
   "outputs": [],
   "source": [
    "def mcstep(states,beta,B): #A Metropolis step in this monte carlo simulation\n",
    "    \n",
    "    for i in range(N):\n",
    "        for j in range(N):\n",
    "            ind1 = np.random.randint(0,N) #randomly select a state to flip it\n",
    "            ind2 = np.random.randint(0,N)\n",
    "            s = states[ind1,ind2]\n",
    "            DS = states[(ind1+1)%N,ind2] + states[ind1,(ind2+1)%N] + states[(ind1-1)%N,ind2] + states[ind1,(ind2-1)%N]\n",
    "            dE = 2*s*(DS+B)\n",
    "            \n",
    "            if dE<0:\n",
    "                s = s*(-1)\n",
    "                \n",
    "            elif np.random.rand()<np.exp(-dE*beta):\n",
    "                s = s*(-1)\n",
    "            \n",
    "            states[ind1,ind2] = s\n",
    "            \n",
    "    return states\n"
   ]
  },
  {
   "cell_type": "code",
   "execution_count": 58,
   "metadata": {},
   "outputs": [],
   "source": [
    "def Energy(states,B): #function that returns the energy of a given configuration\n",
    "    E = 0\n",
    "    \n",
    "    for i in range(len(states)):\n",
    "        for j in range(len(states)):\n",
    "            S = states[i,j]\n",
    "            DS = states[(i+1)%N,j] + states[i,(j+1)%N] + states[(i-1)%N,j] + states[i,(j-1)%N]\n",
    "            E = E + (-(DS+B)*S)\n",
    "    return E/4"
   ]
  },
  {
   "cell_type": "code",
   "execution_count": 59,
   "metadata": {},
   "outputs": [],
   "source": [
    "def Mag(states): #function to evaluate the magnatization\n",
    "    m = np.sum(states)\n",
    "    return m"
   ]
  },
  {
   "cell_type": "code",
   "execution_count": 60,
   "metadata": {},
   "outputs": [],
   "source": [
    "nt      = 32         #  number of temperature points\n",
    "N       = 10         #  size of the lattice(N x N)\n",
    "eqSteps = 1024       #  number of MC sweeps for equilibration\n",
    "mcSteps = 1024       #  number of MC sweeps for calculation\n",
    "\n",
    "T       = np.linspace(1.53, 3.28, nt); \n",
    "\n",
    "E,M,C,X = np.zeros(nt), np.zeros(nt), np.zeros(nt), np.zeros(nt)\n",
    "\n",
    "n1, n2  = 1.0/(mcSteps*N*N), 1.0/(mcSteps*mcSteps*N*N) "
   ]
  },
  {
   "cell_type": "code",
   "execution_count": 61,
   "metadata": {},
   "outputs": [],
   "source": [
    "for tt in range(nt):\n",
    "    E1 = M1 = E2 = M2 = 0\n",
    "    config = initial(N)\n",
    "    iT=1.0/T[tt]; iT2=iT*iT;\n",
    "    \n",
    "    for i in range(eqSteps):           # equilibrate\n",
    "        mcstep(config, iT,0)           # Monte Carlo moves\n",
    "    \n",
    "    \n",
    "    for i in range(mcSteps):\n",
    "        mcstep(config, iT,0) \n",
    "        Ene = Energy(config,0)   # calculate the energy\n",
    "        mag = Mag(config)        # calculate the magnetisation\n",
    "\n",
    "        E1 = E1 + Ene\n",
    "        M1 = M1 + mag\n",
    "        M2 = M2 + mag*mag \n",
    "        E2 = E2 + Ene*Ene\n",
    "\n",
    "    E[tt] = n1*E1\n",
    "    M[tt] = n1*M1\n",
    "    C[tt] = (n1*E2 - n2*E1*E1)*iT2 #specific heat capacity\n",
    "    X[tt] = (n1*M2 - n2*M1*M1)*iT  #susceptibiltiy"
   ]
  },
  {
   "cell_type": "code",
   "execution_count": 63,
   "metadata": {},
   "outputs": [
    {
     "data": {
      "image/png": "[encoded data removed]",
      "text/plain": [
       "<Figure size 432x288 with 1 Axes>"
      ]
     },
     "metadata": {
      "needs_background": "light"
     },
     "output_type": "display_data"
    }
   ],
   "source": [
    "plt.scatter(T, E, s=50, marker='o', color='Red')\n",
    "plt.xlabel(\"Temperature\")\n",
    "plt.ylabel(\"Energy\")\n",
    "plt.grid()"
   ]
  },
  {
   "cell_type": "code",
   "execution_count": 65,
   "metadata": {},
   "outputs": [
    {
     "data": {
      "image/png": "[encoded data removed]",
      "text/plain": [
       "<Figure size 432x288 with 1 Axes>"
      ]
     },
     "metadata": {
      "needs_background": "light"
     },
     "output_type": "display_data"
    }
   ],
   "source": [
    "plt.scatter(T, abs(M), s=50, marker='o', color='Black')\n",
    "plt.xlabel(\"Temperature\")\n",
    "plt.ylabel(\"Magnetization\")\n",
    "plt.grid()"
   ]
  },
  {
   "cell_type": "code",
   "execution_count": 66,
   "metadata": {},
   "outputs": [
    {
     "data": {
      "image/png": "[encoded data removed]",
      "text/plain": [
       "<Figure size 432x288 with 1 Axes>"
      ]
     },
     "metadata": {
      "needs_background": "light"
     },
     "output_type": "display_data"
    }
   ],
   "source": [
    "plt.scatter(T,C, s=50, marker='o', color='Blue')\n",
    "plt.xlabel(\"Temperature\")\n",
    "plt.ylabel(\"Specific Heat\")\n",
    "plt.grid()"
   ]
  },
  {
   "cell_type": "code",
   "execution_count": 69,
   "metadata": {},
   "outputs": [
    {
     "data": {
      "image/png": "[encoded data removed]",
      "text/plain": [
       "<Figure size 432x288 with 1 Axes>"
      ]
     },
     "metadata": {
      "needs_background": "light"
     },
     "output_type": "display_data"
    }
   ],
   "source": [
    "plt.scatter(T,X, s=50, marker='o', color='Green')\n",
    "plt.xlabel(\"Temperature\")\n",
    "plt.ylabel(\"Susceptibility\")\n",
    "plt.grid()"
   ]
  },
  {
   "cell_type": "markdown",
   "metadata": {},
   "source": [
    "The singularities encountered above indicates the presence of a phase transition in the 2D Ising Model"
   ]
  }
 ],
 "metadata": {
  "kernelspec": {
   "display_name": "Python 3.7.7 64-bit ('base': conda)",
   "language": "python",
   "name": "python37764bitbaseconda781db70e088b4a4896d6b91912286919"
  },
  "language_info": {
   "codemirror_mode": {
    "name": "ipython",
    "version": 3
   },
   "file_extension": ".py",
   "mimetype": "text/x-python",
   "name": "python",
   "nbconvert_exporter": "python",
   "pygments_lexer": "ipython3",
   "version": "3.7.7"
  }
 },
 "nbformat": 4,
 "nbformat_minor": 4
}
