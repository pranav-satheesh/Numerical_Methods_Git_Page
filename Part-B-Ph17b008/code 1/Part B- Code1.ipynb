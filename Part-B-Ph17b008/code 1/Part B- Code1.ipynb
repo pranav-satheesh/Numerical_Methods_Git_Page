{
 "cells": [
  {
   "cell_type": "markdown",
   "metadata": {},
   "source": [
    "## Lennard-Jones Potential\n",
    "\n",
    "$V = 4\\epsilon [(\\frac{\\sigma}{r})^{12} - (\\frac{\\sigma}{r})^6]$"
   ]
  },
  {
   "cell_type": "code",
   "execution_count": 22,
   "metadata": {},
   "outputs": [],
   "source": [
    "import numpy as np\n",
    "import matplotlib.pyplot as plt"
   ]
  },
  {
   "cell_type": "code",
   "execution_count": 23,
   "metadata": {},
   "outputs": [],
   "source": [
    "def V(r,sigma,epsilon):\n",
    "    return 4*epsilon*((sigma/r)**12 - (sigma/r)**6)"
   ]
  },
  {
   "cell_type": "code",
   "execution_count": 24,
   "metadata": {},
   "outputs": [
    {
     "data": {
      "image/png": "[encoded data removed]",
      "text/plain": [
       "<Figure size 432x432 with 1 Axes>"
      ]
     },
     "metadata": {
      "needs_background": "light"
     },
     "output_type": "display_data"
    }
   ],
   "source": [
    "r = np.linspace(0.01,3.0,num=500)\n",
    "\n",
    "\n",
    "plt.figure(figsize=[6,6])\n",
    "plt.axhline(0, color='grey',linestyle='--',linewidth=2)\n",
    "plt.axvline(1, color='grey',linestyle='--',linewidth=2)\n",
    "plt.plot(r,V(r,1,1))\n",
    "plt.xlim([0.0,3.0])\n",
    "plt.ylim([-1.5,1.5])\n",
    "plt.title(\"Lennard-Jones Potential\")\n",
    "plt.xlabel(\"$r/\\sigma$\")\n",
    "plt.ylabel(\"$V/\\epsilon$\")\n",
    "plt.grid()\n",
    "plt.savefig(\"LJpoten.pdf\")"
   ]
  },
  {
   "cell_type": "markdown",
   "metadata": {},
   "source": [
    "The Lennard-Jones potential has a zero around $r=\\sigma$. Let's verify this using a root finding algorithm"
   ]
  },
  {
   "cell_type": "code",
   "execution_count": 25,
   "metadata": {},
   "outputs": [],
   "source": [
    "#redifing the potential in this unit:\n",
    "\n",
    "def V(r):\n",
    "    return 4*((1.0/r)**12 - (1.0/r)**6)"
   ]
  },
  {
   "cell_type": "code",
   "execution_count": 26,
   "metadata": {},
   "outputs": [],
   "source": [
    "def bisection(f,a,b,N):\n",
    "\n",
    "    if f(a)*f(b) >= 0:\n",
    "        print(\"Bisection method fails.\")\n",
    "        return None\n",
    "    \n",
    "    a_n = a\n",
    "    b_n = b\n",
    "    \n",
    "    for n in range(1,N+1):\n",
    "        m_n = (a_n + b_n)/2\n",
    "        f_m_n = f(m_n)\n",
    "        \n",
    "        if f(a_n)*f_m_n < 0:\n",
    "            a_n = a_n\n",
    "            b_n = m_n\n",
    "            \n",
    "        elif f(b_n)*f_m_n < 0:\n",
    "            a_n = m_n\n",
    "            b_n = b_n\n",
    "            \n",
    "        elif f_m_n == 0:\n",
    "            print(\"Found exact solution.\")\n",
    "            return m_n\n",
    "    \n",
    "        else:\n",
    "            print(\"Bisection method fails.\")\n",
    "            return None\n",
    "        \n",
    "    return (a_n + b_n)/2\n"
   ]
  },
  {
   "cell_type": "code",
   "execution_count": 27,
   "metadata": {},
   "outputs": [
    {
     "name": "stdout",
     "output_type": "stream",
     "text": [
      "Found exact solution.\n"
     ]
    },
    {
     "data": {
      "text/plain": [
       "1.0"
      ]
     },
     "execution_count": 27,
     "metadata": {},
     "output_type": "execute_result"
    }
   ],
   "source": [
    "bisection(V,0.1,1.1,100)"
   ]
  },
  {
   "cell_type": "markdown",
   "metadata": {},
   "source": [
    "### Therefore, At $r=\\sigma$, the potential V=0"
   ]
  },
  {
   "cell_type": "markdown",
   "metadata": {},
   "source": [
    "The force in this case is:\n",
    "\n",
    "$F = 48 \\epsilon (\\frac{\\sigma^{12}}{r^{13}})-24\\epsilon (\\frac{\\sigma^6}{r^7})$\n",
    "\n",
    "The force, F=0 at $r = \\sigma*(2)^{1/6}$\n",
    "\n",
    "For $\\sigma = 1$, $r= 2^{1/6}$. Let's verify this."
   ]
  },
  {
   "cell_type": "code",
   "execution_count": 32,
   "metadata": {},
   "outputs": [
    {
     "data": {
      "image/png": "[encoded data removed]",
      "text/plain": [
       "<Figure size 432x288 with 1 Axes>"
      ]
     },
     "metadata": {
      "needs_background": "light"
     },
     "output_type": "display_data"
    }
   ],
   "source": [
    "def lj_force(r, epsilon, sigma):\n",
    " \n",
    "    return 48 * epsilon * np.power(\n",
    "        sigma, 12) / np.power(\n",
    "        r, 13) - 24 * epsilon * np.power(\n",
    "        sigma, 6) / np.power(r, 7)\n",
    "    \n",
    "r = np.linspace(0.01, 2, 1000)\n",
    "plt.plot(r, lj_force(r,1,1))\n",
    "plt.xlabel(\"$r/\\sigma$\")\n",
    "plt.ylabel(\"$V/\\epsilon$\")\n",
    "plt.xlim([0.8,1.5])\n",
    "plt.ylim(-10,100)\n",
    "plt.axhline(0, color='grey',linestyle='--',linewidth=2)\n",
    "plt.title(\"Force vs r\")\n",
    "plt.grid()\n",
    "plt.savefig(\"Fvr.pdf\")"
   ]
  },
  {
   "cell_type": "code",
   "execution_count": 33,
   "metadata": {},
   "outputs": [],
   "source": [
    "def ljf(r):\n",
    " \n",
    "    return 48 * 1.0/ np.power(\n",
    "        r, 13) - 24 * 1.0/ np.power(r, 7)"
   ]
  },
  {
   "cell_type": "code",
   "execution_count": 34,
   "metadata": {},
   "outputs": [
    {
     "data": {
      "text/plain": [
       "1.122462048309373"
      ]
     },
     "execution_count": 34,
     "metadata": {},
     "output_type": "execute_result"
    }
   ],
   "source": [
    "bisection(ljf,1.0,1.2,1000)"
   ]
  },
  {
   "cell_type": "code",
   "execution_count": 35,
   "metadata": {},
   "outputs": [
    {
     "data": {
      "text/plain": [
       "1.122462048309373"
      ]
     },
     "execution_count": 35,
     "metadata": {},
     "output_type": "execute_result"
    }
   ],
   "source": [
    "np.power(2,1/6)"
   ]
  },
  {
   "cell_type": "markdown",
   "metadata": {},
   "source": [
    "### The force vanishes at $r = \\sigma \\ 2^{1/6}$\n",
    "\n",
    "Hence confirmed!"
   ]
  },
  {
   "cell_type": "code",
   "execution_count": 12,
   "metadata": {},
   "outputs": [
    {
     "data": {
      "text/plain": [
       "-1.0"
      ]
     },
     "execution_count": 12,
     "metadata": {},
     "output_type": "execute_result"
    }
   ],
   "source": [
    "V(2**(1/6))"
   ]
  },
  {
   "cell_type": "markdown",
   "metadata": {},
   "source": [
    "### The value of potential at $r_{min} = \\sigma 2^{1/6}$ is -$\\epsilon$\n",
    "\n",
    "This is the minimum energy required to break the bond and tear the atom apart!"
   ]
  },
  {
   "cell_type": "code",
   "execution_count": null,
   "metadata": {},
   "outputs": [],
   "source": []
  }
 ],
 "metadata": {
  "kernelspec": {
   "display_name": "Python 3.7.7 64-bit ('base': conda)",
   "language": "python",
   "name": "python37764bitbaseconda781db70e088b4a4896d6b91912286919"
  },
  "language_info": {
   "codemirror_mode": {
    "name": "ipython",
    "version": 3
   },
   "file_extension": ".py",
   "mimetype": "text/x-python",
   "name": "python",
   "nbconvert_exporter": "python",
   "pygments_lexer": "ipython3",
   "version": "3.7.7"
  }
 },
 "nbformat": 4,
 "nbformat_minor": 4
}
